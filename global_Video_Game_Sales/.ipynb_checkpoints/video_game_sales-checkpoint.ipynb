{
 "cells": [
  {
   "cell_type": "markdown",
   "id": "a805c7b4-560e-4bc2-a6ac-005fc0fc14f8",
   "metadata": {},
   "source": [
    "## Setups"
   ]
  },
  {
   "cell_type": "code",
   "execution_count": 1,
   "id": "94af53e5-60a2-4216-beef-4922a5408c2f",
   "metadata": {},
   "outputs": [],
   "source": [
    "import pandas as pd\n",
    "import numpy as np\n",
    "import matplotlib.pyplot as plt\n",
    "import seaborn as sns"
   ]
  },
  {
   "cell_type": "code",
   "execution_count": 2,
   "id": "26a76978-4c69-4da8-8c4d-e07fa9c3e878",
   "metadata": {
    "jupyter": {
     "is_executing": true
    }
   },
   "outputs": [],
   "source": [
    "# \tField\tDescription\n",
    "\n",
    "# 1\timg\tURL slug for the box art at vgchartz.com\n",
    "# 2\ttitle\tGame title\n",
    "# 3\tconsole\tConsole the game was released for\n",
    "# 4\tgenre\tGenre of the game\n",
    "# 5\tpublisher\tPublisher of the game\n",
    "# 6\tdeveloper\tDeveloper of the game\n",
    "# 7\tcritic_score\tMetacritic score (out of 10)\n",
    "# 8\ttotal_sales\tGlobal sales of copies in millions\n",
    "# 9\tna_sales\tNorth American sales of copies in millions\n",
    "# 10\tjp_sales\tJapanese sales of copies in millions\n",
    "# 11\tpal_sales\tEuropean & African sales of copies in millions\n",
    "# 12\tother_sales\tRest of world sales of copies in millions\n",
    "# 13\trelease_date\tDate the game was released on\n",
    "# 14\tlast_update\tDate the data was last updated"
   ]
  },
  {
   "cell_type": "code",
   "execution_count": 3,
   "id": "36d8ecaf-9686-46bd-8bca-fdd9f47c1791",
   "metadata": {},
   "outputs": [],
   "source": [
    "# Recommended Analysis\n",
    "# Which titles sold the most worldwide?\n",
    "# Which year had the highest sales? Is the industry growing over time?\n",
    "# Do any consoles seem to specialise in a particular genre?\n",
    "# What titles are popular in one region but flop in another?"
   ]
  },
  {
   "cell_type": "markdown",
   "id": "f1995c29-68db-48ae-89ff-0e2027f43b94",
   "metadata": {},
   "source": [
    "## Stage 1: Data Validation & Cleaning"
   ]
  },
  {
   "cell_type": "code",
   "execution_count": 5,
   "id": "c49f57f8-e4b2-4ce1-9400-a70bb3738127",
   "metadata": {},
   "outputs": [],
   "source": [
    "df = pd.read_csv(\"vgchartz-2024.csv\")"
   ]
  },
  {
   "cell_type": "code",
   "execution_count": null,
   "id": "235398ac-5fca-44d0-9ce8-c942aa4ad126",
   "metadata": {},
   "outputs": [],
   "source": [
    "# Drop leakage-prone ID columns\n",
    "drop_cols = [\"img\"]\n",
    "df = df.drop(columns=[c for c in drop_cols if c in df.columns])"
   ]
  },
  {
   "cell_type": "code",
   "execution_count": null,
   "id": "c25f3afd-43f6-4b63-9cb4-543ca3330336",
   "metadata": {},
   "outputs": [],
   "source": [
    "df.describe()"
   ]
  },
  {
   "cell_type": "code",
   "execution_count": null,
   "id": "681f697b-9b56-4043-998c-6eb22390081b",
   "metadata": {},
   "outputs": [],
   "source": [
    "df.info()"
   ]
  },
  {
   "cell_type": "code",
   "execution_count": null,
   "id": "e2af19c4-07fd-4828-9548-9ae9305a0bc3",
   "metadata": {},
   "outputs": [],
   "source": [
    "df.shape"
   ]
  },
  {
   "cell_type": "code",
   "execution_count": null,
   "id": "0a9d29bb-25ce-48de-940d-36e5621ba5f3",
   "metadata": {},
   "outputs": [],
   "source": [
    "# Remove Duplicated rows\n",
    "df.duplicated().sum()\n",
    "df = df.drop_duplicates()"
   ]
  },
  {
   "cell_type": "code",
   "execution_count": null,
   "id": "7b435d35-793f-4857-b7ca-6b736ca1141a",
   "metadata": {},
   "outputs": [],
   "source": [
    "df.shape"
   ]
  },
  {
   "cell_type": "code",
   "execution_count": null,
   "id": "db4a69aa-3514-4c8c-9fb4-486510bd21c4",
   "metadata": {},
   "outputs": [],
   "source": [
    "df.isna().sum()"
   ]
  },
  {
   "cell_type": "code",
   "execution_count": null,
   "id": "e8637a7f-daf1-4d15-86ec-4a0c22bd800a",
   "metadata": {},
   "outputs": [],
   "source": [
    "# if total_sales = NaN :. all sales = 0\n",
    "mask_nan = df['na_sales'].isna()\n",
    "df.loc[mask_nan, ['na_sales']] = 0\n",
    "\n",
    "mask_nan = df['jp_sales'].isna()\n",
    "df.loc[mask_nan, ['jp_sales']] = 0\n",
    "\n",
    "mask_nan = df['pal_sales'].isna()\n",
    "df.loc[mask_nan, ['pal_sales']] = 0\n",
    "\n",
    "mask_nan = df['other_sales'].isna()\n",
    "df.loc[mask_nan, ['other_sales']] = 0\n",
    "\n",
    "mask_nan = df['total_sales'].isna()\n",
    "df.loc[mask_nan, 'total_sales'] = 0"
   ]
  },
  {
   "cell_type": "code",
   "execution_count": null,
   "id": "0b6053f7-056a-4acd-b89c-b4e836532ac1",
   "metadata": {},
   "outputs": [],
   "source": [
    "# df = df.assign(critic_score=df['critic_score'].fillna(0))\n",
    "df[\"critic_score\"] = df[\"critic_score\"].fillna(df[\"critic_score\"].median())"
   ]
  },
  {
   "cell_type": "code",
   "execution_count": null,
   "id": "b1826e23-9970-4344-9b9d-3a5cc64de651",
   "metadata": {},
   "outputs": [],
   "source": [
    "df.isna().sum()"
   ]
  },
  {
   "cell_type": "code",
   "execution_count": null,
   "id": "e5efff87-0ddb-4db8-a928-8e6f959e860e",
   "metadata": {},
   "outputs": [],
   "source": [
    "date_cols = ['release_date', 'last_update']\n",
    "df[date_cols] = df[date_cols].apply(pd.to_datetime, errors='coerce')"
   ]
  },
  {
   "cell_type": "code",
   "execution_count": null,
   "id": "e7e1b77e-51b2-484e-89a1-b4c47b331c7a",
   "metadata": {},
   "outputs": [],
   "source": [
    "df.info()"
   ]
  },
  {
   "cell_type": "code",
   "execution_count": null,
   "id": "6ea3a9f1-c5d4-477f-a3d5-4e6dc8100947",
   "metadata": {},
   "outputs": [],
   "source": [
    "df.isna().sum()"
   ]
  },
  {
   "cell_type": "code",
   "execution_count": null,
   "id": "5dca0e90-12ec-4e8d-900c-a977c5339124",
   "metadata": {},
   "outputs": [],
   "source": [
    "df"
   ]
  },
  {
   "cell_type": "code",
   "execution_count": null,
   "id": "585394ab-32cf-40bf-87d0-a0ab93830ba5",
   "metadata": {},
   "outputs": [],
   "source": [
    "print(df['release_date'].min(), df['release_date'].max())\n",
    "print(df['last_update'].min(), df['last_update'].max())"
   ]
  },
  {
   "cell_type": "code",
   "execution_count": null,
   "id": "f563c5f0-13d3-490a-aabe-8c0db9240cc7",
   "metadata": {},
   "outputs": [],
   "source": [
    "df.isna().sum()"
   ]
  },
  {
   "cell_type": "code",
   "execution_count": null,
   "id": "2264b5b6-6e65-4d23-8c07-ca2325bc589a",
   "metadata": {},
   "outputs": [],
   "source": [
    "df['last_update'] = df['last_update'].fillna(df['release_date'])"
   ]
  },
  {
   "cell_type": "code",
   "execution_count": null,
   "id": "32050dd3-1068-4297-81b8-1db462fdc1ef",
   "metadata": {},
   "outputs": [],
   "source": [
    "df.isna().sum()"
   ]
  },
  {
   "cell_type": "code",
   "execution_count": null,
   "id": "ba911e37-1417-4a30-84ce-ec75ea96dd2f",
   "metadata": {},
   "outputs": [],
   "source": [
    "df['developer'] = df['developer'].fillna(df['publisher'])"
   ]
  },
  {
   "cell_type": "code",
   "execution_count": null,
   "id": "438a5ed7-600e-4b4a-a3fa-4e305c340b12",
   "metadata": {},
   "outputs": [],
   "source": [
    "df\n",
    "df.isna().sum()"
   ]
  },
  {
   "cell_type": "code",
   "execution_count": null,
   "id": "508e4e1b-6300-4127-9c92-d34598644fdc",
   "metadata": {},
   "outputs": [],
   "source": [
    "df.dropna(inplace=True)"
   ]
  },
  {
   "cell_type": "code",
   "execution_count": null,
   "id": "091cd9a1-c677-4fc1-b0d7-af4a31c81513",
   "metadata": {},
   "outputs": [],
   "source": [
    "df.isna().sum()"
   ]
  },
  {
   "cell_type": "code",
   "execution_count": null,
   "id": "bd12ff86-df15-4a4c-893f-88436fe57e59",
   "metadata": {},
   "outputs": [],
   "source": [
    "df.info()"
   ]
  },
  {
   "cell_type": "code",
   "execution_count": null,
   "id": "9344ccf6-d685-43d6-b4c0-83d9fb7094d0",
   "metadata": {},
   "outputs": [],
   "source": [
    "df[['title','console', 'genre', 'publisher', 'developer']].nunique()"
   ]
  },
  {
   "cell_type": "code",
   "execution_count": null,
   "id": "d86365b7-92a9-49fb-be2a-69c39d06d682",
   "metadata": {},
   "outputs": [],
   "source": [
    "df[['title','console', 'genre', 'publisher', 'developer']].value_counts()"
   ]
  },
  {
   "cell_type": "code",
   "execution_count": null,
   "id": "7be84b51-ab71-4500-a78f-c4c979a6a34d",
   "metadata": {},
   "outputs": [],
   "source": [
    "df.describe()"
   ]
  },
  {
   "cell_type": "code",
   "execution_count": null,
   "id": "55b248ec-7040-40cc-91b5-92e76100efda",
   "metadata": {},
   "outputs": [],
   "source": [
    "df[df['critic_score'] > 10]"
   ]
  },
  {
   "cell_type": "code",
   "execution_count": null,
   "id": "0356e6fb-04bc-4865-866e-e8a39be1fbca",
   "metadata": {},
   "outputs": [],
   "source": [
    "df[df.duplicated()]"
   ]
  },
  {
   "cell_type": "code",
   "execution_count": null,
   "id": "579e3929-a98a-420b-9a51-23de89fdae12",
   "metadata": {},
   "outputs": [],
   "source": [
    "df[df['title'] == \"Battle of the Bands\"]"
   ]
  },
  {
   "cell_type": "code",
   "execution_count": null,
   "id": "6dcb17b5-5cae-491e-aa1d-9f925facfee8",
   "metadata": {},
   "outputs": [],
   "source": [
    "df.drop_duplicates(inplace=True)"
   ]
  },
  {
   "cell_type": "code",
   "execution_count": null,
   "id": "dd4b15db-b263-4d79-95dd-004a865b0b3e",
   "metadata": {},
   "outputs": [],
   "source": [
    "df[df['title'] == \"Battle of the Bands\"]"
   ]
  },
  {
   "cell_type": "code",
   "execution_count": null,
   "id": "714146f6-22ca-402e-9bc7-c4047ae97a34",
   "metadata": {},
   "outputs": [],
   "source": [
    "df.describe(include=\"all\").T\n"
   ]
  },
  {
   "cell_type": "code",
   "execution_count": null,
   "id": "06fb89e8-77e0-4b51-b930-ea34935b5785",
   "metadata": {},
   "outputs": [],
   "source": [
    "df.shape"
   ]
  },
  {
   "cell_type": "markdown",
   "id": "30e06ab7-4711-4670-8850-410708f65c53",
   "metadata": {
    "jp-MarkdownHeadingCollapsed": true
   },
   "source": [
    "## Stage 2: Exploratory Data Analysis (EDA)"
   ]
  },
  {
   "cell_type": "markdown",
   "id": "33fa4503-610d-4431-8411-5c1e132c3128",
   "metadata": {
    "jp-MarkdownHeadingCollapsed": true
   },
   "source": [
    "### 2.1 Global Bestsellers"
   ]
  },
  {
   "cell_type": "code",
   "execution_count": null,
   "id": "7307b6a9-09e0-4b55-b830-faec4ec3926a",
   "metadata": {},
   "outputs": [],
   "source": [
    "# Top 10 games by total sales\n",
    "top_games = df[[\"title\", \"total_sales\"]].groupby(\"title\", as_index=False).agg({\n",
    "    \"total_sales\":\"sum\"\n",
    "}).sort_values('total_sales', ascending=False).head(10)\n",
    "plt.figure(figsize=(10,6))\n",
    "sns.barplot(x=\"total_sales\", y=\"title\", data=top_games, dodge=False)\n",
    "plt.title(\"Top 10 Best-Selling Games (Worldwide)\")\n",
    "plt.xlabel(\"Total Sales (Millions)\")\n",
    "plt.ylabel(\"Game Title\")\n",
    "plt.show()\n",
    "# Grant Theft Auto V"
   ]
  },
  {
   "cell_type": "markdown",
   "id": "9c74eeab-e93c-4890-815c-5dcc4c696fab",
   "metadata": {
    "jp-MarkdownHeadingCollapsed": true
   },
   "source": [
    "### 2.2 Industry over time"
   ]
  },
  {
   "cell_type": "code",
   "execution_count": null,
   "id": "670c1605-0921-4812-838e-fb74e6e66654",
   "metadata": {},
   "outputs": [],
   "source": [
    "# Extract release year\n",
    "df[\"release_year\"] = pd.to_datetime(df[\"release_date\"], errors=\"coerce\").dt.year"
   ]
  },
  {
   "cell_type": "code",
   "execution_count": null,
   "id": "27f8506b-309d-44ab-9b98-fe8a174aea6b",
   "metadata": {},
   "outputs": [],
   "source": [
    "# Sales per year\n",
    "sales_per_year = df.groupby(\"release_year\")[\"total_sales\"].sum().reset_index()\n",
    "\n",
    "plt.figure(figsize=(12,6))\n",
    "sns.lineplot(x=\"release_year\", y=\"total_sales\", data=sales_per_year, marker=\"o\")\n",
    "plt.title(\"Global Video Game Sales Over Time\")\n",
    "plt.xlabel(\"Release Year\")\n",
    "plt.ylabel(\"Total Sales (Millions)\")\n",
    "plt.show()"
   ]
  },
  {
   "cell_type": "code",
   "execution_count": null,
   "id": "f37e0d93-79d1-4c9c-9183-f8b3e10c81e1",
   "metadata": {},
   "outputs": [],
   "source": [
    "sales_per_year.sort_values('total_sales', ascending=False).head(5)"
   ]
  },
  {
   "cell_type": "markdown",
   "id": "e7d75eff-70cb-4913-90f1-0aa94a533d96",
   "metadata": {
    "jp-MarkdownHeadingCollapsed": true
   },
   "source": [
    "### 2.3 Console vs. Genre"
   ]
  },
  {
   "cell_type": "code",
   "execution_count": null,
   "id": "6ab889a9-43ab-4e42-a131-fc05ff1a2fc1",
   "metadata": {},
   "outputs": [],
   "source": [
    "dw = pd.read_csv(\"vgchartz-2024.csv\")\n",
    "console_genre = dw.pivot_table(values=\"total_sales\",\n",
    "                               index=\"genre\", \n",
    "                               columns=\"console\", \n",
    "                               aggfunc=\"sum\", \n",
    "                               fill_value=0)\n",
    "\n",
    "plt.figure(figsize=(14,7))\n",
    "sns.heatmap(console_genre, cmap=\"YlGnBu\", linewidths=.5)\n",
    "plt.title(\"Total Sales by Console & Genre\")\n",
    "plt.xlabel(\"Console\")\n",
    "plt.ylabel(\"Genre\")\n",
    "plt.show()"
   ]
  },
  {
   "cell_type": "code",
   "execution_count": null,
   "id": "fe214fa1-e923-421b-a94d-700d818775ee",
   "metadata": {},
   "outputs": [],
   "source": [
    "# Do any consoles seem to specialise in a particular genre?\n",
    "console_genre_total_sales = df[[\"console\", \"genre\", \"total_sales\"]].groupby([\"console\", \"genre\"], as_index=False).agg({\n",
    "    \"total_sales\":\"sum\"\n",
    "})\n",
    "console_genre_total_sales.sort_values('total_sales', ascending=False).head(10)"
   ]
  },
  {
   "cell_type": "code",
   "execution_count": null,
   "id": "12ccb5df-3ac0-4811-bfe7-f31bf3e449ed",
   "metadata": {},
   "outputs": [],
   "source": [
    "# console genre title count\n",
    "\n",
    "console_genre_count = df[[\"console\", \"genre\"]]\n",
    "console_genre_count['count'] = 1\n",
    "console_genre_count_group = console_genre_count.groupby([\"console\", \"genre\"], as_index=False)\n",
    "console_genre_count = console_genre_count_group.agg({\n",
    "    \"count\":\"sum\"\n",
    "}).sort_values('count', ascending=False)\n",
    "console_genre_count.head(30)"
   ]
  },
  {
   "cell_type": "code",
   "execution_count": null,
   "id": "a6c08a06-ef51-491e-9a20-0cc2127a8ee8",
   "metadata": {},
   "outputs": [],
   "source": [
    "# console genre with the most titles\n",
    "console_genre_count.drop_duplicates(subset='console', keep='first')"
   ]
  },
  {
   "cell_type": "markdown",
   "id": "1422720e-58b1-4c67-8f16-e5b7ffe31e60",
   "metadata": {},
   "source": [
    "### 2.4 Regional Bestsellers"
   ]
  },
  {
   "cell_type": "code",
   "execution_count": null,
   "id": "198e7ce5-7222-4f25-bde0-01023ec1b3ce",
   "metadata": {},
   "outputs": [],
   "source": [
    "# Compare sales across na_sales, jp_sales, pal_sales, other_sales.\n",
    "# Action: Scatter plots (NA vs JP, PAL vs NA, etc.) + highlight outliers.\n",
    "# Result: Identifies culturally specific hits.\n",
    "\n",
    "df[[\"title\", \"genre\", \"total_sales\"]]\n",
    "# first their total sales\n",
    "# their most sold title (What titles are regional hits/flops?)\n",
    "# their total sales across the year"
   ]
  },
  {
   "cell_type": "code",
   "execution_count": null,
   "id": "33f11cc0-fdb2-453e-8763-b6257c4a097a",
   "metadata": {},
   "outputs": [],
   "source": [
    "# Do any consoles seem to specialise in a particular genre?\n",
    "sales = df[[\"title\", \"total_sales\", \"na_sales\", \"jp_sales\", \"pal_sales\", \"other_sales\"]].groupby([\"title\"], as_index=False).agg({\n",
    "    \"total_sales\":\"sum\",\n",
    "    \"na_sales\":\"sum\",\n",
    "    \"jp_sales\":\"sum\",\n",
    "    \"pal_sales\":\"sum\",\n",
    "    \"other_sales\":\"sum\"\n",
    "})\n",
    "sales.head()"
   ]
  },
  {
   "cell_type": "code",
   "execution_count": null,
   "id": "f39537c8-369f-436d-ae13-ed52a77f3b63",
   "metadata": {},
   "outputs": [],
   "source": [
    "# Define a helper function\n",
    "def top_and_bottom_by_region(df, region):\n",
    "    region_sales = df[[\"title\", region]]\n",
    "    top_titles = region_sales.sort_values(by=region, ascending=False)\n",
    "    bottom_titles = region_sales.sort_values(by=region, ascending=True)\n",
    "    return top_titles, bottom_titles\n",
    "\n",
    "# Example for NA region\n",
    "top_total, bottom_total = top_and_bottom_by_region(sales, \"total_sales\")\n",
    "top_na, bottom_na = top_and_bottom_by_region(sales, \"na_sales\")\n",
    "top_jp, bottom_jp = top_and_bottom_by_region(sales, \"jp_sales\")\n",
    "top_pal, bottom_pal = top_and_bottom_by_region(sales, \"pal_sales\")\n",
    "top_other, bottom_other = top_and_bottom_by_region(sales, \"other_sales\")\n",
    "\n",
    "print(\"Top 5 Games (Global)\")\n",
    "display(top_total.head().reset_index(drop=True))\n",
    "print(\"\\nWorst 5 Games (Global - non-zero sales)\")\n",
    "display(bottom_total[bottom_total[\"total_sales\"] > 0].head().reset_index(drop=True))\n",
    "\n",
    "print(\"Top 5 Games in North America\")\n",
    "display(top_na.head().reset_index(drop=True))\n",
    "print(\"\\nWorst 5 Games in North America (non-zero sales)\")\n",
    "display(bottom_na[bottom_na[\"na_sales\"] > 0].head().reset_index(drop=True))\n",
    "\n",
    "print(\"Top 5 Games in Japan\")\n",
    "display(top_jp.head().reset_index(drop=True))\n",
    "print(\"\\nWorst 5 Games in Japan (non-zero sales)\")\n",
    "display(bottom_jp[bottom_jp[\"jp_sales\"] > 0].head().reset_index(drop=True))\n",
    "\n",
    "print(\"Top 5 Games in European & African\")\n",
    "display(top_pal.head().reset_index(drop=True))\n",
    "print(\"\\nWorst 5 Games in European & African (non-zero sales)\")\n",
    "display(bottom_pal[bottom_pal[\"pal_sales\"] > 0].head().reset_index(drop=True))\n",
    "\n",
    "print(\"Top 5 Games (Rest of world)\")\n",
    "display(top_other.head().reset_index(drop=True))\n",
    "print(\"\\nWorst 5 Games (Rest of world)\")\n",
    "display(bottom_other[bottom_other[\"other_sales\"] > 0].head().reset_index(drop=True))"
   ]
  },
  {
   "cell_type": "code",
   "execution_count": null,
   "id": "34d39310-d616-4a75-826f-bba084448efe",
   "metadata": {},
   "outputs": [],
   "source": [
    "# Total sales per region\n",
    "total_regional_sales_per_year = df[[\"na_sales\", \"jp_sales\", \"pal_sales\", \"other_sales\"]].agg({\n",
    "    \"na_sales\":\"sum\",\n",
    "    \"jp_sales\":\"sum\",\n",
    "    \"pal_sales\":\"sum\",\n",
    "    \"other_sales\":\"sum\"\n",
    "})\n",
    "total_regional_sales_per_year"
   ]
  },
  {
   "cell_type": "markdown",
   "id": "49a037ea-49f9-45ae-828f-25291839f5c7",
   "metadata": {},
   "source": [
    "### 2.5 Checking for relationship between Rating and Total sales"
   ]
  },
  {
   "cell_type": "code",
   "execution_count": null,
   "id": "5358fc4b-366e-4de7-9e17-96633e6c6c48",
   "metadata": {},
   "outputs": [],
   "source": [
    "plt.figure(figsize=(8,6))\n",
    "sns.scatterplot(x=\"critic_score\", y=\"total_sales\", data=df, alpha=0.6)\n",
    "sns.regplot(x=\"critic_score\", y=\"total_sales\", data=df, scatter=False, color=\"red\")\n",
    "plt.title(\"Critic Score vs. Total Sales\")\n",
    "plt.xlabel(\"Critic Score (out of 10)\")\n",
    "plt.ylabel(\"Total Sales (Millions)\")\n",
    "plt.show()\n",
    "\n",
    "# Correlation\n",
    "correlation = df[\"critic_score\"].corr(df[\"total_sales\"])\n",
    "print(f\"Correlation between critic score and sales: {correlation:.2f}\")\n"
   ]
  },
  {
   "cell_type": "markdown",
   "id": "3693b898-5935-4cd0-be46-7692f87196ae",
   "metadata": {
    "jp-MarkdownHeadingCollapsed": true
   },
   "source": [
    "### 2.6 Ranking of Top Publisher and Developer by Global Sales"
   ]
  },
  {
   "cell_type": "code",
   "execution_count": null,
   "id": "f514cb96-9fa4-49aa-9aed-0a1d55d6c209",
   "metadata": {},
   "outputs": [],
   "source": [
    "# Top publishers\n",
    "top_publishers = df.groupby(\"publisher\")[\"total_sales\"].sum().sort_values(ascending=False).head(10)\n",
    "\n",
    "plt.figure(figsize=(10,6))\n",
    "sns.barplot(x=top_publishers.values, y=top_publishers.index)\n",
    "plt.title(\"Top 10 Publishers by Global Sales\")\n",
    "plt.xlabel(\"Total Sales (Millions)\")\n",
    "plt.ylabel(\"Publisher\")\n",
    "plt.show()\n",
    "\n",
    "# Top developers\n",
    "top_developers = df.groupby(\"developer\")[\"total_sales\"].sum().sort_values(ascending=False).head(10)\n",
    "\n",
    "plt.figure(figsize=(10,6))\n",
    "sns.barplot(x=top_developers.values, y=top_developers.index)\n",
    "plt.title(\"Top 10 Developers by Global Sales\")\n",
    "plt.xlabel(\"Total Sales (Millions)\")\n",
    "plt.ylabel(\"Developer\")\n",
    "plt.show()"
   ]
  },
  {
   "cell_type": "markdown",
   "id": "cc3f94a7-d799-46b8-acc5-3c054f01e646",
   "metadata": {},
   "source": [
    "## Stage 3: Time Series Analysis"
   ]
  },
  {
   "cell_type": "code",
   "execution_count": null,
   "id": "7edac0e1-b188-444f-abbf-548ab752221c",
   "metadata": {},
   "outputs": [],
   "source": [
    "df"
   ]
  },
  {
   "cell_type": "markdown",
   "id": "b8a19984-e00a-4eb0-a03d-a32ba9a35bab",
   "metadata": {},
   "source": [
    "### 3.1 Aggregate Sales Over Time"
   ]
  },
  {
   "cell_type": "markdown",
   "id": "b497e347-362f-404a-b557-17e073d0045d",
   "metadata": {},
   "source": [
    "### 3.2 Console-Specific Trends"
   ]
  },
  {
   "cell_type": "markdown",
   "id": "1cebef3b-6781-41e1-a6b3-72ec90acf080",
   "metadata": {},
   "source": [
    "### 3.3 Genre-Specific Trends"
   ]
  },
  {
   "cell_type": "markdown",
   "id": "75b5867a-d4eb-4400-9d79-916d86fc2660",
   "metadata": {},
   "source": [
    "### 3.4 Regional Time  Series"
   ]
  },
  {
   "cell_type": "markdown",
   "id": "dfa87792-2e78-489a-b793-a8768b059a87",
   "metadata": {
    "jp-MarkdownHeadingCollapsed": true
   },
   "source": [
    "## Stage 4: Forecasting"
   ]
  },
  {
   "cell_type": "markdown",
   "id": "8a9861e6-dee3-4816-bd19-d1755d2e01fc",
   "metadata": {},
   "source": [
    "### 4.1"
   ]
  },
  {
   "cell_type": "markdown",
   "id": "7c76bb4c-65ed-4809-98e1-c82916cf3b86",
   "metadata": {},
   "source": [
    "### 4.1"
   ]
  },
  {
   "cell_type": "markdown",
   "id": "b045228c-ef8d-4498-8943-43788392edc1",
   "metadata": {},
   "source": [
    "### 4.1"
   ]
  },
  {
   "cell_type": "markdown",
   "id": "03079b48-a6ba-4642-bad3-7603ab329a58",
   "metadata": {},
   "source": [
    "### 4.1"
   ]
  },
  {
   "cell_type": "code",
   "execution_count": null,
   "id": "68d04bae-69eb-4fb7-8562-0c5801089d8f",
   "metadata": {},
   "outputs": [],
   "source": []
  }
 ],
 "metadata": {
  "kernelspec": {
   "display_name": "Python 3 (ipykernel)",
   "language": "python",
   "name": "python3"
  },
  "language_info": {
   "codemirror_mode": {
    "name": "ipython",
    "version": 3
   },
   "file_extension": ".py",
   "mimetype": "text/x-python",
   "name": "python",
   "nbconvert_exporter": "python",
   "pygments_lexer": "ipython3",
   "version": "3.13.5"
  }
 },
 "nbformat": 4,
 "nbformat_minor": 5
}
