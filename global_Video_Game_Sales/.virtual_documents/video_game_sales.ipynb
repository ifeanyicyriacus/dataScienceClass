


import pandas as pd
import numpy as np
import matplotlib.pyplot as plt
import seaborn as sns


# 	Field	Description

# 1	img	URL slug for the box art at vgchartz.com
# 2	title	Game title
# 3	console	Console the game was released for
# 4	genre	Genre of the game
# 5	publisher	Publisher of the game
# 6	developer	Developer of the game
# 7	critic_score	Metacritic score (out of 10)
# 8	total_sales	Global sales of copies in millions
# 9	na_sales	North American sales of copies in millions
# 10	jp_sales	Japanese sales of copies in millions
# 11	pal_sales	European & African sales of copies in millions
# 12	other_sales	Rest of world sales of copies in millions
# 13	release_date	Date the game was released on
# 14	last_update	Date the data was last updated


# Recommended Analysis
# Which titles sold the most worldwide?
# Which year had the highest sales? Is the industry growing over time?
# Do any consoles seem to specialise in a particular genre?
# What titles are popular in one region but flop in another?





# df = pd.read_csv("./vgchartz-2024.csv")


# Drop leakage-prone ID columns
drop_cols = ["img"]
df = df.drop(columns=[c for c in drop_cols if c in df.columns])


df.describe()


df.info()


df.shape


# Remove Duplicated rows
df.duplicated().sum()
df = df.drop_duplicates()


df.shape


df.isna().sum()


# if total_sales = NaN :. all sales = 0
mask_nan = df['na_sales'].isna()
df.loc[mask_nan, ['na_sales']] = 0

mask_nan = df['jp_sales'].isna()
df.loc[mask_nan, ['jp_sales']] = 0

mask_nan = df['pal_sales'].isna()
df.loc[mask_nan, ['pal_sales']] = 0

mask_nan = df['other_sales'].isna()
df.loc[mask_nan, ['other_sales']] = 0

mask_nan = df['total_sales'].isna()
df.loc[mask_nan, 'total_sales'] = 0


# df = df.assign(critic_score=df['critic_score'].fillna(0))
df["critic_score"] = df["critic_score"].fillna(df["critic_score"].median())


df.isna().sum()


date_cols = ['release_date', 'last_update']
df[date_cols] = df[date_cols].apply(pd.to_datetime, errors='coerce')


df.info()


df.isna().sum()


df


print(df['release_date'].min(), df['release_date'].max())
print(df['last_update'].min(), df['last_update'].max())


df.isna().sum()


df['last_update'] = df['last_update'].fillna(df['release_date'])


df.isna().sum()


df['developer'] = df['developer'].fillna(df['publisher'])


df
df.isna().sum()


df.dropna(inplace=True)


df.isna().sum()


df.info()


df[['title','console', 'genre', 'publisher', 'developer']].nunique()


df[['title','console', 'genre', 'publisher', 'developer']].value_counts()


df.describe()


df[df['critic_score'] > 10]


df[df.duplicated()]


df[df['title'] == "Battle of the Bands"]


df.drop_duplicates(inplace=True)


df[df['title'] == "Battle of the Bands"]


df.describe(include="all").T



df.shape








# Top 10 games by total sales
top_games = df[["title", "total_sales"]].groupby("title", as_index=False).agg({
    "total_sales":"sum"
}).sort_values('total_sales', ascending=False).head(10)
plt.figure(figsize=(10,6))
sns.barplot(x="total_sales", y="title", data=top_games, dodge=False)
plt.title("Top 10 Best-Selling Games (Worldwide)")
plt.xlabel("Total Sales (Millions)")
plt.ylabel("Game Title")
plt.show()
# Grant Theft Auto V





# Extract release year
df["release_year"] = pd.to_datetime(df["release_date"], errors="coerce").dt.year


# Sales per year
sales_per_year = df.groupby("release_year")["total_sales"].sum().reset_index()

plt.figure(figsize=(12,6))
sns.lineplot(x="release_year", y="total_sales", data=sales_per_year, marker="o")
plt.title("Global Video Game Sales Over Time")
plt.xlabel("Release Year")
plt.ylabel("Total Sales (Millions)")
plt.show()


sales_per_year.sort_values('total_sales', ascending=False).head(5)





dw = pd.read_csv("vgchartz-2024.csv")
console_genre = dw.pivot_table(values="total_sales",
                               index="genre", 
                               columns="console", 
                               aggfunc="sum", 
                               fill_value=0)

plt.figure(figsize=(14,7))
sns.heatmap(console_genre, cmap="YlGnBu", linewidths=.5)
plt.title("Total Sales by Console & Genre")
plt.xlabel("Console")
plt.ylabel("Genre")
plt.show()


# Do any consoles seem to specialise in a particular genre?
console_genre_total_sales = df[["console", "genre", "total_sales"]].groupby(["console", "genre"], as_index=False).agg({
    "total_sales":"sum"
})
console_genre_total_sales.sort_values('total_sales', ascending=False).head(10)


# console genre title count

console_genre_count = df[["console", "genre"]]
console_genre_count['count'] = 1
console_genre_count_group = console_genre_count.groupby(["console", "genre"], as_index=False)
console_genre_count = console_genre_count_group.agg({
    "count":"sum"
}).sort_values('count', ascending=False)
console_genre_count.head(30)


# console genre with the most titles
console_genre_count.drop_duplicates(subset='console', keep='first')





# Compare sales across na_sales, jp_sales, pal_sales, other_sales.
# Action: Scatter plots (NA vs JP, PAL vs NA, etc.) + highlight outliers.
# Result: Identifies culturally specific hits.

df[["title", "genre", "total_sales"]]
# first their total sales
# their most sold title (What titles are regional hits/flops?)
# their total sales across the year


# Do any consoles seem to specialise in a particular genre?
sales = df[["title", "total_sales", "na_sales", "jp_sales", "pal_sales", "other_sales"]].groupby(["title"], as_index=False).agg({
    "total_sales":"sum",
    "na_sales":"sum",
    "jp_sales":"sum",
    "pal_sales":"sum",
    "other_sales":"sum"
})
sales.head()


# Define a helper function
def top_and_bottom_by_region(df, region):
    region_sales = df[["title", region]]
    top_titles = region_sales.sort_values(by=region, ascending=False)
    bottom_titles = region_sales.sort_values(by=region, ascending=True)
    return top_titles, bottom_titles

# Example for NA region
top_total, bottom_total = top_and_bottom_by_region(sales, "total_sales")
top_na, bottom_na = top_and_bottom_by_region(sales, "na_sales")
top_jp, bottom_jp = top_and_bottom_by_region(sales, "jp_sales")
top_pal, bottom_pal = top_and_bottom_by_region(sales, "pal_sales")
top_other, bottom_other = top_and_bottom_by_region(sales, "other_sales")

print("Top 5 Games (Global)")
display(top_total.head().reset_index(drop=True))
print("\nWorst 5 Games (Global - non-zero sales)")
display(bottom_total[bottom_total["total_sales"] > 0].head().reset_index(drop=True))

print("Top 5 Games in North America")
display(top_na.head().reset_index(drop=True))
print("\nWorst 5 Games in North America (non-zero sales)")
display(bottom_na[bottom_na["na_sales"] > 0].head().reset_index(drop=True))

print("Top 5 Games in Japan")
display(top_jp.head().reset_index(drop=True))
print("\nWorst 5 Games in Japan (non-zero sales)")
display(bottom_jp[bottom_jp["jp_sales"] > 0].head().reset_index(drop=True))

print("Top 5 Games in European & African")
display(top_pal.head().reset_index(drop=True))
print("\nWorst 5 Games in European & African (non-zero sales)")
display(bottom_pal[bottom_pal["pal_sales"] > 0].head().reset_index(drop=True))

print("Top 5 Games (Rest of world)")
display(top_other.head().reset_index(drop=True))
print("\nWorst 5 Games (Rest of world)")
display(bottom_other[bottom_other["other_sales"] > 0].head().reset_index(drop=True))


# Total sales per region
total_regional_sales_per_year = df[["na_sales", "jp_sales", "pal_sales", "other_sales"]].agg({
    "na_sales":"sum",
    "jp_sales":"sum",
    "pal_sales":"sum",
    "other_sales":"sum"
})
total_regional_sales_per_year





plt.figure(figsize=(8,6))
sns.scatterplot(x="critic_score", y="total_sales", data=df, alpha=0.6)
sns.regplot(x="critic_score", y="total_sales", data=df, scatter=False, color="red")
plt.title("Critic Score vs. Total Sales")
plt.xlabel("Critic Score (out of 10)")
plt.ylabel("Total Sales (Millions)")
plt.show()

# Correlation
correlation = df["critic_score"].corr(df["total_sales"])
print(f"Correlation between critic score and sales: {correlation:.2f}")






# Top publishers
top_publishers = df.groupby("publisher")["total_sales"].sum().sort_values(ascending=False).head(10)

plt.figure(figsize=(10,6))
sns.barplot(x=top_publishers.values, y=top_publishers.index)
plt.title("Top 10 Publishers by Global Sales")
plt.xlabel("Total Sales (Millions)")
plt.ylabel("Publisher")
plt.show()

# Top developers
top_developers = df.groupby("developer")["total_sales"].sum().sort_values(ascending=False).head(10)

plt.figure(figsize=(10,6))
sns.barplot(x=top_developers.values, y=top_developers.index)
plt.title("Top 10 Developers by Global Sales")
plt.xlabel("Total Sales (Millions)")
plt.ylabel("Developer")
plt.show()





df






























