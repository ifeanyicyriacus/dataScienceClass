import pandas as pd
# import polars as pl
import numpy as np
import matplotlib.pyplot as plt
import seaborn as sns





listing_df = pd.read_csv("data/Listings.csv", sep=",", encoding="latin1")


listing_df.info()


listing_df.shape


listing_df.sample(n=5)


listing_df.isna().sum()



