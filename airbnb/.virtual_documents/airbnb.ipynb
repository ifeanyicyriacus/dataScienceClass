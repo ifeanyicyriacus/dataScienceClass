import pandas as pd
# import polars as pl
import numpy as np
import matplotlib.pyplot as plt
import seaborn as sns





listing_df = pd.read_csv("data/Listings.csv", sep=",", encoding="latin1", low_memory=False)


listing_df.info()


listing_df.shape


listing_df.sample(n=5)


drop 
1. listing id
2. name
3. 


guess the price "by city, property type, roomtype, accomadates, amenities and ratings aggregate/ max and min"



listing_df.isna().sum()


listing_df[0:1]


listing_df.nunique()



