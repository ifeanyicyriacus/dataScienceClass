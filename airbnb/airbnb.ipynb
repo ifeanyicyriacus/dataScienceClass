{
 "cells": [
  {
   "cell_type": "code",
   "id": "06ad25ba-b2a9-45fe-9d33-52f804d93a76",
   "metadata": {
    "ExecuteTime": {
     "end_time": "2025-09-03T00:43:26.161282Z",
     "start_time": "2025-09-03T00:43:26.152798Z"
    }
   },
   "source": [
    "import pandas as pd\n",
    "# import polars as pl\n",
    "import numpy as np\n",
    "import matplotlib.pyplot as plt\n",
    "import seaborn as sns"
   ],
   "outputs": [],
   "execution_count": 1
  },
  {
   "cell_type": "markdown",
   "id": "4ddbcf27-a2fd-4047-8137-1bd39708fe20",
   "metadata": {},
   "source": [
    "## Stage 1: Data validation and Cleaning"
   ]
  },
  {
   "cell_type": "code",
   "id": "81eae643-b542-4f28-95be-ccf94b95ed81",
   "metadata": {
    "ExecuteTime": {
     "end_time": "2025-09-03T00:43:39.704912Z",
     "start_time": "2025-09-03T00:43:36.217370Z"
    }
   },
   "source": [
    "listing_df = pd.read_csv(\"data/Listings.csv\", sep=\",\", encoding=\"latin1\", low_memory=False)"
   ],
   "outputs": [],
   "execution_count": 2
  },
  {
   "cell_type": "code",
   "id": "2104caf8-4139-44e0-bf67-dffa7a80f9d1",
   "metadata": {
    "ExecuteTime": {
     "end_time": "2025-09-03T00:43:39.975740Z",
     "start_time": "2025-09-03T00:43:39.730384Z"
    }
   },
   "source": [
    "listing_df.info()"
   ],
   "outputs": [
    {
     "name": "stdout",
     "output_type": "stream",
     "text": [
      "<class 'pandas.core.frame.DataFrame'>\n",
      "RangeIndex: 279712 entries, 0 to 279711\n",
      "Data columns (total 33 columns):\n",
      " #   Column                       Non-Null Count   Dtype  \n",
      "---  ------                       --------------   -----  \n",
      " 0   listing_id                   279712 non-null  int64  \n",
      " 1   name                         279537 non-null  object \n",
      " 2   host_id                      279712 non-null  int64  \n",
      " 3   host_since                   279547 non-null  object \n",
      " 4   host_location                278872 non-null  object \n",
      " 5   host_response_time           150930 non-null  object \n",
      " 6   host_response_rate           150930 non-null  float64\n",
      " 7   host_acceptance_rate         166625 non-null  float64\n",
      " 8   host_is_superhost            279547 non-null  object \n",
      " 9   host_total_listings_count    279547 non-null  float64\n",
      " 10  host_has_profile_pic         279547 non-null  object \n",
      " 11  host_identity_verified       279547 non-null  object \n",
      " 12  neighbourhood                279712 non-null  object \n",
      " 13  district                     37012 non-null   object \n",
      " 14  city                         279712 non-null  object \n",
      " 15  latitude                     279712 non-null  float64\n",
      " 16  longitude                    279712 non-null  float64\n",
      " 17  property_type                279712 non-null  object \n",
      " 18  room_type                    279712 non-null  object \n",
      " 19  accommodates                 279712 non-null  int64  \n",
      " 20  bedrooms                     250277 non-null  float64\n",
      " 21  amenities                    279712 non-null  object \n",
      " 22  price                        279712 non-null  int64  \n",
      " 23  minimum_nights               279712 non-null  int64  \n",
      " 24  maximum_nights               279712 non-null  int64  \n",
      " 25  review_scores_rating         188307 non-null  float64\n",
      " 26  review_scores_accuracy       187999 non-null  float64\n",
      " 27  review_scores_cleanliness    188047 non-null  float64\n",
      " 28  review_scores_checkin        187941 non-null  float64\n",
      " 29  review_scores_communication  188025 non-null  float64\n",
      " 30  review_scores_location       187937 non-null  float64\n",
      " 31  review_scores_value          187927 non-null  float64\n",
      " 32  instant_bookable             279712 non-null  object \n",
      "dtypes: float64(13), int64(6), object(14)\n",
      "memory usage: 70.4+ MB\n"
     ]
    }
   ],
   "execution_count": 3
  },
  {
   "cell_type": "code",
   "id": "15e68eaf-1c9b-4690-bd1e-7270bbaed362",
   "metadata": {
    "ExecuteTime": {
     "end_time": "2025-09-03T00:43:43.469357Z",
     "start_time": "2025-09-03T00:43:43.458305Z"
    }
   },
   "source": [
    "listing_df.shape"
   ],
   "outputs": [
    {
     "data": {
      "text/plain": [
       "(279712, 33)"
      ]
     },
     "execution_count": 4,
     "metadata": {},
     "output_type": "execute_result"
    }
   ],
   "execution_count": 4
  },
  {
   "cell_type": "code",
   "id": "d797da5b-0e15-4c58-aaaa-8b7d45588990",
   "metadata": {
    "ExecuteTime": {
     "end_time": "2025-09-03T00:43:53.401379Z",
     "start_time": "2025-09-03T00:43:53.351109Z"
    }
   },
   "source": [
    "listing_df.sample(n=5)"
   ],
   "outputs": [
    {
     "data": {
      "text/plain": [
       "        listing_id                                               name  \\\n",
       "146909    10821911                              Best place in Condesa   \n",
       "81802     39014210                         The Anonymous Bombay House   \n",
       "200424    21431224  Zetland Ã©Â«ËÃ¦Â¡Â£Ã§Å½Â°Ã¤Â»Â£Ã¥ÅâÃ¥â¦Â¬...   \n",
       "134119     8766964                Deluxe Twin Room With Mountain View   \n",
       "227472    39387361                       Cozzy flat in BeÃ\n",
       "Å¸iktaÃ\n",
       "Å¸   \n",
       "\n",
       "          host_id  host_since                               host_location  \\\n",
       "146909   20991334  2014-09-05       Mexico City, Federal District, Mexico   \n",
       "81802   194021695  2018-06-07                           Bangkok, Thailand   \n",
       "200424  154950131  2017-10-17                                          AU   \n",
       "134119   28025034  2015-02-19        Vaucluse, New South Wales, Australia   \n",
       "227472   53132948  2016-01-03  BeÃ\n",
       "Å¸iktaÃ\n",
       "Å¸ KÃÂ¶yÃÂ¼, Ardahan, Turkey   \n",
       "\n",
       "        host_response_time  host_response_rate  host_acceptance_rate  \\\n",
       "146909                 NaN                 NaN                  0.00   \n",
       "81802       within an hour                 1.0                  1.00   \n",
       "200424                 NaN                 NaN                   NaN   \n",
       "134119  within a few hours                 1.0                  0.67   \n",
       "227472                 NaN                 NaN                  0.00   \n",
       "\n",
       "       host_is_superhost  host_total_listings_count  ... minimum_nights  \\\n",
       "146909                 f                        5.0  ...              1   \n",
       "81802                  t                       15.0  ...              2   \n",
       "200424                 f                        1.0  ...              7   \n",
       "134119                 f                        5.0  ...              1   \n",
       "227472                 f                        0.0  ...              2   \n",
       "\n",
       "       maximum_nights review_scores_rating review_scores_accuracy  \\\n",
       "146909           1125                 99.0                   10.0   \n",
       "81802            1125                 94.0                   10.0   \n",
       "200424              7                  NaN                    NaN   \n",
       "134119           1125                  NaN                    NaN   \n",
       "227472              4                  NaN                    NaN   \n",
       "\n",
       "       review_scores_cleanliness  review_scores_checkin  \\\n",
       "146909                      10.0                   10.0   \n",
       "81802                        9.0                   10.0   \n",
       "200424                       NaN                    NaN   \n",
       "134119                       NaN                    NaN   \n",
       "227472                       NaN                    NaN   \n",
       "\n",
       "        review_scores_communication review_scores_location  \\\n",
       "146909                         10.0                   10.0   \n",
       "81802                          10.0                   10.0   \n",
       "200424                          NaN                    NaN   \n",
       "134119                          NaN                    NaN   \n",
       "227472                          NaN                    NaN   \n",
       "\n",
       "       review_scores_value  instant_bookable  \n",
       "146909                10.0                 f  \n",
       "81802                 10.0                 t  \n",
       "200424                 NaN                 t  \n",
       "134119                 NaN                 f  \n",
       "227472                 NaN                 f  \n",
       "\n",
       "[5 rows x 33 columns]"
      ],
      "text/html": [
       "<div>\n",
       "<style scoped>\n",
       "    .dataframe tbody tr th:only-of-type {\n",
       "        vertical-align: middle;\n",
       "    }\n",
       "\n",
       "    .dataframe tbody tr th {\n",
       "        vertical-align: top;\n",
       "    }\n",
       "\n",
       "    .dataframe thead th {\n",
       "        text-align: right;\n",
       "    }\n",
       "</style>\n",
       "<table border=\"1\" class=\"dataframe\">\n",
       "  <thead>\n",
       "    <tr style=\"text-align: right;\">\n",
       "      <th></th>\n",
       "      <th>listing_id</th>\n",
       "      <th>name</th>\n",
       "      <th>host_id</th>\n",
       "      <th>host_since</th>\n",
       "      <th>host_location</th>\n",
       "      <th>host_response_time</th>\n",
       "      <th>host_response_rate</th>\n",
       "      <th>host_acceptance_rate</th>\n",
       "      <th>host_is_superhost</th>\n",
       "      <th>host_total_listings_count</th>\n",
       "      <th>...</th>\n",
       "      <th>minimum_nights</th>\n",
       "      <th>maximum_nights</th>\n",
       "      <th>review_scores_rating</th>\n",
       "      <th>review_scores_accuracy</th>\n",
       "      <th>review_scores_cleanliness</th>\n",
       "      <th>review_scores_checkin</th>\n",
       "      <th>review_scores_communication</th>\n",
       "      <th>review_scores_location</th>\n",
       "      <th>review_scores_value</th>\n",
       "      <th>instant_bookable</th>\n",
       "    </tr>\n",
       "  </thead>\n",
       "  <tbody>\n",
       "    <tr>\n",
       "      <th>146909</th>\n",
       "      <td>10821911</td>\n",
       "      <td>Best place in Condesa</td>\n",
       "      <td>20991334</td>\n",
       "      <td>2014-09-05</td>\n",
       "      <td>Mexico City, Federal District, Mexico</td>\n",
       "      <td>NaN</td>\n",
       "      <td>NaN</td>\n",
       "      <td>0.00</td>\n",
       "      <td>f</td>\n",
       "      <td>5.0</td>\n",
       "      <td>...</td>\n",
       "      <td>1</td>\n",
       "      <td>1125</td>\n",
       "      <td>99.0</td>\n",
       "      <td>10.0</td>\n",
       "      <td>10.0</td>\n",
       "      <td>10.0</td>\n",
       "      <td>10.0</td>\n",
       "      <td>10.0</td>\n",
       "      <td>10.0</td>\n",
       "      <td>f</td>\n",
       "    </tr>\n",
       "    <tr>\n",
       "      <th>81802</th>\n",
       "      <td>39014210</td>\n",
       "      <td>The Anonymous Bombay House</td>\n",
       "      <td>194021695</td>\n",
       "      <td>2018-06-07</td>\n",
       "      <td>Bangkok, Thailand</td>\n",
       "      <td>within an hour</td>\n",
       "      <td>1.0</td>\n",
       "      <td>1.00</td>\n",
       "      <td>t</td>\n",
       "      <td>15.0</td>\n",
       "      <td>...</td>\n",
       "      <td>2</td>\n",
       "      <td>1125</td>\n",
       "      <td>94.0</td>\n",
       "      <td>10.0</td>\n",
       "      <td>9.0</td>\n",
       "      <td>10.0</td>\n",
       "      <td>10.0</td>\n",
       "      <td>10.0</td>\n",
       "      <td>10.0</td>\n",
       "      <td>t</td>\n",
       "    </tr>\n",
       "    <tr>\n",
       "      <th>200424</th>\n",
       "      <td>21431224</td>\n",
       "      <td>Zetland Ã©Â«ËÃ¦Â¡Â£Ã§Å½Â°Ã¤Â»Â£Ã¥ÅâÃ¥â¦Â¬...</td>\n",
       "      <td>154950131</td>\n",
       "      <td>2017-10-17</td>\n",
       "      <td>AU</td>\n",
       "      <td>NaN</td>\n",
       "      <td>NaN</td>\n",
       "      <td>NaN</td>\n",
       "      <td>f</td>\n",
       "      <td>1.0</td>\n",
       "      <td>...</td>\n",
       "      <td>7</td>\n",
       "      <td>7</td>\n",
       "      <td>NaN</td>\n",
       "      <td>NaN</td>\n",
       "      <td>NaN</td>\n",
       "      <td>NaN</td>\n",
       "      <td>NaN</td>\n",
       "      <td>NaN</td>\n",
       "      <td>NaN</td>\n",
       "      <td>t</td>\n",
       "    </tr>\n",
       "    <tr>\n",
       "      <th>134119</th>\n",
       "      <td>8766964</td>\n",
       "      <td>Deluxe Twin Room With Mountain View</td>\n",
       "      <td>28025034</td>\n",
       "      <td>2015-02-19</td>\n",
       "      <td>Vaucluse, New South Wales, Australia</td>\n",
       "      <td>within a few hours</td>\n",
       "      <td>1.0</td>\n",
       "      <td>0.67</td>\n",
       "      <td>f</td>\n",
       "      <td>5.0</td>\n",
       "      <td>...</td>\n",
       "      <td>1</td>\n",
       "      <td>1125</td>\n",
       "      <td>NaN</td>\n",
       "      <td>NaN</td>\n",
       "      <td>NaN</td>\n",
       "      <td>NaN</td>\n",
       "      <td>NaN</td>\n",
       "      <td>NaN</td>\n",
       "      <td>NaN</td>\n",
       "      <td>f</td>\n",
       "    </tr>\n",
       "    <tr>\n",
       "      <th>227472</th>\n",
       "      <td>39387361</td>\n",
       "      <td>Cozzy flat in BeÃÅ¸iktaÃÅ¸</td>\n",
       "      <td>53132948</td>\n",
       "      <td>2016-01-03</td>\n",
       "      <td>BeÃÅ¸iktaÃÅ¸ KÃÂ¶yÃÂ¼, Ardahan, Turkey</td>\n",
       "      <td>NaN</td>\n",
       "      <td>NaN</td>\n",
       "      <td>0.00</td>\n",
       "      <td>f</td>\n",
       "      <td>0.0</td>\n",
       "      <td>...</td>\n",
       "      <td>2</td>\n",
       "      <td>4</td>\n",
       "      <td>NaN</td>\n",
       "      <td>NaN</td>\n",
       "      <td>NaN</td>\n",
       "      <td>NaN</td>\n",
       "      <td>NaN</td>\n",
       "      <td>NaN</td>\n",
       "      <td>NaN</td>\n",
       "      <td>f</td>\n",
       "    </tr>\n",
       "  </tbody>\n",
       "</table>\n",
       "<p>5 rows × 33 columns</p>\n",
       "</div>"
      ]
     },
     "execution_count": 5,
     "metadata": {},
     "output_type": "execute_result"
    }
   ],
   "execution_count": 5
  },
  {
   "cell_type": "code",
   "id": "8ae85cc6-8fb3-48c0-9f05-a0aee68ba063",
   "metadata": {
    "ExecuteTime": {
     "end_time": "2025-09-03T00:44:25.632793Z",
     "start_time": "2025-09-03T00:44:25.397148Z"
    }
   },
   "source": [
    "listing_df.isna().sum()"
   ],
   "outputs": [
    {
     "data": {
      "text/plain": [
       "listing_id                          0\n",
       "name                              175\n",
       "host_id                             0\n",
       "host_since                        165\n",
       "host_location                     840\n",
       "host_response_time             128782\n",
       "host_response_rate             128782\n",
       "host_acceptance_rate           113087\n",
       "host_is_superhost                 165\n",
       "host_total_listings_count         165\n",
       "host_has_profile_pic              165\n",
       "host_identity_verified            165\n",
       "neighbourhood                       0\n",
       "district                       242700\n",
       "city                                0\n",
       "latitude                            0\n",
       "longitude                           0\n",
       "property_type                       0\n",
       "room_type                           0\n",
       "accommodates                        0\n",
       "bedrooms                        29435\n",
       "amenities                           0\n",
       "price                               0\n",
       "minimum_nights                      0\n",
       "maximum_nights                      0\n",
       "review_scores_rating            91405\n",
       "review_scores_accuracy          91713\n",
       "review_scores_cleanliness       91665\n",
       "review_scores_checkin           91771\n",
       "review_scores_communication     91687\n",
       "review_scores_location          91775\n",
       "review_scores_value             91785\n",
       "instant_bookable                    0\n",
       "dtype: int64"
      ]
     },
     "execution_count": 6,
     "metadata": {},
     "output_type": "execute_result"
    }
   ],
   "execution_count": 6
  },
  {
   "cell_type": "code",
   "id": "f78fbbae-10a9-48d1-b092-66c70a00497b",
   "metadata": {
    "ExecuteTime": {
     "end_time": "2025-09-03T00:44:33.287448Z",
     "start_time": "2025-09-03T00:44:33.243049Z"
    }
   },
   "source": [
    "listing_df[[\"neighbourhood\", \"minimum_nights\", \"property_type\", \"accommodates\", \"bedrooms\", \"price\"]].sample(10)"
   ],
   "outputs": [
    {
     "data": {
      "text/plain": [
       "           neighbourhood  minimum_nights                       property_type  \\\n",
       "13916           Ward 115               3                    Entire apartment   \n",
       "247674       Khlong Toei               1                    Entire apartment   \n",
       "77802   I Centro Storico               2                    Entire apartment   \n",
       "128203     Yau Tsim Mong               1           Private room in apartment   \n",
       "250957   Barra da Tijuca               7                    Entire apartment   \n",
       "267580           Ward 64               1                    Entire apartment   \n",
       "4692     Buttes-Chaumont               3                    Entire apartment   \n",
       "181085        Chatu Chak              90                        Entire house   \n",
       "146590            Sydney               1  Private room in serviced apartment   \n",
       "193058   Buttes-Chaumont               7           Private room in apartment   \n",
       "\n",
       "        accommodates  bedrooms  price  \n",
       "13916              2       1.0    824  \n",
       "247674             4       1.0   1800  \n",
       "77802              3       NaN     45  \n",
       "128203             3       1.0    452  \n",
       "250957             7       3.0   2727  \n",
       "267580             4       2.0    838  \n",
       "4692               3       1.0     37  \n",
       "181085             4       1.0   2000  \n",
       "146590             2       1.0    183  \n",
       "193058             2       1.0     38  "
      ],
      "text/html": [
       "<div>\n",
       "<style scoped>\n",
       "    .dataframe tbody tr th:only-of-type {\n",
       "        vertical-align: middle;\n",
       "    }\n",
       "\n",
       "    .dataframe tbody tr th {\n",
       "        vertical-align: top;\n",
       "    }\n",
       "\n",
       "    .dataframe thead th {\n",
       "        text-align: right;\n",
       "    }\n",
       "</style>\n",
       "<table border=\"1\" class=\"dataframe\">\n",
       "  <thead>\n",
       "    <tr style=\"text-align: right;\">\n",
       "      <th></th>\n",
       "      <th>neighbourhood</th>\n",
       "      <th>minimum_nights</th>\n",
       "      <th>property_type</th>\n",
       "      <th>accommodates</th>\n",
       "      <th>bedrooms</th>\n",
       "      <th>price</th>\n",
       "    </tr>\n",
       "  </thead>\n",
       "  <tbody>\n",
       "    <tr>\n",
       "      <th>13916</th>\n",
       "      <td>Ward 115</td>\n",
       "      <td>3</td>\n",
       "      <td>Entire apartment</td>\n",
       "      <td>2</td>\n",
       "      <td>1.0</td>\n",
       "      <td>824</td>\n",
       "    </tr>\n",
       "    <tr>\n",
       "      <th>247674</th>\n",
       "      <td>Khlong Toei</td>\n",
       "      <td>1</td>\n",
       "      <td>Entire apartment</td>\n",
       "      <td>4</td>\n",
       "      <td>1.0</td>\n",
       "      <td>1800</td>\n",
       "    </tr>\n",
       "    <tr>\n",
       "      <th>77802</th>\n",
       "      <td>I Centro Storico</td>\n",
       "      <td>2</td>\n",
       "      <td>Entire apartment</td>\n",
       "      <td>3</td>\n",
       "      <td>NaN</td>\n",
       "      <td>45</td>\n",
       "    </tr>\n",
       "    <tr>\n",
       "      <th>128203</th>\n",
       "      <td>Yau Tsim Mong</td>\n",
       "      <td>1</td>\n",
       "      <td>Private room in apartment</td>\n",
       "      <td>3</td>\n",
       "      <td>1.0</td>\n",
       "      <td>452</td>\n",
       "    </tr>\n",
       "    <tr>\n",
       "      <th>250957</th>\n",
       "      <td>Barra da Tijuca</td>\n",
       "      <td>7</td>\n",
       "      <td>Entire apartment</td>\n",
       "      <td>7</td>\n",
       "      <td>3.0</td>\n",
       "      <td>2727</td>\n",
       "    </tr>\n",
       "    <tr>\n",
       "      <th>267580</th>\n",
       "      <td>Ward 64</td>\n",
       "      <td>1</td>\n",
       "      <td>Entire apartment</td>\n",
       "      <td>4</td>\n",
       "      <td>2.0</td>\n",
       "      <td>838</td>\n",
       "    </tr>\n",
       "    <tr>\n",
       "      <th>4692</th>\n",
       "      <td>Buttes-Chaumont</td>\n",
       "      <td>3</td>\n",
       "      <td>Entire apartment</td>\n",
       "      <td>3</td>\n",
       "      <td>1.0</td>\n",
       "      <td>37</td>\n",
       "    </tr>\n",
       "    <tr>\n",
       "      <th>181085</th>\n",
       "      <td>Chatu Chak</td>\n",
       "      <td>90</td>\n",
       "      <td>Entire house</td>\n",
       "      <td>4</td>\n",
       "      <td>1.0</td>\n",
       "      <td>2000</td>\n",
       "    </tr>\n",
       "    <tr>\n",
       "      <th>146590</th>\n",
       "      <td>Sydney</td>\n",
       "      <td>1</td>\n",
       "      <td>Private room in serviced apartment</td>\n",
       "      <td>2</td>\n",
       "      <td>1.0</td>\n",
       "      <td>183</td>\n",
       "    </tr>\n",
       "    <tr>\n",
       "      <th>193058</th>\n",
       "      <td>Buttes-Chaumont</td>\n",
       "      <td>7</td>\n",
       "      <td>Private room in apartment</td>\n",
       "      <td>2</td>\n",
       "      <td>1.0</td>\n",
       "      <td>38</td>\n",
       "    </tr>\n",
       "  </tbody>\n",
       "</table>\n",
       "</div>"
      ]
     },
     "execution_count": 7,
     "metadata": {},
     "output_type": "execute_result"
    }
   ],
   "execution_count": 7
  },
  {
   "cell_type": "code",
   "id": "a356e68c-3729-49a8-9d28-c4776f4d38cf",
   "metadata": {
    "ExecuteTime": {
     "end_time": "2025-09-03T00:44:43.961190Z",
     "start_time": "2025-09-03T00:44:43.280663Z"
    }
   },
   "source": [
    "listing_df.nunique()"
   ],
   "outputs": [
    {
     "data": {
      "text/plain": [
       "listing_id                     279712\n",
       "name                           265860\n",
       "host_id                        182024\n",
       "host_since                       4240\n",
       "host_location                    7159\n",
       "host_response_time                  4\n",
       "host_response_rate                 91\n",
       "host_acceptance_rate              101\n",
       "host_is_superhost                   2\n",
       "host_total_listings_count         206\n",
       "host_has_profile_pic                2\n",
       "host_identity_verified              2\n",
       "neighbourhood                     660\n",
       "district                            5\n",
       "city                               10\n",
       "latitude                       103503\n",
       "longitude                      118021\n",
       "property_type                     144\n",
       "room_type                           4\n",
       "accommodates                       17\n",
       "bedrooms                           39\n",
       "amenities                      245003\n",
       "price                            5194\n",
       "minimum_nights                    202\n",
       "maximum_nights                    508\n",
       "review_scores_rating               63\n",
       "review_scores_accuracy              9\n",
       "review_scores_cleanliness           9\n",
       "review_scores_checkin               9\n",
       "review_scores_communication         9\n",
       "review_scores_location              9\n",
       "review_scores_value                 9\n",
       "instant_bookable                    2\n",
       "dtype: int64"
      ]
     },
     "execution_count": 8,
     "metadata": {},
     "output_type": "execute_result"
    }
   ],
   "execution_count": 8
  },
  {
   "cell_type": "code",
   "id": "0672852f-ed11-4f58-9736-4f5c9b44fe0e",
   "metadata": {
    "ExecuteTime": {
     "end_time": "2025-09-03T00:44:51.301082Z",
     "start_time": "2025-09-03T00:44:51.045618Z"
    }
   },
   "source": [
    "listing_df.describe()"
   ],
   "outputs": [
    {
     "data": {
      "text/plain": [
       "         listing_id       host_id  host_response_rate  host_acceptance_rate  \\\n",
       "count  2.797120e+05  2.797120e+05       150930.000000         166625.000000   \n",
       "mean   2.638196e+07  1.081658e+08            0.865939              0.827168   \n",
       "std    1.442576e+07  1.108570e+08            0.283744              0.289202   \n",
       "min    2.577000e+03  1.822000e+03            0.000000              0.000000   \n",
       "25%    1.384462e+07  1.720656e+07            0.900000              0.780000   \n",
       "50%    2.767098e+07  5.826911e+07            1.000000              0.980000   \n",
       "75%    3.978485e+07  1.832853e+08            1.000000              1.000000   \n",
       "max    4.834353e+07  3.901874e+08            1.000000              1.000000   \n",
       "\n",
       "       host_total_listings_count       latitude      longitude   accommodates  \\\n",
       "count              279547.000000  279712.000000  279712.000000  279712.000000   \n",
       "mean                   24.581612      18.761862      12.595075       3.288736   \n",
       "std                   284.041143      32.560343      73.081309       2.133379   \n",
       "min                     0.000000     -34.264400     -99.339630       0.000000   \n",
       "25%                     1.000000     -22.964390     -43.198040       2.000000   \n",
       "50%                     1.000000      40.710785       2.382780       2.000000   \n",
       "75%                     4.000000      41.908610      28.986730       4.000000   \n",
       "max                  7235.000000      48.904910     151.339810      16.000000   \n",
       "\n",
       "            bedrooms          price  minimum_nights  maximum_nights  \\\n",
       "count  250277.000000  279712.000000   279712.000000    2.797120e+05   \n",
       "mean        1.515509     608.792737        8.050967    2.755860e+04   \n",
       "std         1.153080    3441.826611       31.518946    7.282875e+06   \n",
       "min         1.000000       0.000000        1.000000    1.000000e+00   \n",
       "25%         1.000000      75.000000        1.000000    4.500000e+01   \n",
       "50%         1.000000     150.000000        2.000000    1.125000e+03   \n",
       "75%         2.000000     474.000000        5.000000    1.125000e+03   \n",
       "max        50.000000  625216.000000     9999.000000    2.147484e+09   \n",
       "\n",
       "       review_scores_rating  review_scores_accuracy  \\\n",
       "count         188307.000000           187999.000000   \n",
       "mean              93.405195                9.565476   \n",
       "std               10.070437                0.990878   \n",
       "min               20.000000                2.000000   \n",
       "25%               91.000000                9.000000   \n",
       "50%               96.000000               10.000000   \n",
       "75%              100.000000               10.000000   \n",
       "max              100.000000               10.000000   \n",
       "\n",
       "       review_scores_cleanliness  review_scores_checkin  \\\n",
       "count              188047.000000          187941.000000   \n",
       "mean                    9.312869               9.701534   \n",
       "std                     1.146072               0.867434   \n",
       "min                     2.000000               2.000000   \n",
       "25%                     9.000000              10.000000   \n",
       "50%                    10.000000              10.000000   \n",
       "75%                    10.000000              10.000000   \n",
       "max                    10.000000              10.000000   \n",
       "\n",
       "       review_scores_communication  review_scores_location  \\\n",
       "count                188025.000000           187937.000000   \n",
       "mean                      9.698593                9.633994   \n",
       "std                       0.886884                0.833234   \n",
       "min                       2.000000                2.000000   \n",
       "25%                      10.000000                9.000000   \n",
       "50%                      10.000000               10.000000   \n",
       "75%                      10.000000               10.000000   \n",
       "max                      10.000000               10.000000   \n",
       "\n",
       "       review_scores_value  \n",
       "count        187927.000000  \n",
       "mean              9.335364  \n",
       "std               1.042625  \n",
       "min               2.000000  \n",
       "25%               9.000000  \n",
       "50%              10.000000  \n",
       "75%              10.000000  \n",
       "max              10.000000  "
      ],
      "text/html": [
       "<div>\n",
       "<style scoped>\n",
       "    .dataframe tbody tr th:only-of-type {\n",
       "        vertical-align: middle;\n",
       "    }\n",
       "\n",
       "    .dataframe tbody tr th {\n",
       "        vertical-align: top;\n",
       "    }\n",
       "\n",
       "    .dataframe thead th {\n",
       "        text-align: right;\n",
       "    }\n",
       "</style>\n",
       "<table border=\"1\" class=\"dataframe\">\n",
       "  <thead>\n",
       "    <tr style=\"text-align: right;\">\n",
       "      <th></th>\n",
       "      <th>listing_id</th>\n",
       "      <th>host_id</th>\n",
       "      <th>host_response_rate</th>\n",
       "      <th>host_acceptance_rate</th>\n",
       "      <th>host_total_listings_count</th>\n",
       "      <th>latitude</th>\n",
       "      <th>longitude</th>\n",
       "      <th>accommodates</th>\n",
       "      <th>bedrooms</th>\n",
       "      <th>price</th>\n",
       "      <th>minimum_nights</th>\n",
       "      <th>maximum_nights</th>\n",
       "      <th>review_scores_rating</th>\n",
       "      <th>review_scores_accuracy</th>\n",
       "      <th>review_scores_cleanliness</th>\n",
       "      <th>review_scores_checkin</th>\n",
       "      <th>review_scores_communication</th>\n",
       "      <th>review_scores_location</th>\n",
       "      <th>review_scores_value</th>\n",
       "    </tr>\n",
       "  </thead>\n",
       "  <tbody>\n",
       "    <tr>\n",
       "      <th>count</th>\n",
       "      <td>2.797120e+05</td>\n",
       "      <td>2.797120e+05</td>\n",
       "      <td>150930.000000</td>\n",
       "      <td>166625.000000</td>\n",
       "      <td>279547.000000</td>\n",
       "      <td>279712.000000</td>\n",
       "      <td>279712.000000</td>\n",
       "      <td>279712.000000</td>\n",
       "      <td>250277.000000</td>\n",
       "      <td>279712.000000</td>\n",
       "      <td>279712.000000</td>\n",
       "      <td>2.797120e+05</td>\n",
       "      <td>188307.000000</td>\n",
       "      <td>187999.000000</td>\n",
       "      <td>188047.000000</td>\n",
       "      <td>187941.000000</td>\n",
       "      <td>188025.000000</td>\n",
       "      <td>187937.000000</td>\n",
       "      <td>187927.000000</td>\n",
       "    </tr>\n",
       "    <tr>\n",
       "      <th>mean</th>\n",
       "      <td>2.638196e+07</td>\n",
       "      <td>1.081658e+08</td>\n",
       "      <td>0.865939</td>\n",
       "      <td>0.827168</td>\n",
       "      <td>24.581612</td>\n",
       "      <td>18.761862</td>\n",
       "      <td>12.595075</td>\n",
       "      <td>3.288736</td>\n",
       "      <td>1.515509</td>\n",
       "      <td>608.792737</td>\n",
       "      <td>8.050967</td>\n",
       "      <td>2.755860e+04</td>\n",
       "      <td>93.405195</td>\n",
       "      <td>9.565476</td>\n",
       "      <td>9.312869</td>\n",
       "      <td>9.701534</td>\n",
       "      <td>9.698593</td>\n",
       "      <td>9.633994</td>\n",
       "      <td>9.335364</td>\n",
       "    </tr>\n",
       "    <tr>\n",
       "      <th>std</th>\n",
       "      <td>1.442576e+07</td>\n",
       "      <td>1.108570e+08</td>\n",
       "      <td>0.283744</td>\n",
       "      <td>0.289202</td>\n",
       "      <td>284.041143</td>\n",
       "      <td>32.560343</td>\n",
       "      <td>73.081309</td>\n",
       "      <td>2.133379</td>\n",
       "      <td>1.153080</td>\n",
       "      <td>3441.826611</td>\n",
       "      <td>31.518946</td>\n",
       "      <td>7.282875e+06</td>\n",
       "      <td>10.070437</td>\n",
       "      <td>0.990878</td>\n",
       "      <td>1.146072</td>\n",
       "      <td>0.867434</td>\n",
       "      <td>0.886884</td>\n",
       "      <td>0.833234</td>\n",
       "      <td>1.042625</td>\n",
       "    </tr>\n",
       "    <tr>\n",
       "      <th>min</th>\n",
       "      <td>2.577000e+03</td>\n",
       "      <td>1.822000e+03</td>\n",
       "      <td>0.000000</td>\n",
       "      <td>0.000000</td>\n",
       "      <td>0.000000</td>\n",
       "      <td>-34.264400</td>\n",
       "      <td>-99.339630</td>\n",
       "      <td>0.000000</td>\n",
       "      <td>1.000000</td>\n",
       "      <td>0.000000</td>\n",
       "      <td>1.000000</td>\n",
       "      <td>1.000000e+00</td>\n",
       "      <td>20.000000</td>\n",
       "      <td>2.000000</td>\n",
       "      <td>2.000000</td>\n",
       "      <td>2.000000</td>\n",
       "      <td>2.000000</td>\n",
       "      <td>2.000000</td>\n",
       "      <td>2.000000</td>\n",
       "    </tr>\n",
       "    <tr>\n",
       "      <th>25%</th>\n",
       "      <td>1.384462e+07</td>\n",
       "      <td>1.720656e+07</td>\n",
       "      <td>0.900000</td>\n",
       "      <td>0.780000</td>\n",
       "      <td>1.000000</td>\n",
       "      <td>-22.964390</td>\n",
       "      <td>-43.198040</td>\n",
       "      <td>2.000000</td>\n",
       "      <td>1.000000</td>\n",
       "      <td>75.000000</td>\n",
       "      <td>1.000000</td>\n",
       "      <td>4.500000e+01</td>\n",
       "      <td>91.000000</td>\n",
       "      <td>9.000000</td>\n",
       "      <td>9.000000</td>\n",
       "      <td>10.000000</td>\n",
       "      <td>10.000000</td>\n",
       "      <td>9.000000</td>\n",
       "      <td>9.000000</td>\n",
       "    </tr>\n",
       "    <tr>\n",
       "      <th>50%</th>\n",
       "      <td>2.767098e+07</td>\n",
       "      <td>5.826911e+07</td>\n",
       "      <td>1.000000</td>\n",
       "      <td>0.980000</td>\n",
       "      <td>1.000000</td>\n",
       "      <td>40.710785</td>\n",
       "      <td>2.382780</td>\n",
       "      <td>2.000000</td>\n",
       "      <td>1.000000</td>\n",
       "      <td>150.000000</td>\n",
       "      <td>2.000000</td>\n",
       "      <td>1.125000e+03</td>\n",
       "      <td>96.000000</td>\n",
       "      <td>10.000000</td>\n",
       "      <td>10.000000</td>\n",
       "      <td>10.000000</td>\n",
       "      <td>10.000000</td>\n",
       "      <td>10.000000</td>\n",
       "      <td>10.000000</td>\n",
       "    </tr>\n",
       "    <tr>\n",
       "      <th>75%</th>\n",
       "      <td>3.978485e+07</td>\n",
       "      <td>1.832853e+08</td>\n",
       "      <td>1.000000</td>\n",
       "      <td>1.000000</td>\n",
       "      <td>4.000000</td>\n",
       "      <td>41.908610</td>\n",
       "      <td>28.986730</td>\n",
       "      <td>4.000000</td>\n",
       "      <td>2.000000</td>\n",
       "      <td>474.000000</td>\n",
       "      <td>5.000000</td>\n",
       "      <td>1.125000e+03</td>\n",
       "      <td>100.000000</td>\n",
       "      <td>10.000000</td>\n",
       "      <td>10.000000</td>\n",
       "      <td>10.000000</td>\n",
       "      <td>10.000000</td>\n",
       "      <td>10.000000</td>\n",
       "      <td>10.000000</td>\n",
       "    </tr>\n",
       "    <tr>\n",
       "      <th>max</th>\n",
       "      <td>4.834353e+07</td>\n",
       "      <td>3.901874e+08</td>\n",
       "      <td>1.000000</td>\n",
       "      <td>1.000000</td>\n",
       "      <td>7235.000000</td>\n",
       "      <td>48.904910</td>\n",
       "      <td>151.339810</td>\n",
       "      <td>16.000000</td>\n",
       "      <td>50.000000</td>\n",
       "      <td>625216.000000</td>\n",
       "      <td>9999.000000</td>\n",
       "      <td>2.147484e+09</td>\n",
       "      <td>100.000000</td>\n",
       "      <td>10.000000</td>\n",
       "      <td>10.000000</td>\n",
       "      <td>10.000000</td>\n",
       "      <td>10.000000</td>\n",
       "      <td>10.000000</td>\n",
       "      <td>10.000000</td>\n",
       "    </tr>\n",
       "  </tbody>\n",
       "</table>\n",
       "</div>"
      ]
     },
     "execution_count": 9,
     "metadata": {},
     "output_type": "execute_result"
    }
   ],
   "execution_count": 9
  },
  {
   "cell_type": "code",
   "id": "5e754010-3d7c-4510-a26e-3062be77e984",
   "metadata": {
    "ExecuteTime": {
     "end_time": "2025-09-03T00:47:02.439369Z",
     "start_time": "2025-09-03T00:45:06.058863Z"
    }
   },
   "source": [
    "listing_df['host_since'] = listing_df['host_since'].apply(pd.to_datetime, errors='coerce')"
   ],
   "outputs": [],
   "execution_count": 10
  },
  {
   "cell_type": "code",
   "id": "85160a20-b4b8-4e3f-9b05-dcbed71ac977",
   "metadata": {
    "ExecuteTime": {
     "end_time": "2025-09-03T00:47:02.678544Z",
     "start_time": "2025-09-03T00:47:02.503462Z"
    }
   },
   "source": [
    "df = listing_df.copy()"
   ],
   "outputs": [],
   "execution_count": 11
  },
  {
   "cell_type": "code",
   "id": "ab774972-b317-415e-8a57-3999d92f48fc",
   "metadata": {
    "ExecuteTime": {
     "end_time": "2025-09-03T00:47:49.397142Z",
     "start_time": "2025-09-03T00:47:49.371275Z"
    }
   },
   "source": [
    "# clip extreme max_nights (Airbnb often caps at 365 or 1000 in practice)\n",
    "df[\"minimum_nights\"] = df[\"minimum_nights\"].clip(lower=1, upper=366)\n",
    "df[\"maximum_nights\"] = df[\"maximum_nights\"].clip(lower=1, upper=366)"
   ],
   "outputs": [],
   "execution_count": 12
  },
  {
   "cell_type": "code",
   "id": "189a9324-d7b5-484e-9030-7a13b54285bd",
   "metadata": {
    "ExecuteTime": {
     "end_time": "2025-09-03T00:47:58.505760Z",
     "start_time": "2025-09-03T00:47:58.400305Z"
    }
   },
   "source": [
    "df = df.drop_duplicates(subset=['listing_id'])"
   ],
   "outputs": [],
   "execution_count": 13
  },
  {
   "cell_type": "code",
   "id": "c4392d2f-dd93-4b6f-8605-0512078f8384",
   "metadata": {
    "ExecuteTime": {
     "end_time": "2025-09-03T00:48:07.623729Z",
     "start_time": "2025-09-03T00:48:07.403804Z"
    }
   },
   "source": [
    "print(df.isna().sum().sort_values(ascending=False).head(10))"
   ],
   "outputs": [
    {
     "name": "stdout",
     "output_type": "stream",
     "text": [
      "district                       242700\n",
      "host_response_time             128782\n",
      "host_response_rate             128782\n",
      "host_acceptance_rate           113087\n",
      "review_scores_value             91785\n",
      "review_scores_location          91775\n",
      "review_scores_checkin           91771\n",
      "review_scores_accuracy          91713\n",
      "review_scores_communication     91687\n",
      "review_scores_cleanliness       91665\n",
      "dtype: int64\n"
     ]
    }
   ],
   "execution_count": 14
  },
  {
   "cell_type": "code",
   "id": "8d52e8ae-35ed-4bee-baae-292d6b9cae2b",
   "metadata": {
    "ExecuteTime": {
     "end_time": "2025-09-03T00:48:53.418358Z",
     "start_time": "2025-09-03T00:48:53.412388Z"
    }
   },
   "source": "# Handling Outlier in price,",
   "outputs": [],
   "execution_count": 16
  },
  {
   "cell_type": "code",
   "id": "fcabec7a-5ce5-4237-b723-e6fcd904f99e",
   "metadata": {
    "ExecuteTime": {
     "end_time": "2025-09-03T00:51:37.715167Z",
     "start_time": "2025-09-03T00:51:37.709956Z"
    }
   },
   "source": [
    "def remove_outliers_iqr(dataframe, column, threshold=1.5):\n",
    "    q1 = dataframe[column].quantile(0.25)\n",
    "    q3 = dataframe[column].quantile(0.75)\n",
    "    iqr = q3 - q1\n",
    "    lower_bound = q1 - (iqr * threshold)\n",
    "    upper_bound = q3 + (iqr * threshold)\n",
    "    dataframe = dataframe[(dataframe[column] >= lower_bound) & (dataframe[column] <= upper_bound)]\n",
    "    return dataframe"
   ],
   "outputs": [],
   "execution_count": 17
  },
  {
   "cell_type": "code",
   "id": "3ca2a9f5-4187-4503-a013-42c7c18674b2",
   "metadata": {
    "ExecuteTime": {
     "end_time": "2025-09-03T00:51:50.360289Z",
     "start_time": "2025-09-03T00:51:50.147433Z"
    }
   },
   "source": [
    "# Remove outliers from the 'total_sales' column\n",
    "df = remove_outliers_iqr(df, 'price')\n",
    "df = remove_outliers_iqr(df, 'minimum_nights')\n",
    "df = remove_outliers_iqr(df, 'maximum_nights')"
   ],
   "outputs": [],
   "execution_count": 18
  },
  {
   "cell_type": "code",
   "id": "a66580c9-d69c-4a8b-89bf-127c31a5d835",
   "metadata": {
    "ExecuteTime": {
     "end_time": "2025-09-03T00:51:52.875766Z",
     "start_time": "2025-09-03T00:51:52.671693Z"
    }
   },
   "source": [
    "df.describe()"
   ],
   "outputs": [
    {
     "data": {
      "text/plain": [
       "         listing_id       host_id                     host_since  \\\n",
       "count  2.081310e+05  2.081310e+05                         208005   \n",
       "mean   2.659077e+07  1.108354e+08  2016-05-05 07:38:38.984639488   \n",
       "min    2.577000e+03  1.822000e+03            2008-08-12 00:00:00   \n",
       "25%    1.399090e+07  1.793698e+07            2014-07-17 00:00:00   \n",
       "50%    2.807312e+07  6.082708e+07            2016-03-02 00:00:00   \n",
       "75%    3.992167e+07  1.898693e+08            2018-05-16 00:00:00   \n",
       "max    4.833988e+07  3.901874e+08            2021-02-26 00:00:00   \n",
       "std    1.442195e+07  1.121124e+08                            NaN   \n",
       "\n",
       "       host_response_rate  host_acceptance_rate  host_total_listings_count  \\\n",
       "count       112664.000000         125907.000000              208005.000000   \n",
       "mean             0.865651              0.837057                  20.236985   \n",
       "min              0.000000              0.000000                   0.000000   \n",
       "25%              0.900000              0.810000                   1.000000   \n",
       "50%              1.000000              0.990000                   1.000000   \n",
       "75%              1.000000              1.000000                   4.000000   \n",
       "max              1.000000              1.000000                7235.000000   \n",
       "std              0.284813              0.285639                 280.129880   \n",
       "\n",
       "            latitude      longitude   accommodates       bedrooms  \\\n",
       "count  208131.000000  208131.000000  208131.000000  185223.000000   \n",
       "mean       19.335959      18.683047       3.174534       1.434941   \n",
       "min       -34.246860     -99.339630       0.000000       1.000000   \n",
       "25%       -22.968430       2.289190       2.000000       1.000000   \n",
       "50%        41.003630       2.392110       2.000000       1.000000   \n",
       "75%        48.841960      28.983980       4.000000       2.000000   \n",
       "max        48.904910     151.339770      16.000000      50.000000   \n",
       "std        33.602271      70.034351       1.933013       1.086382   \n",
       "\n",
       "               price  minimum_nights  maximum_nights  review_scores_rating  \\\n",
       "count  208131.000000   208131.000000   208131.000000         146690.000000   \n",
       "mean      241.520014        2.460782      242.809457             93.294737   \n",
       "min         0.000000        1.000000        1.000000             20.000000   \n",
       "25%        70.000000        1.000000       30.000000             91.000000   \n",
       "50%       130.000000        2.000000      366.000000             96.000000   \n",
       "75%       320.000000        3.000000      366.000000            100.000000   \n",
       "max      1072.000000       11.000000      366.000000            100.000000   \n",
       "std       247.001997        1.810279      160.214441             10.051478   \n",
       "\n",
       "       review_scores_accuracy  review_scores_cleanliness  \\\n",
       "count           146454.000000              146486.000000   \n",
       "mean                 9.565748                   9.312016   \n",
       "min                  2.000000                   2.000000   \n",
       "25%                  9.000000                   9.000000   \n",
       "50%                 10.000000                  10.000000   \n",
       "75%                 10.000000                  10.000000   \n",
       "max                 10.000000                  10.000000   \n",
       "std                  0.986067                   1.140141   \n",
       "\n",
       "       review_scores_checkin  review_scores_communication  \\\n",
       "count          146417.000000                146479.000000   \n",
       "mean                9.703395                     9.702326   \n",
       "min                 2.000000                     2.000000   \n",
       "25%                10.000000                    10.000000   \n",
       "50%                10.000000                    10.000000   \n",
       "75%                10.000000                    10.000000   \n",
       "max                10.000000                    10.000000   \n",
       "std                 0.861848                     0.876841   \n",
       "\n",
       "       review_scores_location  review_scores_value  \n",
       "count           146413.000000        146409.000000  \n",
       "mean                 9.640756             9.334549  \n",
       "min                  2.000000             2.000000  \n",
       "25%                 10.000000             9.000000  \n",
       "50%                 10.000000            10.000000  \n",
       "75%                 10.000000            10.000000  \n",
       "max                 10.000000            10.000000  \n",
       "std                  0.828341             1.033734  "
      ],
      "text/html": [
       "<div>\n",
       "<style scoped>\n",
       "    .dataframe tbody tr th:only-of-type {\n",
       "        vertical-align: middle;\n",
       "    }\n",
       "\n",
       "    .dataframe tbody tr th {\n",
       "        vertical-align: top;\n",
       "    }\n",
       "\n",
       "    .dataframe thead th {\n",
       "        text-align: right;\n",
       "    }\n",
       "</style>\n",
       "<table border=\"1\" class=\"dataframe\">\n",
       "  <thead>\n",
       "    <tr style=\"text-align: right;\">\n",
       "      <th></th>\n",
       "      <th>listing_id</th>\n",
       "      <th>host_id</th>\n",
       "      <th>host_since</th>\n",
       "      <th>host_response_rate</th>\n",
       "      <th>host_acceptance_rate</th>\n",
       "      <th>host_total_listings_count</th>\n",
       "      <th>latitude</th>\n",
       "      <th>longitude</th>\n",
       "      <th>accommodates</th>\n",
       "      <th>bedrooms</th>\n",
       "      <th>price</th>\n",
       "      <th>minimum_nights</th>\n",
       "      <th>maximum_nights</th>\n",
       "      <th>review_scores_rating</th>\n",
       "      <th>review_scores_accuracy</th>\n",
       "      <th>review_scores_cleanliness</th>\n",
       "      <th>review_scores_checkin</th>\n",
       "      <th>review_scores_communication</th>\n",
       "      <th>review_scores_location</th>\n",
       "      <th>review_scores_value</th>\n",
       "    </tr>\n",
       "  </thead>\n",
       "  <tbody>\n",
       "    <tr>\n",
       "      <th>count</th>\n",
       "      <td>2.081310e+05</td>\n",
       "      <td>2.081310e+05</td>\n",
       "      <td>208005</td>\n",
       "      <td>112664.000000</td>\n",
       "      <td>125907.000000</td>\n",
       "      <td>208005.000000</td>\n",
       "      <td>208131.000000</td>\n",
       "      <td>208131.000000</td>\n",
       "      <td>208131.000000</td>\n",
       "      <td>185223.000000</td>\n",
       "      <td>208131.000000</td>\n",
       "      <td>208131.000000</td>\n",
       "      <td>208131.000000</td>\n",
       "      <td>146690.000000</td>\n",
       "      <td>146454.000000</td>\n",
       "      <td>146486.000000</td>\n",
       "      <td>146417.000000</td>\n",
       "      <td>146479.000000</td>\n",
       "      <td>146413.000000</td>\n",
       "      <td>146409.000000</td>\n",
       "    </tr>\n",
       "    <tr>\n",
       "      <th>mean</th>\n",
       "      <td>2.659077e+07</td>\n",
       "      <td>1.108354e+08</td>\n",
       "      <td>2016-05-05 07:38:38.984639488</td>\n",
       "      <td>0.865651</td>\n",
       "      <td>0.837057</td>\n",
       "      <td>20.236985</td>\n",
       "      <td>19.335959</td>\n",
       "      <td>18.683047</td>\n",
       "      <td>3.174534</td>\n",
       "      <td>1.434941</td>\n",
       "      <td>241.520014</td>\n",
       "      <td>2.460782</td>\n",
       "      <td>242.809457</td>\n",
       "      <td>93.294737</td>\n",
       "      <td>9.565748</td>\n",
       "      <td>9.312016</td>\n",
       "      <td>9.703395</td>\n",
       "      <td>9.702326</td>\n",
       "      <td>9.640756</td>\n",
       "      <td>9.334549</td>\n",
       "    </tr>\n",
       "    <tr>\n",
       "      <th>min</th>\n",
       "      <td>2.577000e+03</td>\n",
       "      <td>1.822000e+03</td>\n",
       "      <td>2008-08-12 00:00:00</td>\n",
       "      <td>0.000000</td>\n",
       "      <td>0.000000</td>\n",
       "      <td>0.000000</td>\n",
       "      <td>-34.246860</td>\n",
       "      <td>-99.339630</td>\n",
       "      <td>0.000000</td>\n",
       "      <td>1.000000</td>\n",
       "      <td>0.000000</td>\n",
       "      <td>1.000000</td>\n",
       "      <td>1.000000</td>\n",
       "      <td>20.000000</td>\n",
       "      <td>2.000000</td>\n",
       "      <td>2.000000</td>\n",
       "      <td>2.000000</td>\n",
       "      <td>2.000000</td>\n",
       "      <td>2.000000</td>\n",
       "      <td>2.000000</td>\n",
       "    </tr>\n",
       "    <tr>\n",
       "      <th>25%</th>\n",
       "      <td>1.399090e+07</td>\n",
       "      <td>1.793698e+07</td>\n",
       "      <td>2014-07-17 00:00:00</td>\n",
       "      <td>0.900000</td>\n",
       "      <td>0.810000</td>\n",
       "      <td>1.000000</td>\n",
       "      <td>-22.968430</td>\n",
       "      <td>2.289190</td>\n",
       "      <td>2.000000</td>\n",
       "      <td>1.000000</td>\n",
       "      <td>70.000000</td>\n",
       "      <td>1.000000</td>\n",
       "      <td>30.000000</td>\n",
       "      <td>91.000000</td>\n",
       "      <td>9.000000</td>\n",
       "      <td>9.000000</td>\n",
       "      <td>10.000000</td>\n",
       "      <td>10.000000</td>\n",
       "      <td>10.000000</td>\n",
       "      <td>9.000000</td>\n",
       "    </tr>\n",
       "    <tr>\n",
       "      <th>50%</th>\n",
       "      <td>2.807312e+07</td>\n",
       "      <td>6.082708e+07</td>\n",
       "      <td>2016-03-02 00:00:00</td>\n",
       "      <td>1.000000</td>\n",
       "      <td>0.990000</td>\n",
       "      <td>1.000000</td>\n",
       "      <td>41.003630</td>\n",
       "      <td>2.392110</td>\n",
       "      <td>2.000000</td>\n",
       "      <td>1.000000</td>\n",
       "      <td>130.000000</td>\n",
       "      <td>2.000000</td>\n",
       "      <td>366.000000</td>\n",
       "      <td>96.000000</td>\n",
       "      <td>10.000000</td>\n",
       "      <td>10.000000</td>\n",
       "      <td>10.000000</td>\n",
       "      <td>10.000000</td>\n",
       "      <td>10.000000</td>\n",
       "      <td>10.000000</td>\n",
       "    </tr>\n",
       "    <tr>\n",
       "      <th>75%</th>\n",
       "      <td>3.992167e+07</td>\n",
       "      <td>1.898693e+08</td>\n",
       "      <td>2018-05-16 00:00:00</td>\n",
       "      <td>1.000000</td>\n",
       "      <td>1.000000</td>\n",
       "      <td>4.000000</td>\n",
       "      <td>48.841960</td>\n",
       "      <td>28.983980</td>\n",
       "      <td>4.000000</td>\n",
       "      <td>2.000000</td>\n",
       "      <td>320.000000</td>\n",
       "      <td>3.000000</td>\n",
       "      <td>366.000000</td>\n",
       "      <td>100.000000</td>\n",
       "      <td>10.000000</td>\n",
       "      <td>10.000000</td>\n",
       "      <td>10.000000</td>\n",
       "      <td>10.000000</td>\n",
       "      <td>10.000000</td>\n",
       "      <td>10.000000</td>\n",
       "    </tr>\n",
       "    <tr>\n",
       "      <th>max</th>\n",
       "      <td>4.833988e+07</td>\n",
       "      <td>3.901874e+08</td>\n",
       "      <td>2021-02-26 00:00:00</td>\n",
       "      <td>1.000000</td>\n",
       "      <td>1.000000</td>\n",
       "      <td>7235.000000</td>\n",
       "      <td>48.904910</td>\n",
       "      <td>151.339770</td>\n",
       "      <td>16.000000</td>\n",
       "      <td>50.000000</td>\n",
       "      <td>1072.000000</td>\n",
       "      <td>11.000000</td>\n",
       "      <td>366.000000</td>\n",
       "      <td>100.000000</td>\n",
       "      <td>10.000000</td>\n",
       "      <td>10.000000</td>\n",
       "      <td>10.000000</td>\n",
       "      <td>10.000000</td>\n",
       "      <td>10.000000</td>\n",
       "      <td>10.000000</td>\n",
       "    </tr>\n",
       "    <tr>\n",
       "      <th>std</th>\n",
       "      <td>1.442195e+07</td>\n",
       "      <td>1.121124e+08</td>\n",
       "      <td>NaN</td>\n",
       "      <td>0.284813</td>\n",
       "      <td>0.285639</td>\n",
       "      <td>280.129880</td>\n",
       "      <td>33.602271</td>\n",
       "      <td>70.034351</td>\n",
       "      <td>1.933013</td>\n",
       "      <td>1.086382</td>\n",
       "      <td>247.001997</td>\n",
       "      <td>1.810279</td>\n",
       "      <td>160.214441</td>\n",
       "      <td>10.051478</td>\n",
       "      <td>0.986067</td>\n",
       "      <td>1.140141</td>\n",
       "      <td>0.861848</td>\n",
       "      <td>0.876841</td>\n",
       "      <td>0.828341</td>\n",
       "      <td>1.033734</td>\n",
       "    </tr>\n",
       "  </tbody>\n",
       "</table>\n",
       "</div>"
      ]
     },
     "execution_count": 19,
     "metadata": {},
     "output_type": "execute_result"
    }
   ],
   "execution_count": 19
  },
  {
   "metadata": {
    "ExecuteTime": {
     "end_time": "2025-09-03T00:53:52.278898Z",
     "start_time": "2025-09-03T00:53:52.085549Z"
    }
   },
   "cell_type": "code",
   "source": "df.isna().sum().sort_values(ascending=False)",
   "id": "2d78ecf275af0904",
   "outputs": [
    {
     "data": {
      "text/plain": [
       "district                       196645\n",
       "host_response_time              95467\n",
       "host_response_rate              95467\n",
       "host_acceptance_rate            82224\n",
       "review_scores_value             61722\n",
       "review_scores_location          61718\n",
       "review_scores_checkin           61714\n",
       "review_scores_accuracy          61677\n",
       "review_scores_communication     61652\n",
       "review_scores_cleanliness       61645\n",
       "review_scores_rating            61441\n",
       "bedrooms                        22908\n",
       "host_location                     572\n",
       "name                              135\n",
       "host_total_listings_count         126\n",
       "host_is_superhost                 126\n",
       "host_since                        126\n",
       "host_identity_verified            126\n",
       "host_has_profile_pic              126\n",
       "listing_id                          0\n",
       "longitude                           0\n",
       "host_id                             0\n",
       "latitude                            0\n",
       "city                                0\n",
       "neighbourhood                       0\n",
       "maximum_nights                      0\n",
       "minimum_nights                      0\n",
       "price                               0\n",
       "amenities                           0\n",
       "accommodates                        0\n",
       "room_type                           0\n",
       "property_type                       0\n",
       "instant_bookable                    0\n",
       "dtype: int64"
      ]
     },
     "execution_count": 21,
     "metadata": {},
     "output_type": "execute_result"
    }
   ],
   "execution_count": 21
  },
  {
   "cell_type": "markdown",
   "id": "a0cb7a1f-cc66-4462-beed-385c0eb11dec",
   "metadata": {},
   "source": [
    "## Stage 2: EDA"
   ]
  },
  {
   "cell_type": "code",
   "id": "8bf79e98-9a6d-46c2-a525-7f288599fa3a",
   "metadata": {
    "ExecuteTime": {
     "end_time": "2025-09-03T00:52:08.833196Z",
     "start_time": "2025-09-03T00:52:04.642284Z"
    }
   },
   "source": [
    "# ---- 1. Price Distribution ----\n",
    "plt.figure(figsize=(8,5))\n",
    "sns.histplot(df['price'], bins=100, kde=True)\n",
    "plt.xlim(0, 1000)   # focus on most listings (avoid outliers 600k+)\n",
    "plt.title(\"Distribution of Listing Prices (Capped at $1000)\")\n",
    "plt.xlabel(\"Price ($)\")\n",
    "plt.ylabel(\"Count\")\n",
    "plt.show()\n",
    "\n",
    "# ---- 2. Bedrooms Distribution ----\n",
    "plt.figure(figsize=(8,5))\n",
    "sns.countplot(x='bedrooms', data=df, order=df['bedrooms'].value_counts().index[:15])\n",
    "plt.title(\"Top 15 Bedroom Counts in Listings\")\n",
    "plt.xlabel(\"Bedrooms\")\n",
    "plt.ylabel(\"Count\")\n",
    "plt.show()\n",
    "\n",
    "# ---- 3. Accommodates Distribution ----\n",
    "plt.figure(figsize=(8,5))\n",
    "sns.countplot(x='accommodates', data=df, order=df['accommodates'].value_counts().index)\n",
    "plt.title(\"Guests Accommodated per Listing\")\n",
    "plt.xlabel(\"Number of Guests\")\n",
    "plt.ylabel(\"Count\")\n",
    "plt.show()\n",
    "\n",
    "# ---- 4. Review Scores ----\n",
    "plt.figure(figsize=(8,5))\n",
    "sns.histplot(df['review_scores_rating'].dropna(), bins=30, kde=True)\n",
    "plt.title(\"Distribution of Review Scores\")\n",
    "plt.xlabel(\"Review Rating\")\n",
    "plt.ylabel(\"Count\")\n",
    "plt.show()\n",
    "\n",
    "# ---- 5. Price by Room Type ----\n",
    "plt.figure(figsize=(8,5))\n",
    "sns.boxplot(x='room_type', y='price', data=df)\n",
    "plt.ylim(0, 1000)\n",
    "plt.title(\"Price by Room Type (Capped at $1000)\")\n",
    "plt.show()"
   ],
   "outputs": [
    {
     "data": {
      "text/plain": [
       "<Figure size 800x500 with 1 Axes>"
      ],
      "image/png": "[encoded data removed]"
     },
     "metadata": {},
     "output_type": "display_data"
    },
    {
     "data": {
      "text/plain": [
       "<Figure size 800x500 with 1 Axes>"
      ],
      "image/png": "[encoded data removed]"
     },
     "metadata": {},
     "output_type": "display_data"
    },
    {
     "data": {
      "text/plain": [
       "<Figure size 800x500 with 1 Axes>"
      ],
      "image/png": "[encoded data removed]"
     },
     "metadata": {},
     "output_type": "display_data"
    },
    {
     "data": {
      "text/plain": [
       "<Figure size 800x500 with 1 Axes>"
      ],
      "image/png": "[encoded data removed]"
     },
     "metadata": {},
     "output_type": "display_data"
    },
    {
     "data": {
      "text/plain": [
       "<Figure size 800x500 with 1 Axes>"
      ],
      "image/png": "[encoded data removed]"
     },
     "metadata": {},
     "output_type": "display_data"
    }
   ],
   "execution_count": 20
  },
  {
   "cell_type": "markdown",
   "id": "57fa18f8-7938-4987-88b5-f1ab086fdffd",
   "metadata": {},
   "source": [
    "## EDA 2"
   ]
  },
  {
   "cell_type": "code",
   "execution_count": 140,
   "id": "5492eeeb-4c07-443d-a838-3b731b110687",
   "metadata": {},
   "outputs": [],
   "source": [
    "# Can you spot any major differences in the Airbnb market between cities?"
   ]
  },
  {
   "cell_type": "code",
   "id": "887087e3-519c-4c3a-85eb-63dc869fe9e4",
   "metadata": {
    "ExecuteTime": {
     "end_time": "2025-09-03T00:57:29.390848Z",
     "start_time": "2025-09-03T00:57:29.342048Z"
    }
   },
   "source": [
    "df['host_is_superhost'] = df['host_is_superhost'].map({'t': 1, 'f': 0}).fillna(0)\n",
    "\n",
    "city_superhost_df = df[[\"city\", \"host_is_superhost\"]].groupby([\"city\"]).agg({\n",
    "    \"host_is_superhost\":\"sum\"\n",
    "}).reset_index()"
   ],
   "outputs": [],
   "execution_count": 22
  },
  {
   "cell_type": "code",
   "id": "c1b867cf-0b46-48e9-83ce-bed851bbfbbe",
   "metadata": {
    "ExecuteTime": {
     "end_time": "2025-09-03T00:57:33.007781Z",
     "start_time": "2025-09-03T00:57:32.993343Z"
    }
   },
   "source": [
    "city_superhost_df.sort_values(by=\"host_is_superhost\", ascending=False)"
   ],
   "outputs": [
    {
     "data": {
      "text/plain": [
       "             city  host_is_superhost\n",
       "6           Paris             7564.0\n",
       "8            Rome             6971.0\n",
       "4     Mexico City             4270.0\n",
       "7  Rio de Janeiro             4129.0\n",
       "9          Sydney             3837.0\n",
       "5        New York             3665.0\n",
       "3        Istanbul             2892.0\n",
       "1       Cape Town             2306.0\n",
       "0         Bangkok             1561.0\n",
       "2       Hong Kong              509.0"
      ],
      "text/html": [
       "<div>\n",
       "<style scoped>\n",
       "    .dataframe tbody tr th:only-of-type {\n",
       "        vertical-align: middle;\n",
       "    }\n",
       "\n",
       "    .dataframe tbody tr th {\n",
       "        vertical-align: top;\n",
       "    }\n",
       "\n",
       "    .dataframe thead th {\n",
       "        text-align: right;\n",
       "    }\n",
       "</style>\n",
       "<table border=\"1\" class=\"dataframe\">\n",
       "  <thead>\n",
       "    <tr style=\"text-align: right;\">\n",
       "      <th></th>\n",
       "      <th>city</th>\n",
       "      <th>host_is_superhost</th>\n",
       "    </tr>\n",
       "  </thead>\n",
       "  <tbody>\n",
       "    <tr>\n",
       "      <th>6</th>\n",
       "      <td>Paris</td>\n",
       "      <td>7564.0</td>\n",
       "    </tr>\n",
       "    <tr>\n",
       "      <th>8</th>\n",
       "      <td>Rome</td>\n",
       "      <td>6971.0</td>\n",
       "    </tr>\n",
       "    <tr>\n",
       "      <th>4</th>\n",
       "      <td>Mexico City</td>\n",
       "      <td>4270.0</td>\n",
       "    </tr>\n",
       "    <tr>\n",
       "      <th>7</th>\n",
       "      <td>Rio de Janeiro</td>\n",
       "      <td>4129.0</td>\n",
       "    </tr>\n",
       "    <tr>\n",
       "      <th>9</th>\n",
       "      <td>Sydney</td>\n",
       "      <td>3837.0</td>\n",
       "    </tr>\n",
       "    <tr>\n",
       "      <th>5</th>\n",
       "      <td>New York</td>\n",
       "      <td>3665.0</td>\n",
       "    </tr>\n",
       "    <tr>\n",
       "      <th>3</th>\n",
       "      <td>Istanbul</td>\n",
       "      <td>2892.0</td>\n",
       "    </tr>\n",
       "    <tr>\n",
       "      <th>1</th>\n",
       "      <td>Cape Town</td>\n",
       "      <td>2306.0</td>\n",
       "    </tr>\n",
       "    <tr>\n",
       "      <th>0</th>\n",
       "      <td>Bangkok</td>\n",
       "      <td>1561.0</td>\n",
       "    </tr>\n",
       "    <tr>\n",
       "      <th>2</th>\n",
       "      <td>Hong Kong</td>\n",
       "      <td>509.0</td>\n",
       "    </tr>\n",
       "  </tbody>\n",
       "</table>\n",
       "</div>"
      ]
     },
     "execution_count": 23,
     "metadata": {},
     "output_type": "execute_result"
    }
   ],
   "execution_count": 23
  },
  {
   "cell_type": "code",
   "id": "07481e29-01e8-46b1-bbf7-2f45ccb634d9",
   "metadata": {
    "ExecuteTime": {
     "end_time": "2025-09-03T00:59:16.006952Z",
     "start_time": "2025-09-03T00:59:15.696378Z"
    }
   },
   "source": [
    "no_of_city = 10\n",
    "plt.figure(figsize=(12,6))\n",
    "sns.barplot(data=city_superhost_df.head(no_of_city), x=\"city\", y=\"host_is_superhost\")\n",
    "plt.title(\"Number of Superhosts by City\")\n",
    "plt.xlabel(\"City\")\n",
    "plt.ylabel(\"Number of Superhosts\")\n",
    "plt.xticks(rotation=90)  # Rotate x-axis labels for better readability\n",
    "plt.tight_layout()  # Ensure labels fit within the plot area\n",
    "plt.show()"
   ],
   "outputs": [
    {
     "data": {
      "text/plain": [
       "<Figure size 1200x600 with 1 Axes>"
      ],
      "image/png": "[encoded data removed]"
     },
     "metadata": {},
     "output_type": "display_data"
    }
   ],
   "execution_count": 25
  },
  {
   "cell_type": "code",
   "id": "98ee32c5-b2ad-4a14-986d-43ae53a02973",
   "metadata": {
    "ExecuteTime": {
     "end_time": "2025-09-03T00:59:39.622477Z",
     "start_time": "2025-09-03T00:59:39.161591Z"
    }
   },
   "source": [
    "city_roomtype_df = df.groupby([\"city\", \"room_type\"]).size().reset_index(name=\"count\")\n",
    "\n",
    "plt.figure(figsize=(12,6))\n",
    "sns.barplot(data=city_roomtype_df, x=\"city\", y=\"count\", hue=\"room_type\")\n",
    "plt.title(\"Room Type Distribution by City\")\n",
    "plt.xlabel(\"City\")\n",
    "plt.ylabel(\"Number of Listings\")\n",
    "plt.xticks(rotation=90)\n",
    "plt.legend(title=\"Room Type\")\n",
    "plt.tight_layout()\n",
    "plt.show()"
   ],
   "outputs": [
    {
     "data": {
      "text/plain": [
       "<Figure size 1200x600 with 1 Axes>"
      ],
      "image/png": "[encoded data removed]"
     },
     "metadata": {},
     "output_type": "display_data"
    }
   ],
   "execution_count": 26
  },
  {
   "cell_type": "code",
   "id": "bb30e64c-c833-446f-b3c7-de4a84f21709",
   "metadata": {
    "ExecuteTime": {
     "end_time": "2025-09-03T01:00:04.500954Z",
     "start_time": "2025-09-03T01:00:04.217754Z"
    }
   },
   "source": [
    "# Total bedrooms per city\n",
    "city_bedrooms_df = df.groupby(\"city\")[\"bedrooms\"].sum().reset_index()\n",
    "\n",
    "plt.figure(figsize=(12,6))\n",
    "sns.barplot(data=city_bedrooms_df.sort_values(\"bedrooms\", ascending=False).head(10),\n",
    "            x=\"city\", y=\"bedrooms\")\n",
    "plt.title(\"Total Bedrooms by City\")\n",
    "plt.xlabel(\"City\")\n",
    "plt.ylabel(\"Total Bedrooms\")\n",
    "plt.xticks(rotation=90)\n",
    "plt.tight_layout()\n",
    "plt.show()\n"
   ],
   "outputs": [
    {
     "data": {
      "text/plain": [
       "<Figure size 1200x600 with 1 Axes>"
      ],
      "image/png": "[encoded data removed]"
     },
     "metadata": {},
     "output_type": "display_data"
    }
   ],
   "execution_count": 27
  },
  {
   "cell_type": "code",
   "id": "c4519fc0-8dc6-4f1e-98b8-576f614964e5",
   "metadata": {
    "ExecuteTime": {
     "end_time": "2025-09-03T01:00:19.063321Z",
     "start_time": "2025-09-03T01:00:18.756441Z"
    }
   },
   "source": [
    "# Total accomodation per city\n",
    "city_accommodates_df = df.groupby(\"city\")[\"accommodates\"].sum().reset_index()\n",
    "\n",
    "plt.figure(figsize=(12,6))\n",
    "sns.barplot(data=city_accommodates_df.sort_values(\"accommodates\", ascending=False).head(10),\n",
    "            x=\"city\", y=\"accommodates\")\n",
    "plt.title(\"Total Guest Capacity by City\")\n",
    "plt.xlabel(\"City\")\n",
    "plt.ylabel(\"Total Accommodates (Guests)\")\n",
    "plt.xticks(rotation=90)\n",
    "plt.tight_layout()\n",
    "plt.show()\n"
   ],
   "outputs": [
    {
     "data": {
      "text/plain": [
       "<Figure size 1200x600 with 1 Axes>"
      ],
      "image/png": "[encoded data removed]"
     },
     "metadata": {},
     "output_type": "display_data"
    }
   ],
   "execution_count": 28
  },
  {
   "cell_type": "code",
   "id": "e4435b3e-267b-443f-bbcb-fafa21aadbbb",
   "metadata": {
    "ExecuteTime": {
     "end_time": "2025-09-03T01:08:54.754539Z",
     "start_time": "2025-09-03T01:08:53.015213Z"
    }
   },
   "source": [
    "# Box-and-whisker plots of minimum and maximum nights by top 10 cities (by average)\n",
    "\n",
    "# Top 10 cities by average minimum_nights\n",
    "top_min_cities = (\n",
    "    df.groupby(\"city\")[\"minimum_nights\"].mean().sort_values(ascending=False).head(10).index\n",
    ")\n",
    "min_data = df[df[\"city\"].isin(top_min_cities)]\n",
    "\n",
    "plt.figure(figsize=(12, 6))\n",
    "sns.boxplot(data=min_data, x=\"city\", y=\"minimum_nights\", order=top_min_cities)\n",
    "plt.title(\"Minimum Nights by City (Box and Whiskers)\")\n",
    "plt.xlabel(\"City\")\n",
    "plt.ylabel(\"Minimum Nights\")\n",
    "plt.ylim(0, 10)\n",
    "plt.xticks(rotation=90)\n",
    "plt.tight_layout()\n",
    "plt.show()\n",
    "\n",
    "# Top 10 cities by average maximum_nights\n",
    "top_max_cities = (\n",
    "    df.groupby(\"city\")[\"maximum_nights\"].mean().sort_values(ascending=False).head(10).index\n",
    ")\n",
    "max_data = df[df[\"city\"].isin(top_max_cities)]\n",
    "\n",
    "plt.figure(figsize=(12, 6))\n",
    "sns.boxplot(data=max_data, x=\"city\", y=\"maximum_nights\", order=top_max_cities)\n",
    "plt.title(\"Maximum Nights by City (Box and Whiskers)\")\n",
    "plt.xlabel(\"City\")\n",
    "plt.ylabel(\"Maximum Nights\")\n",
    "plt.ylim(0, 500)\n",
    "plt.xticks(rotation=90)\n",
    "plt.tight_layout()\n",
    "plt.show()\n"
   ],
   "outputs": [
    {
     "data": {
      "text/plain": [
       "<Figure size 1200x600 with 1 Axes>"
      ],
      "image/png": "[encoded data removed]"
     },
     "metadata": {},
     "output_type": "display_data"
    },
    {
     "data": {
      "text/plain": [
       "<Figure size 1200x600 with 1 Axes>"
      ],
      "image/png": "[encoded data removed]"
     },
     "metadata": {},
     "output_type": "display_data"
    }
   ],
   "execution_count": 38
  },
  {
   "cell_type": "markdown",
   "id": "fa45f0ec-c0ef-4721-95fe-6a76f8f6fc63",
   "metadata": {},
   "source": "## Feature Engineering and importance to price"
  },
  {
   "cell_type": "code",
   "id": "13fbec26-9169-43f7-bb4a-b493b467da6c",
   "metadata": {
    "ExecuteTime": {
     "end_time": "2025-09-03T01:10:41.716219Z",
     "start_time": "2025-09-03T01:10:41.708487Z"
    }
   },
   "source": "# Which attributes have the biggest influence on price?",
   "outputs": [],
   "execution_count": 39
  },
  {
   "cell_type": "code",
   "id": "253321c5-b68e-4c59-adff-fea61e1588a7",
   "metadata": {
    "ExecuteTime": {
     "end_time": "2025-09-03T01:10:52.458110Z",
     "start_time": "2025-09-03T01:10:52.399111Z"
    }
   },
   "source": [
    "df = df.dropna(subset=['host_is_superhost', 'host_total_listings_count'])"
   ],
   "outputs": [],
   "execution_count": 40
  },
  {
   "cell_type": "code",
   "id": "bd306e70-72ae-41b6-bc0e-57193de1bc76",
   "metadata": {
    "ExecuteTime": {
     "end_time": "2025-09-03T01:14:13.098648Z",
     "start_time": "2025-09-03T01:14:13.021276Z"
    }
   },
   "source": [
    "drop_cols = ([\n",
    "    \"listing_id\", \"name\", \"host_id\",  \"host_location\", \"reviewer_id\", \"district\", \"date\",#Highly unique columns\n",
    "    \"host_response_time\", \"host_response_rate\", \"host_acceptance_rate\", #High level of NaN value (to bottom)\n",
    "    \"bedrooms\", \"review_scores_rating\", \"review_scores_accuracy\", \n",
    "    \"review_scores_cleanliness\", \"review_scores_checkin\", \"review_scores_communication\",\n",
    "    \"review_scores_location\", \"review_scores_value\", \"neighbourhood\"\n",
    "])\n",
    "df = df.drop(columns=[c for c in drop_cols if c in df.columns])\n",
    "\n",
    "X= df.drop(columns=[\"price\"])\n",
    "y= df[\"price\"]"
   ],
   "outputs": [],
   "execution_count": 41
  },
  {
   "metadata": {
    "ExecuteTime": {
     "end_time": "2025-09-03T01:15:05.134719Z",
     "start_time": "2025-09-03T01:15:04.118343Z"
    }
   },
   "cell_type": "code",
   "source": [
    "# Handling list of amenities\n",
    "X[\"amenities\"] = X[\"amenities\"].astype(str)\n",
    "X[\"amenities_count\"] = X[\"amenities\"].apply(lambda x: len(x.replace(\"[\",\"\").replace(\"]\",\"\").replace(\"\\\"\",\"\").replace(\"\\'\",\"\").split(\",\")))\n",
    "X = X.drop(columns=[\"amenities\"])\n",
    "\n",
    "# Handling Host_since \"YYYY-MM-DD\"\n",
    "NO_OF_DAYS_IN_YEAR = 365\n",
    "# YEAR_OF_AIRBNB_START = 2008\n",
    "X[\"host_since\"] = pd.to_datetime(X[\"host_since\"], errors=\"coerce\")\n",
    "today = pd.to_datetime(\"today\")\n",
    "X[\"host_experience_years\"] = (today - X[\"host_since\"]).dt.days // NO_OF_DAYS_IN_YEAR\n",
    "X = X.drop(columns=[\"host_since\"])"
   ],
   "id": "fcc79fa243158ba3",
   "outputs": [],
   "execution_count": 42
  },
  {
   "metadata": {
    "ExecuteTime": {
     "end_time": "2025-09-03T01:15:17.932913Z",
     "start_time": "2025-09-03T01:15:17.903283Z"
    }
   },
   "cell_type": "code",
   "source": "X",
   "id": "dbffa5ba81d6ea60",
   "outputs": [
    {
     "data": {
      "text/plain": [
       "        host_is_superhost  host_total_listings_count host_has_profile_pic  \\\n",
       "0                     0.0                        1.0                    t   \n",
       "1                     0.0                        1.0                    t   \n",
       "2                     0.0                        1.0                    t   \n",
       "3                     0.0                        1.0                    t   \n",
       "4                     0.0                        1.0                    t   \n",
       "...                   ...                        ...                  ...   \n",
       "279707                0.0                        1.0                    t   \n",
       "279708                0.0                        1.0                    t   \n",
       "279709                0.0                        1.0                    t   \n",
       "279710                0.0                        1.0                    t   \n",
       "279711                0.0                        1.0                    t   \n",
       "\n",
       "       host_identity_verified   city  latitude  longitude     property_type  \\\n",
       "0                           f  Paris  48.88668    2.33343  Entire apartment   \n",
       "1                           t  Paris  48.88617    2.34515  Entire apartment   \n",
       "2                           f  Paris  48.88112    2.31712  Entire apartment   \n",
       "3                           t  Paris  48.84571    2.30584  Entire apartment   \n",
       "4                           f  Paris  48.85500    2.26979  Entire apartment   \n",
       "...                       ...    ...       ...        ...               ...   \n",
       "279707                      t  Paris  48.82701    2.31419  Entire apartment   \n",
       "279708                      t  Paris  48.89309    2.33206  Entire apartment   \n",
       "279709                      t  Paris  48.88699    2.34920  Entire apartment   \n",
       "279710                      t  Paris  48.86687    2.38123  Entire apartment   \n",
       "279711                      t  Paris  48.87217    2.36320  Entire apartment   \n",
       "\n",
       "           room_type  accommodates  minimum_nights  maximum_nights  \\\n",
       "0       Entire place             2               2             366   \n",
       "1       Entire place             2               2             366   \n",
       "2       Entire place             2               2             366   \n",
       "3       Entire place             2               2             366   \n",
       "4       Entire place             2               2             366   \n",
       "...              ...           ...             ...             ...   \n",
       "279707  Entire place             2               1               7   \n",
       "279708  Entire place             2               7              15   \n",
       "279709  Entire place             2               6              30   \n",
       "279710  Entire place             2               3              18   \n",
       "279711  Entire place             2               2               4   \n",
       "\n",
       "       instant_bookable  amenities_count  host_experience_years  \n",
       "0                     f                5                     13  \n",
       "1                     f                8                     11  \n",
       "2                     f                6                     11  \n",
       "3                     f                5                     11  \n",
       "4                     f               12                     10  \n",
       "...                 ...              ...                    ...  \n",
       "279707                f               12                     10  \n",
       "279708                f               12                     11  \n",
       "279709                f               15                     13  \n",
       "279710                f               15                     10  \n",
       "279711                f               17                     12  \n",
       "\n",
       "[208005 rows x 15 columns]"
      ],
      "text/html": [
       "<div>\n",
       "<style scoped>\n",
       "    .dataframe tbody tr th:only-of-type {\n",
       "        vertical-align: middle;\n",
       "    }\n",
       "\n",
       "    .dataframe tbody tr th {\n",
       "        vertical-align: top;\n",
       "    }\n",
       "\n",
       "    .dataframe thead th {\n",
       "        text-align: right;\n",
       "    }\n",
       "</style>\n",
       "<table border=\"1\" class=\"dataframe\">\n",
       "  <thead>\n",
       "    <tr style=\"text-align: right;\">\n",
       "      <th></th>\n",
       "      <th>host_is_superhost</th>\n",
       "      <th>host_total_listings_count</th>\n",
       "      <th>host_has_profile_pic</th>\n",
       "      <th>host_identity_verified</th>\n",
       "      <th>city</th>\n",
       "      <th>latitude</th>\n",
       "      <th>longitude</th>\n",
       "      <th>property_type</th>\n",
       "      <th>room_type</th>\n",
       "      <th>accommodates</th>\n",
       "      <th>minimum_nights</th>\n",
       "      <th>maximum_nights</th>\n",
       "      <th>instant_bookable</th>\n",
       "      <th>amenities_count</th>\n",
       "      <th>host_experience_years</th>\n",
       "    </tr>\n",
       "  </thead>\n",
       "  <tbody>\n",
       "    <tr>\n",
       "      <th>0</th>\n",
       "      <td>0.0</td>\n",
       "      <td>1.0</td>\n",
       "      <td>t</td>\n",
       "      <td>f</td>\n",
       "      <td>Paris</td>\n",
       "      <td>48.88668</td>\n",
       "      <td>2.33343</td>\n",
       "      <td>Entire apartment</td>\n",
       "      <td>Entire place</td>\n",
       "      <td>2</td>\n",
       "      <td>2</td>\n",
       "      <td>366</td>\n",
       "      <td>f</td>\n",
       "      <td>5</td>\n",
       "      <td>13</td>\n",
       "    </tr>\n",
       "    <tr>\n",
       "      <th>1</th>\n",
       "      <td>0.0</td>\n",
       "      <td>1.0</td>\n",
       "      <td>t</td>\n",
       "      <td>t</td>\n",
       "      <td>Paris</td>\n",
       "      <td>48.88617</td>\n",
       "      <td>2.34515</td>\n",
       "      <td>Entire apartment</td>\n",
       "      <td>Entire place</td>\n",
       "      <td>2</td>\n",
       "      <td>2</td>\n",
       "      <td>366</td>\n",
       "      <td>f</td>\n",
       "      <td>8</td>\n",
       "      <td>11</td>\n",
       "    </tr>\n",
       "    <tr>\n",
       "      <th>2</th>\n",
       "      <td>0.0</td>\n",
       "      <td>1.0</td>\n",
       "      <td>t</td>\n",
       "      <td>f</td>\n",
       "      <td>Paris</td>\n",
       "      <td>48.88112</td>\n",
       "      <td>2.31712</td>\n",
       "      <td>Entire apartment</td>\n",
       "      <td>Entire place</td>\n",
       "      <td>2</td>\n",
       "      <td>2</td>\n",
       "      <td>366</td>\n",
       "      <td>f</td>\n",
       "      <td>6</td>\n",
       "      <td>11</td>\n",
       "    </tr>\n",
       "    <tr>\n",
       "      <th>3</th>\n",
       "      <td>0.0</td>\n",
       "      <td>1.0</td>\n",
       "      <td>t</td>\n",
       "      <td>t</td>\n",
       "      <td>Paris</td>\n",
       "      <td>48.84571</td>\n",
       "      <td>2.30584</td>\n",
       "      <td>Entire apartment</td>\n",
       "      <td>Entire place</td>\n",
       "      <td>2</td>\n",
       "      <td>2</td>\n",
       "      <td>366</td>\n",
       "      <td>f</td>\n",
       "      <td>5</td>\n",
       "      <td>11</td>\n",
       "    </tr>\n",
       "    <tr>\n",
       "      <th>4</th>\n",
       "      <td>0.0</td>\n",
       "      <td>1.0</td>\n",
       "      <td>t</td>\n",
       "      <td>f</td>\n",
       "      <td>Paris</td>\n",
       "      <td>48.85500</td>\n",
       "      <td>2.26979</td>\n",
       "      <td>Entire apartment</td>\n",
       "      <td>Entire place</td>\n",
       "      <td>2</td>\n",
       "      <td>2</td>\n",
       "      <td>366</td>\n",
       "      <td>f</td>\n",
       "      <td>12</td>\n",
       "      <td>10</td>\n",
       "    </tr>\n",
       "    <tr>\n",
       "      <th>...</th>\n",
       "      <td>...</td>\n",
       "      <td>...</td>\n",
       "      <td>...</td>\n",
       "      <td>...</td>\n",
       "      <td>...</td>\n",
       "      <td>...</td>\n",
       "      <td>...</td>\n",
       "      <td>...</td>\n",
       "      <td>...</td>\n",
       "      <td>...</td>\n",
       "      <td>...</td>\n",
       "      <td>...</td>\n",
       "      <td>...</td>\n",
       "      <td>...</td>\n",
       "      <td>...</td>\n",
       "    </tr>\n",
       "    <tr>\n",
       "      <th>279707</th>\n",
       "      <td>0.0</td>\n",
       "      <td>1.0</td>\n",
       "      <td>t</td>\n",
       "      <td>t</td>\n",
       "      <td>Paris</td>\n",
       "      <td>48.82701</td>\n",
       "      <td>2.31419</td>\n",
       "      <td>Entire apartment</td>\n",
       "      <td>Entire place</td>\n",
       "      <td>2</td>\n",
       "      <td>1</td>\n",
       "      <td>7</td>\n",
       "      <td>f</td>\n",
       "      <td>12</td>\n",
       "      <td>10</td>\n",
       "    </tr>\n",
       "    <tr>\n",
       "      <th>279708</th>\n",
       "      <td>0.0</td>\n",
       "      <td>1.0</td>\n",
       "      <td>t</td>\n",
       "      <td>t</td>\n",
       "      <td>Paris</td>\n",
       "      <td>48.89309</td>\n",
       "      <td>2.33206</td>\n",
       "      <td>Entire apartment</td>\n",
       "      <td>Entire place</td>\n",
       "      <td>2</td>\n",
       "      <td>7</td>\n",
       "      <td>15</td>\n",
       "      <td>f</td>\n",
       "      <td>12</td>\n",
       "      <td>11</td>\n",
       "    </tr>\n",
       "    <tr>\n",
       "      <th>279709</th>\n",
       "      <td>0.0</td>\n",
       "      <td>1.0</td>\n",
       "      <td>t</td>\n",
       "      <td>t</td>\n",
       "      <td>Paris</td>\n",
       "      <td>48.88699</td>\n",
       "      <td>2.34920</td>\n",
       "      <td>Entire apartment</td>\n",
       "      <td>Entire place</td>\n",
       "      <td>2</td>\n",
       "      <td>6</td>\n",
       "      <td>30</td>\n",
       "      <td>f</td>\n",
       "      <td>15</td>\n",
       "      <td>13</td>\n",
       "    </tr>\n",
       "    <tr>\n",
       "      <th>279710</th>\n",
       "      <td>0.0</td>\n",
       "      <td>1.0</td>\n",
       "      <td>t</td>\n",
       "      <td>t</td>\n",
       "      <td>Paris</td>\n",
       "      <td>48.86687</td>\n",
       "      <td>2.38123</td>\n",
       "      <td>Entire apartment</td>\n",
       "      <td>Entire place</td>\n",
       "      <td>2</td>\n",
       "      <td>3</td>\n",
       "      <td>18</td>\n",
       "      <td>f</td>\n",
       "      <td>15</td>\n",
       "      <td>10</td>\n",
       "    </tr>\n",
       "    <tr>\n",
       "      <th>279711</th>\n",
       "      <td>0.0</td>\n",
       "      <td>1.0</td>\n",
       "      <td>t</td>\n",
       "      <td>t</td>\n",
       "      <td>Paris</td>\n",
       "      <td>48.87217</td>\n",
       "      <td>2.36320</td>\n",
       "      <td>Entire apartment</td>\n",
       "      <td>Entire place</td>\n",
       "      <td>2</td>\n",
       "      <td>2</td>\n",
       "      <td>4</td>\n",
       "      <td>f</td>\n",
       "      <td>17</td>\n",
       "      <td>12</td>\n",
       "    </tr>\n",
       "  </tbody>\n",
       "</table>\n",
       "<p>208005 rows × 15 columns</p>\n",
       "</div>"
      ]
     },
     "execution_count": 43,
     "metadata": {},
     "output_type": "execute_result"
    }
   ],
   "execution_count": 43
  },
  {
   "metadata": {
    "ExecuteTime": {
     "end_time": "2025-09-03T01:15:55.197306Z",
     "start_time": "2025-09-03T01:15:55.161735Z"
    }
   },
   "cell_type": "code",
   "source": [
    "# X['host_is_superhost'] = X['host_is_superhost'].map({'t': 1, 'f': 0}).fillna(0)\n",
    "X['host_has_profile_pic'] = X['host_has_profile_pic'].map({'t': 1, 'f': 0}).fillna(0)\n",
    "X['host_identity_verified'] = X['host_identity_verified'].map({'t': 1, 'f': 0}).fillna(0)\n",
    "X['instant_bookable'] = X['instant_bookable'].map({'t': 1, 'f': 0}).fillna(0)"
   ],
   "id": "2e667b9baf34b64a",
   "outputs": [],
   "execution_count": 44
  },
  {
   "metadata": {},
   "cell_type": "markdown",
   "source": "## Building flexible pipeline with multiple model",
   "id": "17593309986b993f"
  },
  {
   "metadata": {
    "ExecuteTime": {
     "end_time": "2025-09-03T01:16:41.583768Z",
     "start_time": "2025-09-03T01:16:41.161738Z"
    }
   },
   "cell_type": "code",
   "source": [
    "from sklearn.pipeline import Pipeline\n",
    "from sklearn.compose import ColumnTransformer\n",
    "from sklearn.preprocessing import StandardScaler, OneHotEncoder\n",
    "from sklearn.cluster import KMeans\n",
    "from sklearn.linear_model import LinearRegression\n",
    "from sklearn.ensemble import RandomForestRegressor\n",
    "from sklearn.model_selection import train_test_split, cross_val_score"
   ],
   "id": "7ec2add0af03e9de",
   "outputs": [],
   "execution_count": 45
  },
  {
   "metadata": {
    "ExecuteTime": {
     "end_time": "2025-09-03T01:17:15.046972Z",
     "start_time": "2025-09-03T01:17:15.041900Z"
    }
   },
   "cell_type": "code",
   "source": [
    "# Feature groups\n",
    "# \"bedrooms\" was removed from numerical, i will add it back if needed\n",
    "numeric_features = [\"accommodates\", \"minimum_nights\", \"maximum_nights\",\n",
    "                    \"host_total_listings_count\", \"amenities_count\", \"host_experience_years\"]\n",
    "categorical_features = [\"property_type\", \"room_type\", \"city\", \"instant_bookable\",\n",
    "                        \"host_is_superhost\", \"host_has_profile_pic\", \"host_identity_verified\"]\n",
    "\n",
    "geo_features = [\"latitude\", \"longitude\"]  # for clustering\n"
   ],
   "id": "f2618690ddb9d50",
   "outputs": [],
   "execution_count": 46
  },
  {
   "cell_type": "code",
   "id": "62783c24-18e9-4cab-8d30-0d37f7c1e7ff",
   "metadata": {
    "ExecuteTime": {
     "end_time": "2025-09-03T02:22:25.716557Z",
     "start_time": "2025-09-03T02:22:19.438792Z"
    }
   },
   "source": [
    "# Picking optimum number of clusters\n",
    "from sklearn.metrics import silhouette_score\n",
    "\n",
    "# geo = X[[\"latitude\", \"longitude\"]]\n",
    "geo = X[[\"latitude\", \"longitude\"]].sample(5000)#to save time i choose a small sample\n",
    "# Determine the optimal number of clusters using the Elbow Method\n",
    "sse = []\n",
    "silhouette = []\n",
    "K_range = range(2, 21)\n",
    "\n",
    "for k in K_range:\n",
    "    k_means = KMeans(n_clusters=k, random_state=42)\n",
    "    k_means.fit(geo)\n",
    "    sse.append(k_means.inertia_)\n",
    "    silhouette.append(silhouette_score(geo, k_means.labels_))\n",
    "\n",
    "# Plotting the Elbow Method\n",
    "plt.figure(figsize=(12, 5))\n",
    "plt.subplot(1, 2, 1)\n",
    "plt.plot(K_range, sse, marker='o')#\"'bx-'\n",
    "plt.xlabel('Number of clusters (k)')\n",
    "plt.ylabel('Sum of squared distances (SSE)')\n",
    "plt.title('Elbow Method for Optimal k')"
   ],
   "outputs": [
    {
     "data": {
      "text/plain": [
       "Text(0.5, 1.0, 'Elbow Method for Optimal k')"
      ]
     },
     "execution_count": 54,
     "metadata": {},
     "output_type": "execute_result"
    },
    {
     "data": {
      "text/plain": [
       "<Figure size 1200x500 with 1 Axes>"
      ],
      "image/png": "[encoded data removed]"
     },
     "metadata": {},
     "output_type": "display_data"
    }
   ],
   "execution_count": 54
  },
  {
   "metadata": {
    "ExecuteTime": {
     "end_time": "2025-09-03T02:33:49.319269Z",
     "start_time": "2025-09-03T02:33:49.315074Z"
    }
   },
   "cell_type": "code",
   "source": [
    "# Preprocessors\n",
    "\n",
    "# numeric → scaling\n",
    "numeric_transformer = Pipeline(steps=[\n",
    "    (\"scaler\", StandardScaler())\n",
    "])\n",
    "\n",
    "# categorical → one hot\n",
    "categorical_transformer = Pipeline(steps=[\n",
    "    (\"encoder\", OneHotEncoder(handle_unknown=\"ignore\"))\n",
    "])\n",
    "\n",
    "# geo → cluster + drop lat/lon\n",
    "geo_transformer = Pipeline(steps=[\n",
    "    (\"cluster\", KMeans(n_clusters=8, random_state=42)),  # Choose 8 based on the above graph\n",
    "    (\"onehot\", OneHotEncoder(handle_unknown=\"ignore\"))\n",
    "])"
   ],
   "id": "47dd31b65f122cf0",
   "outputs": [],
   "execution_count": 57
  },
  {
   "metadata": {
    "ExecuteTime": {
     "end_time": "2025-09-03T02:33:58.168151Z",
     "start_time": "2025-09-03T02:33:58.164081Z"
    }
   },
   "cell_type": "code",
   "source": [
    "# Full preprocessing\n",
    "preprocessor = ColumnTransformer(\n",
    "    transformers=[\n",
    "        (\"num\", numeric_transformer, numeric_features),\n",
    "        (\"cat\", categorical_transformer, categorical_features),\n",
    "        (\"geo\", geo_transformer, geo_features)\n",
    "    ],\n",
    "    remainder=\"drop\"\n",
    ")"
   ],
   "id": "f448cf3a3507803b",
   "outputs": [],
   "execution_count": 58
  },
  {
   "metadata": {
    "ExecuteTime": {
     "end_time": "2025-09-03T02:34:01.293921Z",
     "start_time": "2025-09-03T02:34:01.287057Z"
    }
   },
   "cell_type": "code",
   "source": [
    "# Flexible Model Pipeline\n",
    "def make_pipeline(regressor_model):\n",
    "    return Pipeline(steps=[\n",
    "        (\"preprocessor\", preprocessor),\n",
    "        (\"regressor\", regressor_model)\n",
    "    ])"
   ],
   "id": "946f51ec09138366",
   "outputs": [],
   "execution_count": 59
  },
  {
   "metadata": {
    "ExecuteTime": {
     "end_time": "2025-09-03T02:34:03.149138Z",
     "start_time": "2025-09-03T02:34:03.145163Z"
    }
   },
   "cell_type": "code",
   "source": [
    "models = {\n",
    "    \"Linear Regression\": LinearRegression(),\n",
    "    # \"Random Forest\": RandomForestRegressor(n_estimators=100, random_state=42)\n",
    "}"
   ],
   "id": "c1c522922fe0f805",
   "outputs": [],
   "execution_count": 60
  },
  {
   "metadata": {
    "ExecuteTime": {
     "end_time": "2025-09-03T02:45:53.363289Z",
     "start_time": "2025-09-03T02:34:14.037715Z"
    }
   },
   "cell_type": "code",
   "source": [
    "# Example\n",
    "X_train, X_test, y_train, y_test = train_test_split(X, y, test_size=0.2, random_state=42)\n",
    "\n",
    "for name, model in models.items():\n",
    "    pipeline = make_pipeline(model)\n",
    "    scores_mae = cross_val_score(pipeline, X_train, y_train, cv=5, scoring=\"neg_mean_absolute_error\")\n",
    "    scores_r2 = cross_val_score(pipeline, X_train, y_train, cv=5, scoring=\"r2\")\n",
    "    print(f\"{name} - Mean MAE: {-scores_mae.mean():.2f}, Std: {scores_mae.std():.2f}\")\n",
    "    print(f\"{name} - Mean R2: {scores_r2.mean():.2f}, Std: {scores_r2.std():.2f}\")"
   ],
   "id": "e7c9cb2ee7e70515",
   "outputs": [
    {
     "name": "stdout",
     "output_type": "stream",
     "text": [
      "Linear Regression - Mean MAE: 100.09, Std: 1.06\n",
      "Linear Regression - Mean R2: 0.62, Std: 0.00\n"
     ]
    }
   ],
   "execution_count": 61
  },
  {
   "metadata": {},
   "cell_type": "code",
   "outputs": [],
   "execution_count": null,
   "source": [
    "# Permutation Importance for Linear Regression\n",
    "from sklearn.inspection import permutation_importance\n",
    "\n",
    "pipe = make_pipeline(models[\"Linear Regression\"])\n",
    "pipe.fit(X_train, y_train)\n",
    "\n",
    "# Compute permutation importance on the test set\n",
    "result = permutation_importance(pipe, X_test, y_test, n_repeats=10, random_state=42)\n",
    "\n",
    "# Get feature names after preprocessing\n",
    "feature_names = (\n",
    "    numeric_features +\n",
    "    list(pipe\n",
    "         .named_steps[\"preprocessor\"].transformers_[1][1]\n",
    "         .named_steps[\"encoder\"].get_feature_names_out(categorical_features))\n",
    "    + [\"geo_cluster\"]\n",
    ")\n",
    "\n",
    "importance = pd.DataFrame({\n",
    "    \"Feature\": feature_names,\n",
    "    \"Importance\": result.importances_mean,\n",
    "    \"Std\": result.importances_std\n",
    "}).sort_values(by=\"Importance\", ascending=False)\n",
    "\n",
    "print(importance.head(10))"
   ],
   "id": "dadb918c8267317d"
  },
  {
   "metadata": {},
   "cell_type": "markdown",
   "source": "## Time Series Analysis",
   "id": "18d93de750007dfa"
  },
  {
   "metadata": {
    "ExecuteTime": {
     "end_time": "2025-09-03T07:27:51.662089Z",
     "start_time": "2025-09-03T07:27:51.655192Z"
    }
   },
   "cell_type": "code",
   "source": "# Are you able to identify any trends or seasonality in the review data?",
   "id": "945691e1f3c110b3",
   "outputs": [],
   "execution_count": 139
  },
  {
   "metadata": {
    "ExecuteTime": {
     "end_time": "2025-09-03T07:27:57.785342Z",
     "start_time": "2025-09-03T07:27:52.255022Z"
    }
   },
   "cell_type": "code",
   "source": [
    "reviews_df = pd.read_csv(\"data/Reviews.csv\", sep=\",\", encoding=\"latin1\", low_memory=False)\n",
    "reviews_df[\"date\"] = pd.to_datetime(reviews_df[\"date\"], errors=\"coerce\")\n",
    "reviews_df.head()"
   ],
   "id": "389569796787979a",
   "outputs": [
    {
     "data": {
      "text/plain": [
       "   listing_id  review_id       date  reviewer_id\n",
       "0       11798  330265172 2018-09-30     11863072\n",
       "1       15383  330103585 2018-09-30     39147453\n",
       "2       16455  329985788 2018-09-30      1125378\n",
       "3       17919  330016899 2018-09-30    172717984\n",
       "4       26827  329995638 2018-09-30     17542859"
      ],
      "text/html": [
       "<div>\n",
       "<style scoped>\n",
       "    .dataframe tbody tr th:only-of-type {\n",
       "        vertical-align: middle;\n",
       "    }\n",
       "\n",
       "    .dataframe tbody tr th {\n",
       "        vertical-align: top;\n",
       "    }\n",
       "\n",
       "    .dataframe thead th {\n",
       "        text-align: right;\n",
       "    }\n",
       "</style>\n",
       "<table border=\"1\" class=\"dataframe\">\n",
       "  <thead>\n",
       "    <tr style=\"text-align: right;\">\n",
       "      <th></th>\n",
       "      <th>listing_id</th>\n",
       "      <th>review_id</th>\n",
       "      <th>date</th>\n",
       "      <th>reviewer_id</th>\n",
       "    </tr>\n",
       "  </thead>\n",
       "  <tbody>\n",
       "    <tr>\n",
       "      <th>0</th>\n",
       "      <td>11798</td>\n",
       "      <td>330265172</td>\n",
       "      <td>2018-09-30</td>\n",
       "      <td>11863072</td>\n",
       "    </tr>\n",
       "    <tr>\n",
       "      <th>1</th>\n",
       "      <td>15383</td>\n",
       "      <td>330103585</td>\n",
       "      <td>2018-09-30</td>\n",
       "      <td>39147453</td>\n",
       "    </tr>\n",
       "    <tr>\n",
       "      <th>2</th>\n",
       "      <td>16455</td>\n",
       "      <td>329985788</td>\n",
       "      <td>2018-09-30</td>\n",
       "      <td>1125378</td>\n",
       "    </tr>\n",
       "    <tr>\n",
       "      <th>3</th>\n",
       "      <td>17919</td>\n",
       "      <td>330016899</td>\n",
       "      <td>2018-09-30</td>\n",
       "      <td>172717984</td>\n",
       "    </tr>\n",
       "    <tr>\n",
       "      <th>4</th>\n",
       "      <td>26827</td>\n",
       "      <td>329995638</td>\n",
       "      <td>2018-09-30</td>\n",
       "      <td>17542859</td>\n",
       "    </tr>\n",
       "  </tbody>\n",
       "</table>\n",
       "</div>"
      ]
     },
     "execution_count": 140,
     "metadata": {},
     "output_type": "execute_result"
    }
   ],
   "execution_count": 140
  },
  {
   "metadata": {
    "ExecuteTime": {
     "end_time": "2025-09-03T07:27:58.188305Z",
     "start_time": "2025-09-03T07:27:58.173505Z"
    }
   },
   "cell_type": "code",
   "source": "reviews_df.info()",
   "id": "ecb51995f7ae791f",
   "outputs": [
    {
     "name": "stdout",
     "output_type": "stream",
     "text": [
      "<class 'pandas.core.frame.DataFrame'>\n",
      "RangeIndex: 5373143 entries, 0 to 5373142\n",
      "Data columns (total 4 columns):\n",
      " #   Column       Dtype         \n",
      "---  ------       -----         \n",
      " 0   listing_id   int64         \n",
      " 1   review_id    int64         \n",
      " 2   date         datetime64[ns]\n",
      " 3   reviewer_id  int64         \n",
      "dtypes: datetime64[ns](1), int64(3)\n",
      "memory usage: 164.0 MB\n"
     ]
    }
   ],
   "execution_count": 141
  },
  {
   "metadata": {
    "ExecuteTime": {
     "end_time": "2025-09-03T07:27:58.387598Z",
     "start_time": "2025-09-03T07:27:58.342971Z"
    }
   },
   "cell_type": "code",
   "source": "reviews_df.isna().sum()",
   "id": "4a1635fa6fb0869",
   "outputs": [
    {
     "data": {
      "text/plain": [
       "listing_id     0\n",
       "review_id      0\n",
       "date           0\n",
       "reviewer_id    0\n",
       "dtype: int64"
      ]
     },
     "execution_count": 142,
     "metadata": {},
     "output_type": "execute_result"
    }
   ],
   "execution_count": 142
  },
  {
   "metadata": {
    "ExecuteTime": {
     "end_time": "2025-09-03T07:28:02.085519Z",
     "start_time": "2025-09-03T07:27:58.496739Z"
    }
   },
   "cell_type": "code",
   "source": [
    "# Monthly review volume and simple seasonality helpers\n",
    "monthly_reviews = reviews_df.groupby(pd.Grouper(key=\"date\", freq=\"MS\")).size()\n",
    "\n",
    "monthly_reviews\n"
   ],
   "id": "173bc2bb4da53de3",
   "outputs": [
    {
     "data": {
      "text/plain": [
       "date\n",
       "2008-11-01        2\n",
       "2008-12-01        0\n",
       "2009-01-01        1\n",
       "2009-02-01        1\n",
       "2009-03-01        0\n",
       "              ...  \n",
       "2020-11-01    54473\n",
       "2020-12-01    57993\n",
       "2021-01-01    61248\n",
       "2021-02-01    21060\n",
       "2021-03-01        1\n",
       "Freq: MS, Length: 149, dtype: int64"
      ]
     },
     "execution_count": 143,
     "metadata": {},
     "output_type": "execute_result"
    }
   ],
   "execution_count": 143
  },
  {
   "metadata": {
    "ExecuteTime": {
     "end_time": "2025-09-03T07:28:02.789264Z",
     "start_time": "2025-09-03T07:28:02.671858Z"
    }
   },
   "cell_type": "code",
   "source": [
    "# plotting the whole time series with an interactive plot\n",
    "# !pip install plotly\n",
    "\n",
    "import plotly.express as px\n",
    "\n",
    "# Prepare data: monthly_reviews is a Series with a DatetimeIndex\n",
    "ts = monthly_reviews\n",
    "if isinstance(ts, pd.Series):\n",
    "    ts = ts.reset_index(name=\"reviews\")  # 'date' index becomes a column\n",
    "\n",
    "fig = px.line(ts, x=\"date\", y=\"reviews\", title=\"Monthly Reviews Over Time (Interactive)\")\n",
    "fig.update_layout(\n",
    "    xaxis_title=\"Date\",\n",
    "    yaxis_title=\"Number of Reviews\",\n",
    "    hovermode=\"x unified\",\n",
    ")\n",
    "fig.update_xaxes(rangeslider_visible=True)\n",
    "fig.show()\n"
   ],
   "id": "1e3529f1b19e8ff6",
   "outputs": [
    {
     "data": {
      "application/vnd.plotly.v1+json": {
       "data": [
        {
         "hovertemplate": "date=%{x}<br>reviews=%{y}<extra></extra>",
         "legendgroup": "",
         "line": {
          "color": "#636efa",
          "dash": "solid"
         },
         "marker": {
          "symbol": "circle"
         },
         "mode": "lines",
         "name": "",
         "orientation": "v",
         "showlegend": false,
         "x": [
          "2008-11-01T00:00:00",
          "2008-12-01T00:00:00",
          "2009-01-01T00:00:00",
          "2009-02-01T00:00:00",
          "2009-03-01T00:00:00",
          "2009-04-01T00:00:00",
          "2009-05-01T00:00:00",
          "2009-06-01T00:00:00",
          "2009-07-01T00:00:00",
          "2009-08-01T00:00:00",
          "2009-09-01T00:00:00",
          "2009-10-01T00:00:00",
          "2009-11-01T00:00:00",
          "2009-12-01T00:00:00",
          "2010-01-01T00:00:00",
          "2010-02-01T00:00:00",
          "2010-03-01T00:00:00",
          "2010-04-01T00:00:00",
          "2010-05-01T00:00:00",
          "2010-06-01T00:00:00",
          "2010-07-01T00:00:00",
          "2010-08-01T00:00:00",
          "2010-09-01T00:00:00",
          "2010-10-01T00:00:00",
          "2010-11-01T00:00:00",
          "2010-12-01T00:00:00",
          "2011-01-01T00:00:00",
          "2011-02-01T00:00:00",
          "2011-03-01T00:00:00",
          "2011-04-01T00:00:00",
          "2011-05-01T00:00:00",
          "2011-06-01T00:00:00",
          "2011-07-01T00:00:00",
          "2011-08-01T00:00:00",
          "2011-09-01T00:00:00",
          "2011-10-01T00:00:00",
          "2011-11-01T00:00:00",
          "2011-12-01T00:00:00",
          "2012-01-01T00:00:00",
          "2012-02-01T00:00:00",
          "2012-03-01T00:00:00",
          "2012-04-01T00:00:00",
          "2012-05-01T00:00:00",
          "2012-06-01T00:00:00",
          "2012-07-01T00:00:00",
          "2012-08-01T00:00:00",
          "2012-09-01T00:00:00",
          "2012-10-01T00:00:00",
          "2012-11-01T00:00:00",
          "2012-12-01T00:00:00",
          "2013-01-01T00:00:00",
          "2013-02-01T00:00:00",
          "2013-03-01T00:00:00",
          "2013-04-01T00:00:00",
          "2013-05-01T00:00:00",
          "2013-06-01T00:00:00",
          "2013-07-01T00:00:00",
          "2013-08-01T00:00:00",
          "2013-09-01T00:00:00",
          "2013-10-01T00:00:00",
          "2013-11-01T00:00:00",
          "2013-12-01T00:00:00",
          "2014-01-01T00:00:00",
          "2014-02-01T00:00:00",
          "2014-03-01T00:00:00",
          "2014-04-01T00:00:00",
          "2014-05-01T00:00:00",
          "2014-06-01T00:00:00",
          "2014-07-01T00:00:00",
          "2014-08-01T00:00:00",
          "2014-09-01T00:00:00",
          "2014-10-01T00:00:00",
          "2014-11-01T00:00:00",
          "2014-12-01T00:00:00",
          "2015-01-01T00:00:00",
          "2015-02-01T00:00:00",
          "2015-03-01T00:00:00",
          "2015-04-01T00:00:00",
          "2015-05-01T00:00:00",
          "2015-06-01T00:00:00",
          "2015-07-01T00:00:00",
          "2015-08-01T00:00:00",
          "2015-09-01T00:00:00",
          "2015-10-01T00:00:00",
          "2015-11-01T00:00:00",
          "2015-12-01T00:00:00",
          "2016-01-01T00:00:00",
          "2016-02-01T00:00:00",
          "2016-03-01T00:00:00",
          "2016-04-01T00:00:00",
          "2016-05-01T00:00:00",
          "2016-06-01T00:00:00",
          "2016-07-01T00:00:00",
          "2016-08-01T00:00:00",
          "2016-09-01T00:00:00",
          "2016-10-01T00:00:00",
          "2016-11-01T00:00:00",
          "2016-12-01T00:00:00",
          "2017-01-01T00:00:00",
          "2017-02-01T00:00:00",
          "2017-03-01T00:00:00",
          "2017-04-01T00:00:00",
          "2017-05-01T00:00:00",
          "2017-06-01T00:00:00",
          "2017-07-01T00:00:00",
          "2017-08-01T00:00:00",
          "2017-09-01T00:00:00",
          "2017-10-01T00:00:00",
          "2017-11-01T00:00:00",
          "2017-12-01T00:00:00",
          "2018-01-01T00:00:00",
          "2018-02-01T00:00:00",
          "2018-03-01T00:00:00",
          "2018-04-01T00:00:00",
          "2018-05-01T00:00:00",
          "2018-06-01T00:00:00",
          "2018-07-01T00:00:00",
          "2018-08-01T00:00:00",
          "2018-09-01T00:00:00",
          "2018-10-01T00:00:00",
          "2018-11-01T00:00:00",
          "2018-12-01T00:00:00",
          "2019-01-01T00:00:00",
          "2019-02-01T00:00:00",
          "2019-03-01T00:00:00",
          "2019-04-01T00:00:00",
          "2019-05-01T00:00:00",
          "2019-06-01T00:00:00",
          "2019-07-01T00:00:00",
          "2019-08-01T00:00:00",
          "2019-09-01T00:00:00",
          "2019-10-01T00:00:00",
          "2019-11-01T00:00:00",
          "2019-12-01T00:00:00",
          "2020-01-01T00:00:00",
          "2020-02-01T00:00:00",
          "2020-03-01T00:00:00",
          "2020-04-01T00:00:00",
          "2020-05-01T00:00:00",
          "2020-06-01T00:00:00",
          "2020-07-01T00:00:00",
          "2020-08-01T00:00:00",
          "2020-09-01T00:00:00",
          "2020-10-01T00:00:00",
          "2020-11-01T00:00:00",
          "2020-12-01T00:00:00",
          "2021-01-01T00:00:00",
          "2021-02-01T00:00:00",
          "2021-03-01T00:00:00"
         ],
         "xaxis": "x",
         "y": [
          2,
          0,
          1,
          1,
          0,
          2,
          6,
          6,
          14,
          7,
          10,
          16,
          24,
          28,
          28,
          16,
          38,
          52,
          78,
          68,
          87,
          126,
          222,
          212,
          162,
          147,
          152,
          116,
          228,
          349,
          481,
          531,
          491,
          556,
          862,
          983,
          856,
          648,
          804,
          576,
          859,
          1383,
          1753,
          1788,
          1830,
          1776,
          2444,
          2833,
          2044,
          1832,
          2435,
          1756,
          2803,
          3794,
          4635,
          4483,
          4617,
          4193,
          5971,
          6372,
          4824,
          4639,
          5604,
          4162,
          6434,
          8823,
          9801,
          11322,
          11427,
          11230,
          14119,
          15876,
          12039,
          11295,
          13661,
          11213,
          15111,
          19965,
          24998,
          25822,
          27136,
          26254,
          32191,
          34536,
          24576,
          24869,
          28876,
          26232,
          31490,
          37035,
          43935,
          44491,
          46103,
          46303,
          51211,
          57625,
          45194,
          43259,
          51214,
          42922,
          55023,
          65912,
          69264,
          68021,
          73320,
          64754,
          77838,
          79651,
          64198,
          65083,
          74785,
          66897,
          82018,
          91289,
          95112,
          97438,
          103150,
          96075,
          109883,
          121125,
          105395,
          99329,
          108188,
          98388,
          124844,
          135884,
          136209,
          146752,
          142466,
          132974,
          158000,
          168432,
          144814,
          136595,
          149806,
          134981,
          82883,
          11252,
          11913,
          25536,
          45854,
          56923,
          58494,
          65216,
          54473,
          57993,
          61248,
          21060,
          1
         ],
         "yaxis": "y",
         "type": "scatter"
        }
       ],
       "layout": {
        "template": {
         "data": {
          "histogram2dcontour": [
           {
            "type": "histogram2dcontour",
            "colorbar": {
             "outlinewidth": 0,
             "ticks": ""
            },
            "colorscale": [
             [
              0.0,
              "#0d0887"
             ],
             [
              0.1111111111111111,
              "#46039f"
             ],
             [
              0.2222222222222222,
              "#7201a8"
             ],
             [
              0.3333333333333333,
              "#9c179e"
             ],
             [
              0.4444444444444444,
              "#bd3786"
             ],
             [
              0.5555555555555556,
              "#d8576b"
             ],
             [
              0.6666666666666666,
              "#ed7953"
             ],
             [
              0.7777777777777778,
              "#fb9f3a"
             ],
             [
              0.8888888888888888,
              "#fdca26"
             ],
             [
              1.0,
              "#f0f921"
             ]
            ]
           }
          ],
          "choropleth": [
           {
            "type": "choropleth",
            "colorbar": {
             "outlinewidth": 0,
             "ticks": ""
            }
           }
          ],
          "histogram2d": [
           {
            "type": "histogram2d",
            "colorbar": {
             "outlinewidth": 0,
             "ticks": ""
            },
            "colorscale": [
             [
              0.0,
              "#0d0887"
             ],
             [
              0.1111111111111111,
              "#46039f"
             ],
             [
              0.2222222222222222,
              "#7201a8"
             ],
             [
              0.3333333333333333,
              "#9c179e"
             ],
             [
              0.4444444444444444,
              "#bd3786"
             ],
             [
              0.5555555555555556,
              "#d8576b"
             ],
             [
              0.6666666666666666,
              "#ed7953"
             ],
             [
              0.7777777777777778,
              "#fb9f3a"
             ],
             [
              0.8888888888888888,
              "#fdca26"
             ],
             [
              1.0,
              "#f0f921"
             ]
            ]
           }
          ],
          "heatmap": [
           {
            "type": "heatmap",
            "colorbar": {
             "outlinewidth": 0,
             "ticks": ""
            },
            "colorscale": [
             [
              0.0,
              "#0d0887"
             ],
             [
              0.1111111111111111,
              "#46039f"
             ],
             [
              0.2222222222222222,
              "#7201a8"
             ],
             [
              0.3333333333333333,
              "#9c179e"
             ],
             [
              0.4444444444444444,
              "#bd3786"
             ],
             [
              0.5555555555555556,
              "#d8576b"
             ],
             [
              0.6666666666666666,
              "#ed7953"
             ],
             [
              0.7777777777777778,
              "#fb9f3a"
             ],
             [
              0.8888888888888888,
              "#fdca26"
             ],
             [
              1.0,
              "#f0f921"
             ]
            ]
           }
          ],
          "heatmapgl": [
           {
            "type": "heatmapgl",
            "colorbar": {
             "outlinewidth": 0,
             "ticks": ""
            },
            "colorscale": [
             [
              0.0,
              "#0d0887"
             ],
             [
              0.1111111111111111,
              "#46039f"
             ],
             [
              0.2222222222222222,
              "#7201a8"
             ],
             [
              0.3333333333333333,
              "#9c179e"
             ],
             [
              0.4444444444444444,
              "#bd3786"
             ],
             [
              0.5555555555555556,
              "#d8576b"
             ],
             [
              0.6666666666666666,
              "#ed7953"
             ],
             [
              0.7777777777777778,
              "#fb9f3a"
             ],
             [
              0.8888888888888888,
              "#fdca26"
             ],
             [
              1.0,
              "#f0f921"
             ]
            ]
           }
          ],
          "contourcarpet": [
           {
            "type": "contourcarpet",
            "colorbar": {
             "outlinewidth": 0,
             "ticks": ""
            }
           }
          ],
          "contour": [
           {
            "type": "contour",
            "colorbar": {
             "outlinewidth": 0,
             "ticks": ""
            },
            "colorscale": [
             [
              0.0,
              "#0d0887"
             ],
             [
              0.1111111111111111,
              "#46039f"
             ],
             [
              0.2222222222222222,
              "#7201a8"
             ],
             [
              0.3333333333333333,
              "#9c179e"
             ],
             [
              0.4444444444444444,
              "#bd3786"
             ],
             [
              0.5555555555555556,
              "#d8576b"
             ],
             [
              0.6666666666666666,
              "#ed7953"
             ],
             [
              0.7777777777777778,
              "#fb9f3a"
             ],
             [
              0.8888888888888888,
              "#fdca26"
             ],
             [
              1.0,
              "#f0f921"
             ]
            ]
           }
          ],
          "surface": [
           {
            "type": "surface",
            "colorbar": {
             "outlinewidth": 0,
             "ticks": ""
            },
            "colorscale": [
             [
              0.0,
              "#0d0887"
             ],
             [
              0.1111111111111111,
              "#46039f"
             ],
             [
              0.2222222222222222,
              "#7201a8"
             ],
             [
              0.3333333333333333,
              "#9c179e"
             ],
             [
              0.4444444444444444,
              "#bd3786"
             ],
             [
              0.5555555555555556,
              "#d8576b"
             ],
             [
              0.6666666666666666,
              "#ed7953"
             ],
             [
              0.7777777777777778,
              "#fb9f3a"
             ],
             [
              0.8888888888888888,
              "#fdca26"
             ],
             [
              1.0,
              "#f0f921"
             ]
            ]
           }
          ],
          "mesh3d": [
           {
            "type": "mesh3d",
            "colorbar": {
             "outlinewidth": 0,
             "ticks": ""
            }
           }
          ],
          "scatter": [
           {
            "fillpattern": {
             "fillmode": "overlay",
             "size": 10,
             "solidity": 0.2
            },
            "type": "scatter"
           }
          ],
          "parcoords": [
           {
            "type": "parcoords",
            "line": {
             "colorbar": {
              "outlinewidth": 0,
              "ticks": ""
             }
            }
           }
          ],
          "scatterpolargl": [
           {
            "type": "scatterpolargl",
            "marker": {
             "colorbar": {
              "outlinewidth": 0,
              "ticks": ""
             }
            }
           }
          ],
          "bar": [
           {
            "error_x": {
             "color": "#2a3f5f"
            },
            "error_y": {
             "color": "#2a3f5f"
            },
            "marker": {
             "line": {
              "color": "#E5ECF6",
              "width": 0.5
             },
             "pattern": {
              "fillmode": "overlay",
              "size": 10,
              "solidity": 0.2
             }
            },
            "type": "bar"
           }
          ],
          "scattergeo": [
           {
            "type": "scattergeo",
            "marker": {
             "colorbar": {
              "outlinewidth": 0,
              "ticks": ""
             }
            }
           }
          ],
          "scatterpolar": [
           {
            "type": "scatterpolar",
            "marker": {
             "colorbar": {
              "outlinewidth": 0,
              "ticks": ""
             }
            }
           }
          ],
          "histogram": [
           {
            "marker": {
             "pattern": {
              "fillmode": "overlay",
              "size": 10,
              "solidity": 0.2
             }
            },
            "type": "histogram"
           }
          ],
          "scattergl": [
           {
            "type": "scattergl",
            "marker": {
             "colorbar": {
              "outlinewidth": 0,
              "ticks": ""
             }
            }
           }
          ],
          "scatter3d": [
           {
            "type": "scatter3d",
            "line": {
             "colorbar": {
              "outlinewidth": 0,
              "ticks": ""
             }
            },
            "marker": {
             "colorbar": {
              "outlinewidth": 0,
              "ticks": ""
             }
            }
           }
          ],
          "scattermapbox": [
           {
            "type": "scattermapbox",
            "marker": {
             "colorbar": {
              "outlinewidth": 0,
              "ticks": ""
             }
            }
           }
          ],
          "scatterternary": [
           {
            "type": "scatterternary",
            "marker": {
             "colorbar": {
              "outlinewidth": 0,
              "ticks": ""
             }
            }
           }
          ],
          "scattercarpet": [
           {
            "type": "scattercarpet",
            "marker": {
             "colorbar": {
              "outlinewidth": 0,
              "ticks": ""
             }
            }
           }
          ],
          "carpet": [
           {
            "aaxis": {
             "endlinecolor": "#2a3f5f",
             "gridcolor": "white",
             "linecolor": "white",
             "minorgridcolor": "white",
             "startlinecolor": "#2a3f5f"
            },
            "baxis": {
             "endlinecolor": "#2a3f5f",
             "gridcolor": "white",
             "linecolor": "white",
             "minorgridcolor": "white",
             "startlinecolor": "#2a3f5f"
            },
            "type": "carpet"
           }
          ],
          "table": [
           {
            "cells": {
             "fill": {
              "color": "#EBF0F8"
             },
             "line": {
              "color": "white"
             }
            },
            "header": {
             "fill": {
              "color": "#C8D4E3"
             },
             "line": {
              "color": "white"
             }
            },
            "type": "table"
           }
          ],
          "barpolar": [
           {
            "marker": {
             "line": {
              "color": "#E5ECF6",
              "width": 0.5
             },
             "pattern": {
              "fillmode": "overlay",
              "size": 10,
              "solidity": 0.2
             }
            },
            "type": "barpolar"
           }
          ],
          "pie": [
           {
            "automargin": true,
            "type": "pie"
           }
          ]
         },
         "layout": {
          "autotypenumbers": "strict",
          "colorway": [
           "#636efa",
           "#EF553B",
           "#00cc96",
           "#ab63fa",
           "#FFA15A",
           "#19d3f3",
           "#FF6692",
           "#B6E880",
           "#FF97FF",
           "#FECB52"
          ],
          "font": {
           "color": "#2a3f5f"
          },
          "hovermode": "closest",
          "hoverlabel": {
           "align": "left"
          },
          "paper_bgcolor": "white",
          "plot_bgcolor": "#E5ECF6",
          "polar": {
           "bgcolor": "#E5ECF6",
           "angularaxis": {
            "gridcolor": "white",
            "linecolor": "white",
            "ticks": ""
           },
           "radialaxis": {
            "gridcolor": "white",
            "linecolor": "white",
            "ticks": ""
           }
          },
          "ternary": {
           "bgcolor": "#E5ECF6",
           "aaxis": {
            "gridcolor": "white",
            "linecolor": "white",
            "ticks": ""
           },
           "baxis": {
            "gridcolor": "white",
            "linecolor": "white",
            "ticks": ""
           },
           "caxis": {
            "gridcolor": "white",
            "linecolor": "white",
            "ticks": ""
           }
          },
          "coloraxis": {
           "colorbar": {
            "outlinewidth": 0,
            "ticks": ""
           }
          },
          "colorscale": {
           "sequential": [
            [
             0.0,
             "#0d0887"
            ],
            [
             0.1111111111111111,
             "#46039f"
            ],
            [
             0.2222222222222222,
             "#7201a8"
            ],
            [
             0.3333333333333333,
             "#9c179e"
            ],
            [
             0.4444444444444444,
             "#bd3786"
            ],
            [
             0.5555555555555556,
             "#d8576b"
            ],
            [
             0.6666666666666666,
             "#ed7953"
            ],
            [
             0.7777777777777778,
             "#fb9f3a"
            ],
            [
             0.8888888888888888,
             "#fdca26"
            ],
            [
             1.0,
             "#f0f921"
            ]
           ],
           "sequentialminus": [
            [
             0.0,
             "#0d0887"
            ],
            [
             0.1111111111111111,
             "#46039f"
            ],
            [
             0.2222222222222222,
             "#7201a8"
            ],
            [
             0.3333333333333333,
             "#9c179e"
            ],
            [
             0.4444444444444444,
             "#bd3786"
            ],
            [
             0.5555555555555556,
             "#d8576b"
            ],
            [
             0.6666666666666666,
             "#ed7953"
            ],
            [
             0.7777777777777778,
             "#fb9f3a"
            ],
            [
             0.8888888888888888,
             "#fdca26"
            ],
            [
             1.0,
             "#f0f921"
            ]
           ],
           "diverging": [
            [
             0,
             "#8e0152"
            ],
            [
             0.1,
             "#c51b7d"
            ],
            [
             0.2,
             "#de77ae"
            ],
            [
             0.3,
             "#f1b6da"
            ],
            [
             0.4,
             "#fde0ef"
            ],
            [
             0.5,
             "#f7f7f7"
            ],
            [
             0.6,
             "#e6f5d0"
            ],
            [
             0.7,
             "#b8e186"
            ],
            [
             0.8,
             "#7fbc41"
            ],
            [
             0.9,
             "#4d9221"
            ],
            [
             1,
             "#276419"
            ]
           ]
          },
          "xaxis": {
           "gridcolor": "white",
           "linecolor": "white",
           "ticks": "",
           "title": {
            "standoff": 15
           },
           "zerolinecolor": "white",
           "automargin": true,
           "zerolinewidth": 2
          },
          "yaxis": {
           "gridcolor": "white",
           "linecolor": "white",
           "ticks": "",
           "title": {
            "standoff": 15
           },
           "zerolinecolor": "white",
           "automargin": true,
           "zerolinewidth": 2
          },
          "scene": {
           "xaxis": {
            "backgroundcolor": "#E5ECF6",
            "gridcolor": "white",
            "linecolor": "white",
            "showbackground": true,
            "ticks": "",
            "zerolinecolor": "white",
            "gridwidth": 2
           },
           "yaxis": {
            "backgroundcolor": "#E5ECF6",
            "gridcolor": "white",
            "linecolor": "white",
            "showbackground": true,
            "ticks": "",
            "zerolinecolor": "white",
            "gridwidth": 2
           },
           "zaxis": {
            "backgroundcolor": "#E5ECF6",
            "gridcolor": "white",
            "linecolor": "white",
            "showbackground": true,
            "ticks": "",
            "zerolinecolor": "white",
            "gridwidth": 2
           }
          },
          "shapedefaults": {
           "line": {
            "color": "#2a3f5f"
           }
          },
          "annotationdefaults": {
           "arrowcolor": "#2a3f5f",
           "arrowhead": 0,
           "arrowwidth": 1
          },
          "geo": {
           "bgcolor": "white",
           "landcolor": "#E5ECF6",
           "subunitcolor": "white",
           "showland": true,
           "showlakes": true,
           "lakecolor": "white"
          },
          "title": {
           "x": 0.05
          },
          "mapbox": {
           "style": "light"
          }
         }
        },
        "xaxis": {
         "anchor": "y",
         "domain": [
          0.0,
          1.0
         ],
         "title": {
          "text": "Date"
         },
         "rangeslider": {
          "visible": true
         }
        },
        "yaxis": {
         "anchor": "x",
         "domain": [
          0.0,
          1.0
         ],
         "title": {
          "text": "Number of Reviews"
         }
        },
        "legend": {
         "tracegroupgap": 0
        },
        "title": {
         "text": "Monthly Reviews Over Time (Interactive)"
        },
        "hovermode": "x unified"
       },
       "config": {
        "plotlyServerURL": "https://plot.ly"
       }
      },
      "text/html": [
       "<div>                            <div id=\"82822c4b-1be8-46b4-b811-c7f1530b1a1c\" class=\"plotly-graph-div\" style=\"height:525px; width:100%;\"></div>            <script type=\"text/javascript\">                require([\"plotly\"], function(Plotly) {                    window.PLOTLYENV=window.PLOTLYENV || {};                                    if (document.getElementById(\"82822c4b-1be8-46b4-b811-c7f1530b1a1c\")) {                    Plotly.newPlot(                        \"82822c4b-1be8-46b4-b811-c7f1530b1a1c\",                        [{\"hovertemplate\":\"date=%{x}\\u003cbr\\u003ereviews=%{y}\\u003cextra\\u003e\\u003c\\u002fextra\\u003e\",\"legendgroup\":\"\",\"line\":{\"color\":\"#636efa\",\"dash\":\"solid\"},\"marker\":{\"symbol\":\"circle\"},\"mode\":\"lines\",\"name\":\"\",\"orientation\":\"v\",\"showlegend\":false,\"x\":[\"2008-11-01T00:00:00\",\"2008-12-01T00:00:00\",\"2009-01-01T00:00:00\",\"2009-02-01T00:00:00\",\"2009-03-01T00:00:00\",\"2009-04-01T00:00:00\",\"2009-05-01T00:00:00\",\"2009-06-01T00:00:00\",\"2009-07-01T00:00:00\",\"2009-08-01T00:00:00\",\"2009-09-01T00:00:00\",\"2009-10-01T00:00:00\",\"2009-11-01T00:00:00\",\"2009-12-01T00:00:00\",\"2010-01-01T00:00:00\",\"2010-02-01T00:00:00\",\"2010-03-01T00:00:00\",\"2010-04-01T00:00:00\",\"2010-05-01T00:00:00\",\"2010-06-01T00:00:00\",\"2010-07-01T00:00:00\",\"2010-08-01T00:00:00\",\"2010-09-01T00:00:00\",\"2010-10-01T00:00:00\",\"2010-11-01T00:00:00\",\"2010-12-01T00:00:00\",\"2011-01-01T00:00:00\",\"2011-02-01T00:00:00\",\"2011-03-01T00:00:00\",\"2011-04-01T00:00:00\",\"2011-05-01T00:00:00\",\"2011-06-01T00:00:00\",\"2011-07-01T00:00:00\",\"2011-08-01T00:00:00\",\"2011-09-01T00:00:00\",\"2011-10-01T00:00:00\",\"2011-11-01T00:00:00\",\"2011-12-01T00:00:00\",\"2012-01-01T00:00:00\",\"2012-02-01T00:00:00\",\"2012-03-01T00:00:00\",\"2012-04-01T00:00:00\",\"2012-05-01T00:00:00\",\"2012-06-01T00:00:00\",\"2012-07-01T00:00:00\",\"2012-08-01T00:00:00\",\"2012-09-01T00:00:00\",\"2012-10-01T00:00:00\",\"2012-11-01T00:00:00\",\"2012-12-01T00:00:00\",\"2013-01-01T00:00:00\",\"2013-02-01T00:00:00\",\"2013-03-01T00:00:00\",\"2013-04-01T00:00:00\",\"2013-05-01T00:00:00\",\"2013-06-01T00:00:00\",\"2013-07-01T00:00:00\",\"2013-08-01T00:00:00\",\"2013-09-01T00:00:00\",\"2013-10-01T00:00:00\",\"2013-11-01T00:00:00\",\"2013-12-01T00:00:00\",\"2014-01-01T00:00:00\",\"2014-02-01T00:00:00\",\"2014-03-01T00:00:00\",\"2014-04-01T00:00:00\",\"2014-05-01T00:00:00\",\"2014-06-01T00:00:00\",\"2014-07-01T00:00:00\",\"2014-08-01T00:00:00\",\"2014-09-01T00:00:00\",\"2014-10-01T00:00:00\",\"2014-11-01T00:00:00\",\"2014-12-01T00:00:00\",\"2015-01-01T00:00:00\",\"2015-02-01T00:00:00\",\"2015-03-01T00:00:00\",\"2015-04-01T00:00:00\",\"2015-05-01T00:00:00\",\"2015-06-01T00:00:00\",\"2015-07-01T00:00:00\",\"2015-08-01T00:00:00\",\"2015-09-01T00:00:00\",\"2015-10-01T00:00:00\",\"2015-11-01T00:00:00\",\"2015-12-01T00:00:00\",\"2016-01-01T00:00:00\",\"2016-02-01T00:00:00\",\"2016-03-01T00:00:00\",\"2016-04-01T00:00:00\",\"2016-05-01T00:00:00\",\"2016-06-01T00:00:00\",\"2016-07-01T00:00:00\",\"2016-08-01T00:00:00\",\"2016-09-01T00:00:00\",\"2016-10-01T00:00:00\",\"2016-11-01T00:00:00\",\"2016-12-01T00:00:00\",\"2017-01-01T00:00:00\",\"2017-02-01T00:00:00\",\"2017-03-01T00:00:00\",\"2017-04-01T00:00:00\",\"2017-05-01T00:00:00\",\"2017-06-01T00:00:00\",\"2017-07-01T00:00:00\",\"2017-08-01T00:00:00\",\"2017-09-01T00:00:00\",\"2017-10-01T00:00:00\",\"2017-11-01T00:00:00\",\"2017-12-01T00:00:00\",\"2018-01-01T00:00:00\",\"2018-02-01T00:00:00\",\"2018-03-01T00:00:00\",\"2018-04-01T00:00:00\",\"2018-05-01T00:00:00\",\"2018-06-01T00:00:00\",\"2018-07-01T00:00:00\",\"2018-08-01T00:00:00\",\"2018-09-01T00:00:00\",\"2018-10-01T00:00:00\",\"2018-11-01T00:00:00\",\"2018-12-01T00:00:00\",\"2019-01-01T00:00:00\",\"2019-02-01T00:00:00\",\"2019-03-01T00:00:00\",\"2019-04-01T00:00:00\",\"2019-05-01T00:00:00\",\"2019-06-01T00:00:00\",\"2019-07-01T00:00:00\",\"2019-08-01T00:00:00\",\"2019-09-01T00:00:00\",\"2019-10-01T00:00:00\",\"2019-11-01T00:00:00\",\"2019-12-01T00:00:00\",\"2020-01-01T00:00:00\",\"2020-02-01T00:00:00\",\"2020-03-01T00:00:00\",\"2020-04-01T00:00:00\",\"2020-05-01T00:00:00\",\"2020-06-01T00:00:00\",\"2020-07-01T00:00:00\",\"2020-08-01T00:00:00\",\"2020-09-01T00:00:00\",\"2020-10-01T00:00:00\",\"2020-11-01T00:00:00\",\"2020-12-01T00:00:00\",\"2021-01-01T00:00:00\",\"2021-02-01T00:00:00\",\"2021-03-01T00:00:00\"],\"xaxis\":\"x\",\"y\":[2,0,1,1,0,2,6,6,14,7,10,16,24,28,28,16,38,52,78,68,87,126,222,212,162,147,152,116,228,349,481,531,491,556,862,983,856,648,804,576,859,1383,1753,1788,1830,1776,2444,2833,2044,1832,2435,1756,2803,3794,4635,4483,4617,4193,5971,6372,4824,4639,5604,4162,6434,8823,9801,11322,11427,11230,14119,15876,12039,11295,13661,11213,15111,19965,24998,25822,27136,26254,32191,34536,24576,24869,28876,26232,31490,37035,43935,44491,46103,46303,51211,57625,45194,43259,51214,42922,55023,65912,69264,68021,73320,64754,77838,79651,64198,65083,74785,66897,82018,91289,95112,97438,103150,96075,109883,121125,105395,99329,108188,98388,124844,135884,136209,146752,142466,132974,158000,168432,144814,136595,149806,134981,82883,11252,11913,25536,45854,56923,58494,65216,54473,57993,61248,21060,1],\"yaxis\":\"y\",\"type\":\"scatter\"}],                        {\"template\":{\"data\":{\"histogram2dcontour\":[{\"type\":\"histogram2dcontour\",\"colorbar\":{\"outlinewidth\":0,\"ticks\":\"\"},\"colorscale\":[[0.0,\"#0d0887\"],[0.1111111111111111,\"#46039f\"],[0.2222222222222222,\"#7201a8\"],[0.3333333333333333,\"#9c179e\"],[0.4444444444444444,\"#bd3786\"],[0.5555555555555556,\"#d8576b\"],[0.6666666666666666,\"#ed7953\"],[0.7777777777777778,\"#fb9f3a\"],[0.8888888888888888,\"#fdca26\"],[1.0,\"#f0f921\"]]}],\"choropleth\":[{\"type\":\"choropleth\",\"colorbar\":{\"outlinewidth\":0,\"ticks\":\"\"}}],\"histogram2d\":[{\"type\":\"histogram2d\",\"colorbar\":{\"outlinewidth\":0,\"ticks\":\"\"},\"colorscale\":[[0.0,\"#0d0887\"],[0.1111111111111111,\"#46039f\"],[0.2222222222222222,\"#7201a8\"],[0.3333333333333333,\"#9c179e\"],[0.4444444444444444,\"#bd3786\"],[0.5555555555555556,\"#d8576b\"],[0.6666666666666666,\"#ed7953\"],[0.7777777777777778,\"#fb9f3a\"],[0.8888888888888888,\"#fdca26\"],[1.0,\"#f0f921\"]]}],\"heatmap\":[{\"type\":\"heatmap\",\"colorbar\":{\"outlinewidth\":0,\"ticks\":\"\"},\"colorscale\":[[0.0,\"#0d0887\"],[0.1111111111111111,\"#46039f\"],[0.2222222222222222,\"#7201a8\"],[0.3333333333333333,\"#9c179e\"],[0.4444444444444444,\"#bd3786\"],[0.5555555555555556,\"#d8576b\"],[0.6666666666666666,\"#ed7953\"],[0.7777777777777778,\"#fb9f3a\"],[0.8888888888888888,\"#fdca26\"],[1.0,\"#f0f921\"]]}],\"heatmapgl\":[{\"type\":\"heatmapgl\",\"colorbar\":{\"outlinewidth\":0,\"ticks\":\"\"},\"colorscale\":[[0.0,\"#0d0887\"],[0.1111111111111111,\"#46039f\"],[0.2222222222222222,\"#7201a8\"],[0.3333333333333333,\"#9c179e\"],[0.4444444444444444,\"#bd3786\"],[0.5555555555555556,\"#d8576b\"],[0.6666666666666666,\"#ed7953\"],[0.7777777777777778,\"#fb9f3a\"],[0.8888888888888888,\"#fdca26\"],[1.0,\"#f0f921\"]]}],\"contourcarpet\":[{\"type\":\"contourcarpet\",\"colorbar\":{\"outlinewidth\":0,\"ticks\":\"\"}}],\"contour\":[{\"type\":\"contour\",\"colorbar\":{\"outlinewidth\":0,\"ticks\":\"\"},\"colorscale\":[[0.0,\"#0d0887\"],[0.1111111111111111,\"#46039f\"],[0.2222222222222222,\"#7201a8\"],[0.3333333333333333,\"#9c179e\"],[0.4444444444444444,\"#bd3786\"],[0.5555555555555556,\"#d8576b\"],[0.6666666666666666,\"#ed7953\"],[0.7777777777777778,\"#fb9f3a\"],[0.8888888888888888,\"#fdca26\"],[1.0,\"#f0f921\"]]}],\"surface\":[{\"type\":\"surface\",\"colorbar\":{\"outlinewidth\":0,\"ticks\":\"\"},\"colorscale\":[[0.0,\"#0d0887\"],[0.1111111111111111,\"#46039f\"],[0.2222222222222222,\"#7201a8\"],[0.3333333333333333,\"#9c179e\"],[0.4444444444444444,\"#bd3786\"],[0.5555555555555556,\"#d8576b\"],[0.6666666666666666,\"#ed7953\"],[0.7777777777777778,\"#fb9f3a\"],[0.8888888888888888,\"#fdca26\"],[1.0,\"#f0f921\"]]}],\"mesh3d\":[{\"type\":\"mesh3d\",\"colorbar\":{\"outlinewidth\":0,\"ticks\":\"\"}}],\"scatter\":[{\"fillpattern\":{\"fillmode\":\"overlay\",\"size\":10,\"solidity\":0.2},\"type\":\"scatter\"}],\"parcoords\":[{\"type\":\"parcoords\",\"line\":{\"colorbar\":{\"outlinewidth\":0,\"ticks\":\"\"}}}],\"scatterpolargl\":[{\"type\":\"scatterpolargl\",\"marker\":{\"colorbar\":{\"outlinewidth\":0,\"ticks\":\"\"}}}],\"bar\":[{\"error_x\":{\"color\":\"#2a3f5f\"},\"error_y\":{\"color\":\"#2a3f5f\"},\"marker\":{\"line\":{\"color\":\"#E5ECF6\",\"width\":0.5},\"pattern\":{\"fillmode\":\"overlay\",\"size\":10,\"solidity\":0.2}},\"type\":\"bar\"}],\"scattergeo\":[{\"type\":\"scattergeo\",\"marker\":{\"colorbar\":{\"outlinewidth\":0,\"ticks\":\"\"}}}],\"scatterpolar\":[{\"type\":\"scatterpolar\",\"marker\":{\"colorbar\":{\"outlinewidth\":0,\"ticks\":\"\"}}}],\"histogram\":[{\"marker\":{\"pattern\":{\"fillmode\":\"overlay\",\"size\":10,\"solidity\":0.2}},\"type\":\"histogram\"}],\"scattergl\":[{\"type\":\"scattergl\",\"marker\":{\"colorbar\":{\"outlinewidth\":0,\"ticks\":\"\"}}}],\"scatter3d\":[{\"type\":\"scatter3d\",\"line\":{\"colorbar\":{\"outlinewidth\":0,\"ticks\":\"\"}},\"marker\":{\"colorbar\":{\"outlinewidth\":0,\"ticks\":\"\"}}}],\"scattermapbox\":[{\"type\":\"scattermapbox\",\"marker\":{\"colorbar\":{\"outlinewidth\":0,\"ticks\":\"\"}}}],\"scatterternary\":[{\"type\":\"scatterternary\",\"marker\":{\"colorbar\":{\"outlinewidth\":0,\"ticks\":\"\"}}}],\"scattercarpet\":[{\"type\":\"scattercarpet\",\"marker\":{\"colorbar\":{\"outlinewidth\":0,\"ticks\":\"\"}}}],\"carpet\":[{\"aaxis\":{\"endlinecolor\":\"#2a3f5f\",\"gridcolor\":\"white\",\"linecolor\":\"white\",\"minorgridcolor\":\"white\",\"startlinecolor\":\"#2a3f5f\"},\"baxis\":{\"endlinecolor\":\"#2a3f5f\",\"gridcolor\":\"white\",\"linecolor\":\"white\",\"minorgridcolor\":\"white\",\"startlinecolor\":\"#2a3f5f\"},\"type\":\"carpet\"}],\"table\":[{\"cells\":{\"fill\":{\"color\":\"#EBF0F8\"},\"line\":{\"color\":\"white\"}},\"header\":{\"fill\":{\"color\":\"#C8D4E3\"},\"line\":{\"color\":\"white\"}},\"type\":\"table\"}],\"barpolar\":[{\"marker\":{\"line\":{\"color\":\"#E5ECF6\",\"width\":0.5},\"pattern\":{\"fillmode\":\"overlay\",\"size\":10,\"solidity\":0.2}},\"type\":\"barpolar\"}],\"pie\":[{\"automargin\":true,\"type\":\"pie\"}]},\"layout\":{\"autotypenumbers\":\"strict\",\"colorway\":[\"#636efa\",\"#EF553B\",\"#00cc96\",\"#ab63fa\",\"#FFA15A\",\"#19d3f3\",\"#FF6692\",\"#B6E880\",\"#FF97FF\",\"#FECB52\"],\"font\":{\"color\":\"#2a3f5f\"},\"hovermode\":\"closest\",\"hoverlabel\":{\"align\":\"left\"},\"paper_bgcolor\":\"white\",\"plot_bgcolor\":\"#E5ECF6\",\"polar\":{\"bgcolor\":\"#E5ECF6\",\"angularaxis\":{\"gridcolor\":\"white\",\"linecolor\":\"white\",\"ticks\":\"\"},\"radialaxis\":{\"gridcolor\":\"white\",\"linecolor\":\"white\",\"ticks\":\"\"}},\"ternary\":{\"bgcolor\":\"#E5ECF6\",\"aaxis\":{\"gridcolor\":\"white\",\"linecolor\":\"white\",\"ticks\":\"\"},\"baxis\":{\"gridcolor\":\"white\",\"linecolor\":\"white\",\"ticks\":\"\"},\"caxis\":{\"gridcolor\":\"white\",\"linecolor\":\"white\",\"ticks\":\"\"}},\"coloraxis\":{\"colorbar\":{\"outlinewidth\":0,\"ticks\":\"\"}},\"colorscale\":{\"sequential\":[[0.0,\"#0d0887\"],[0.1111111111111111,\"#46039f\"],[0.2222222222222222,\"#7201a8\"],[0.3333333333333333,\"#9c179e\"],[0.4444444444444444,\"#bd3786\"],[0.5555555555555556,\"#d8576b\"],[0.6666666666666666,\"#ed7953\"],[0.7777777777777778,\"#fb9f3a\"],[0.8888888888888888,\"#fdca26\"],[1.0,\"#f0f921\"]],\"sequentialminus\":[[0.0,\"#0d0887\"],[0.1111111111111111,\"#46039f\"],[0.2222222222222222,\"#7201a8\"],[0.3333333333333333,\"#9c179e\"],[0.4444444444444444,\"#bd3786\"],[0.5555555555555556,\"#d8576b\"],[0.6666666666666666,\"#ed7953\"],[0.7777777777777778,\"#fb9f3a\"],[0.8888888888888888,\"#fdca26\"],[1.0,\"#f0f921\"]],\"diverging\":[[0,\"#8e0152\"],[0.1,\"#c51b7d\"],[0.2,\"#de77ae\"],[0.3,\"#f1b6da\"],[0.4,\"#fde0ef\"],[0.5,\"#f7f7f7\"],[0.6,\"#e6f5d0\"],[0.7,\"#b8e186\"],[0.8,\"#7fbc41\"],[0.9,\"#4d9221\"],[1,\"#276419\"]]},\"xaxis\":{\"gridcolor\":\"white\",\"linecolor\":\"white\",\"ticks\":\"\",\"title\":{\"standoff\":15},\"zerolinecolor\":\"white\",\"automargin\":true,\"zerolinewidth\":2},\"yaxis\":{\"gridcolor\":\"white\",\"linecolor\":\"white\",\"ticks\":\"\",\"title\":{\"standoff\":15},\"zerolinecolor\":\"white\",\"automargin\":true,\"zerolinewidth\":2},\"scene\":{\"xaxis\":{\"backgroundcolor\":\"#E5ECF6\",\"gridcolor\":\"white\",\"linecolor\":\"white\",\"showbackground\":true,\"ticks\":\"\",\"zerolinecolor\":\"white\",\"gridwidth\":2},\"yaxis\":{\"backgroundcolor\":\"#E5ECF6\",\"gridcolor\":\"white\",\"linecolor\":\"white\",\"showbackground\":true,\"ticks\":\"\",\"zerolinecolor\":\"white\",\"gridwidth\":2},\"zaxis\":{\"backgroundcolor\":\"#E5ECF6\",\"gridcolor\":\"white\",\"linecolor\":\"white\",\"showbackground\":true,\"ticks\":\"\",\"zerolinecolor\":\"white\",\"gridwidth\":2}},\"shapedefaults\":{\"line\":{\"color\":\"#2a3f5f\"}},\"annotationdefaults\":{\"arrowcolor\":\"#2a3f5f\",\"arrowhead\":0,\"arrowwidth\":1},\"geo\":{\"bgcolor\":\"white\",\"landcolor\":\"#E5ECF6\",\"subunitcolor\":\"white\",\"showland\":true,\"showlakes\":true,\"lakecolor\":\"white\"},\"title\":{\"x\":0.05},\"mapbox\":{\"style\":\"light\"}}},\"xaxis\":{\"anchor\":\"y\",\"domain\":[0.0,1.0],\"title\":{\"text\":\"Date\"},\"rangeslider\":{\"visible\":true}},\"yaxis\":{\"anchor\":\"x\",\"domain\":[0.0,1.0],\"title\":{\"text\":\"Number of Reviews\"}},\"legend\":{\"tracegroupgap\":0},\"title\":{\"text\":\"Monthly Reviews Over Time (Interactive)\"},\"hovermode\":\"x unified\"},                        {\"responsive\": true}                    ).then(function(){\n",
       "                            \n",
       "var gd = document.getElementById('82822c4b-1be8-46b4-b811-c7f1530b1a1c');\n",
       "var x = new MutationObserver(function (mutations, observer) {{\n",
       "        var display = window.getComputedStyle(gd).display;\n",
       "        if (!display || display === 'none') {{\n",
       "            console.log([gd, 'removed!']);\n",
       "            Plotly.purge(gd);\n",
       "            observer.disconnect();\n",
       "        }}\n",
       "}});\n",
       "\n",
       "// Listen for the removal of the full notebook cells\n",
       "var notebookContainer = gd.closest('#notebook-container');\n",
       "if (notebookContainer) {{\n",
       "    x.observe(notebookContainer, {childList: true});\n",
       "}}\n",
       "\n",
       "// Listen for the clearing of the current output cell\n",
       "var outputEl = gd.closest('.output');\n",
       "if (outputEl) {{\n",
       "    x.observe(outputEl, {childList: true});\n",
       "}}\n",
       "\n",
       "                        })                };                });            </script>        </div>"
      ]
     },
     "metadata": {},
     "output_type": "display_data"
    }
   ],
   "execution_count": 144
  },
  {
   "metadata": {
    "ExecuteTime": {
     "end_time": "2025-09-03T07:28:09.853430Z",
     "start_time": "2025-09-03T07:28:09.843289Z"
    }
   },
   "cell_type": "code",
   "source": "ts",
   "id": "1ee10f333b1e4322",
   "outputs": [
    {
     "data": {
      "text/plain": [
       "          date  reviews\n",
       "0   2008-11-01        2\n",
       "1   2008-12-01        0\n",
       "2   2009-01-01        1\n",
       "3   2009-02-01        1\n",
       "4   2009-03-01        0\n",
       "..         ...      ...\n",
       "144 2020-11-01    54473\n",
       "145 2020-12-01    57993\n",
       "146 2021-01-01    61248\n",
       "147 2021-02-01    21060\n",
       "148 2021-03-01        1\n",
       "\n",
       "[149 rows x 2 columns]"
      ],
      "text/html": [
       "<div>\n",
       "<style scoped>\n",
       "    .dataframe tbody tr th:only-of-type {\n",
       "        vertical-align: middle;\n",
       "    }\n",
       "\n",
       "    .dataframe tbody tr th {\n",
       "        vertical-align: top;\n",
       "    }\n",
       "\n",
       "    .dataframe thead th {\n",
       "        text-align: right;\n",
       "    }\n",
       "</style>\n",
       "<table border=\"1\" class=\"dataframe\">\n",
       "  <thead>\n",
       "    <tr style=\"text-align: right;\">\n",
       "      <th></th>\n",
       "      <th>date</th>\n",
       "      <th>reviews</th>\n",
       "    </tr>\n",
       "  </thead>\n",
       "  <tbody>\n",
       "    <tr>\n",
       "      <th>0</th>\n",
       "      <td>2008-11-01</td>\n",
       "      <td>2</td>\n",
       "    </tr>\n",
       "    <tr>\n",
       "      <th>1</th>\n",
       "      <td>2008-12-01</td>\n",
       "      <td>0</td>\n",
       "    </tr>\n",
       "    <tr>\n",
       "      <th>2</th>\n",
       "      <td>2009-01-01</td>\n",
       "      <td>1</td>\n",
       "    </tr>\n",
       "    <tr>\n",
       "      <th>3</th>\n",
       "      <td>2009-02-01</td>\n",
       "      <td>1</td>\n",
       "    </tr>\n",
       "    <tr>\n",
       "      <th>4</th>\n",
       "      <td>2009-03-01</td>\n",
       "      <td>0</td>\n",
       "    </tr>\n",
       "    <tr>\n",
       "      <th>...</th>\n",
       "      <td>...</td>\n",
       "      <td>...</td>\n",
       "    </tr>\n",
       "    <tr>\n",
       "      <th>144</th>\n",
       "      <td>2020-11-01</td>\n",
       "      <td>54473</td>\n",
       "    </tr>\n",
       "    <tr>\n",
       "      <th>145</th>\n",
       "      <td>2020-12-01</td>\n",
       "      <td>57993</td>\n",
       "    </tr>\n",
       "    <tr>\n",
       "      <th>146</th>\n",
       "      <td>2021-01-01</td>\n",
       "      <td>61248</td>\n",
       "    </tr>\n",
       "    <tr>\n",
       "      <th>147</th>\n",
       "      <td>2021-02-01</td>\n",
       "      <td>21060</td>\n",
       "    </tr>\n",
       "    <tr>\n",
       "      <th>148</th>\n",
       "      <td>2021-03-01</td>\n",
       "      <td>1</td>\n",
       "    </tr>\n",
       "  </tbody>\n",
       "</table>\n",
       "<p>149 rows × 2 columns</p>\n",
       "</div>"
      ]
     },
     "execution_count": 145,
     "metadata": {},
     "output_type": "execute_result"
    }
   ],
   "execution_count": 145
  },
  {
   "metadata": {
    "ExecuteTime": {
     "end_time": "2025-09-03T07:28:18.332878Z",
     "start_time": "2025-09-03T07:28:17.656317Z"
    }
   },
   "cell_type": "code",
   "source": [
    "# Decompose the time series using statsmodels\n",
    "from statsmodels.tsa.seasonal import STL\n",
    "\n",
    "monthly_reviews = monthly_reviews.asfreq(\"MS\").fillna(0)  # Ensure regular frequency and fill missing months\n",
    "stl = STL(monthly_reviews, period=12)\n",
    "result = stl.fit()\n",
    "\n",
    "fig = result.plot()\n",
    "fig.set_size_inches(12, 8)\n",
    "plt.suptitle(\"STL Decomposition of Monthly Reviews\", fontsize=16)\n",
    "plt.show()\n",
    "\n",
    "# showing Original, Trend, Seasonal, Residuals"
   ],
   "id": "fdde4ef48afb24a0",
   "outputs": [
    {
     "data": {
      "text/plain": [
       "<Figure size 1200x800 with 4 Axes>"
      ],
      "image/png": "[encoded data removed]"
     },
     "metadata": {},
     "output_type": "display_data"
    }
   ],
   "execution_count": 146
  },
  {
   "metadata": {},
   "cell_type": "markdown",
   "source": "Forcast Modeling",
   "id": "4bacea450513af74"
  },
  {
   "metadata": {
    "ExecuteTime": {
     "end_time": "2025-09-03T07:28:39.522616Z",
     "start_time": "2025-09-03T07:28:39.512019Z"
    }
   },
   "cell_type": "code",
   "source": [
    "# Setup\n",
    "# !pip install pmdarima\n",
    "# !pip install prophet\n",
    "from pmdarima import auto_arima\n",
    "from statsmodels.tsa.holtwinters import ExponentialSmoothing\n",
    "from prophet import Prophet"
   ],
   "id": "c633f9fd65238151",
   "outputs": [],
   "execution_count": 147
  },
  {
   "metadata": {
    "ExecuteTime": {
     "end_time": "2025-09-03T07:28:44.657330Z",
     "start_time": "2025-09-03T07:28:44.648112Z"
    }
   },
   "cell_type": "code",
   "source": [
    "# Train/test split by time\n",
    "split_date = \"2018-12-31\"\n",
    "train_ts = ts[ts[\"date\"] <= split_date]\n",
    "test_ts = ts[ts[\"date\"] > split_date]\n",
    "\n",
    "print(f\"Train size: {train_ts.shape}, Test size: {test_ts.shape}\")"
   ],
   "id": "36a391b67a9c7898",
   "outputs": [
    {
     "name": "stdout",
     "output_type": "stream",
     "text": [
      "Train size: (122, 2), Test size: (27, 2)\n"
     ]
    }
   ],
   "execution_count": 148
  },
  {
   "metadata": {
    "ExecuteTime": {
     "end_time": "2025-09-03T07:28:50.199734Z",
     "start_time": "2025-09-03T07:28:50.056788Z"
    }
   },
   "cell_type": "code",
   "source": [
    "#Arima\n",
    "auto_arima = auto_arima(train_ts, seasonal=False, trace=False,\n",
    "                        error_action=\"ignore\", suppress_warnings=True)\n",
    "arima_fit = auto_arima.fit(train_ts)\n",
    "arima_forecast = arima_fit.predict(n_periods=len(test_ts))"
   ],
   "id": "74b6f1b72af648ce",
   "outputs": [
    {
     "name": "stderr",
     "output_type": "stream",
     "text": [
      "/home/civm/anaconda3/lib/python3.13/site-packages/sklearn/utils/deprecation.py:151: FutureWarning:\n",
      "\n",
      "'force_all_finite' was renamed to 'ensure_all_finite' in 1.6 and will be removed in 1.8.\n",
      "\n"
     ]
    },
    {
     "ename": "DTypePromotionError",
     "evalue": "The DType <class 'numpy.dtypes.DateTime64DType'> could not be promoted by <class 'numpy.dtypes.Int64DType'>. This means that no common DType exists for the given inputs. For example they cannot be stored in a single array unless the dtype is `object`. The full list of DTypes is: (<class 'numpy.dtypes.DateTime64DType'>, <class 'numpy.dtypes.Int64DType'>)",
     "output_type": "error",
     "traceback": [
      "\u001B[0;31m---------------------------------------------------------------------------\u001B[0m",
      "\u001B[0;31mDTypePromotionError\u001B[0m                       Traceback (most recent call last)",
      "Cell \u001B[0;32mIn[149], line 2\u001B[0m\n\u001B[1;32m      1\u001B[0m \u001B[38;5;66;03m#Arima\u001B[39;00m\n\u001B[0;32m----> 2\u001B[0m auto_arima \u001B[38;5;241m=\u001B[39m auto_arima(train_ts, seasonal\u001B[38;5;241m=\u001B[39m\u001B[38;5;28;01mFalse\u001B[39;00m, trace\u001B[38;5;241m=\u001B[39m\u001B[38;5;28;01mFalse\u001B[39;00m,\n\u001B[1;32m      3\u001B[0m                         error_action\u001B[38;5;241m=\u001B[39m\u001B[38;5;124m\"\u001B[39m\u001B[38;5;124mignore\u001B[39m\u001B[38;5;124m\"\u001B[39m, suppress_warnings\u001B[38;5;241m=\u001B[39m\u001B[38;5;28;01mTrue\u001B[39;00m)\n\u001B[1;32m      4\u001B[0m arima_fit \u001B[38;5;241m=\u001B[39m auto_arima\u001B[38;5;241m.\u001B[39mfit(train_ts)\n\u001B[1;32m      5\u001B[0m arima_forecast \u001B[38;5;241m=\u001B[39m arima_fit\u001B[38;5;241m.\u001B[39mpredict(n_periods\u001B[38;5;241m=\u001B[39m\u001B[38;5;28mlen\u001B[39m(test_ts))\n",
      "File \u001B[0;32m~/anaconda3/lib/python3.13/site-packages/pmdarima/arima/auto.py:422\u001B[0m, in \u001B[0;36mauto_arima\u001B[0;34m(y, X, start_p, d, start_q, max_p, max_d, max_q, start_P, D, start_Q, max_P, max_D, max_Q, max_order, m, seasonal, stationary, information_criterion, alpha, test, seasonal_test, stepwise, n_jobs, start_params, trend, method, maxiter, offset_test_args, seasonal_test_args, suppress_warnings, error_action, trace, random, random_state, n_fits, return_valid_fits, out_of_sample_size, scoring, scoring_args, with_intercept, sarimax_kwargs, **fit_args)\u001B[0m\n\u001B[1;32m    419\u001B[0m start \u001B[38;5;241m=\u001B[39m time\u001B[38;5;241m.\u001B[39mtime()\n\u001B[1;32m    421\u001B[0m \u001B[38;5;66;03m# copy array\u001B[39;00m\n\u001B[0;32m--> 422\u001B[0m y \u001B[38;5;241m=\u001B[39m check_endog(y, dtype\u001B[38;5;241m=\u001B[39mDTYPE, preserve_series\u001B[38;5;241m=\u001B[39m\u001B[38;5;28;01mTrue\u001B[39;00m)\n\u001B[1;32m    423\u001B[0m n_samples \u001B[38;5;241m=\u001B[39m y\u001B[38;5;241m.\u001B[39mshape[\u001B[38;5;241m0\u001B[39m]\n\u001B[1;32m    425\u001B[0m \u001B[38;5;66;03m# the workhorse of the model fits\u001B[39;00m\n",
      "File \u001B[0;32m~/anaconda3/lib/python3.13/site-packages/pmdarima/utils/array.py:179\u001B[0m, in \u001B[0;36mcheck_endog\u001B[0;34m(y, dtype, copy, force_all_finite, preserve_series)\u001B[0m\n\u001B[1;32m    141\u001B[0m \u001B[38;5;28;01mdef\u001B[39;00m\u001B[38;5;250m \u001B[39m\u001B[38;5;21mcheck_endog\u001B[39m(\n\u001B[1;32m    142\u001B[0m     y,\n\u001B[1;32m    143\u001B[0m     dtype\u001B[38;5;241m=\u001B[39mDTYPE,\n\u001B[0;32m   (...)\u001B[0m\n\u001B[1;32m    146\u001B[0m     preserve_series\u001B[38;5;241m=\u001B[39m\u001B[38;5;28;01mTrue\u001B[39;00m,\n\u001B[1;32m    147\u001B[0m ):\n\u001B[1;32m    148\u001B[0m \u001B[38;5;250m    \u001B[39m\u001B[38;5;124;03m\"\"\"Wrapper for ``check_array`` and ``column_or_1d`` from sklearn\u001B[39;00m\n\u001B[1;32m    149\u001B[0m \n\u001B[1;32m    150\u001B[0m \u001B[38;5;124;03m    Parameters\u001B[39;00m\n\u001B[0;32m   (...)\u001B[0m\n\u001B[1;32m    177\u001B[0m \u001B[38;5;124;03m        A 1d numpy ndarray\u001B[39;00m\n\u001B[1;32m    178\u001B[0m \u001B[38;5;124;03m    \"\"\"\u001B[39;00m\n\u001B[0;32m--> 179\u001B[0m     endog \u001B[38;5;241m=\u001B[39m skval\u001B[38;5;241m.\u001B[39mcheck_array(\n\u001B[1;32m    180\u001B[0m         y,\n\u001B[1;32m    181\u001B[0m         ensure_2d\u001B[38;5;241m=\u001B[39m\u001B[38;5;28;01mFalse\u001B[39;00m,\n\u001B[1;32m    182\u001B[0m         force_all_finite\u001B[38;5;241m=\u001B[39mforce_all_finite,\n\u001B[1;32m    183\u001B[0m         copy\u001B[38;5;241m=\u001B[39mcopy,\n\u001B[1;32m    184\u001B[0m         dtype\u001B[38;5;241m=\u001B[39mdtype,\n\u001B[1;32m    185\u001B[0m     )\n\u001B[1;32m    187\u001B[0m     endog \u001B[38;5;241m=\u001B[39m skval\u001B[38;5;241m.\u001B[39mcolumn_or_1d(endog)\n\u001B[1;32m    188\u001B[0m     \u001B[38;5;28;01mif\u001B[39;00m \u001B[38;5;129;01mnot\u001B[39;00m preserve_series:\n",
      "File \u001B[0;32m~/anaconda3/lib/python3.13/site-packages/sklearn/utils/validation.py:931\u001B[0m, in \u001B[0;36mcheck_array\u001B[0;34m(array, accept_sparse, accept_large_sparse, dtype, order, copy, force_writeable, force_all_finite, ensure_all_finite, ensure_non_negative, ensure_2d, allow_nd, ensure_min_samples, ensure_min_features, estimator, input_name)\u001B[0m\n\u001B[1;32m    927\u001B[0m pandas_requires_conversion \u001B[38;5;241m=\u001B[39m \u001B[38;5;28many\u001B[39m(\n\u001B[1;32m    928\u001B[0m     _pandas_dtype_needs_early_conversion(i) \u001B[38;5;28;01mfor\u001B[39;00m i \u001B[38;5;129;01min\u001B[39;00m dtypes_orig\n\u001B[1;32m    929\u001B[0m )\n\u001B[1;32m    930\u001B[0m \u001B[38;5;28;01mif\u001B[39;00m \u001B[38;5;28mall\u001B[39m(\u001B[38;5;28misinstance\u001B[39m(dtype_iter, np\u001B[38;5;241m.\u001B[39mdtype) \u001B[38;5;28;01mfor\u001B[39;00m dtype_iter \u001B[38;5;129;01min\u001B[39;00m dtypes_orig):\n\u001B[0;32m--> 931\u001B[0m     dtype_orig \u001B[38;5;241m=\u001B[39m np\u001B[38;5;241m.\u001B[39mresult_type(\u001B[38;5;241m*\u001B[39mdtypes_orig)\n\u001B[1;32m    932\u001B[0m \u001B[38;5;28;01melif\u001B[39;00m pandas_requires_conversion \u001B[38;5;129;01mand\u001B[39;00m \u001B[38;5;28many\u001B[39m(d \u001B[38;5;241m==\u001B[39m \u001B[38;5;28mobject\u001B[39m \u001B[38;5;28;01mfor\u001B[39;00m d \u001B[38;5;129;01min\u001B[39;00m dtypes_orig):\n\u001B[1;32m    933\u001B[0m     \u001B[38;5;66;03m# Force object if any of the dtypes is an object\u001B[39;00m\n\u001B[1;32m    934\u001B[0m     dtype_orig \u001B[38;5;241m=\u001B[39m \u001B[38;5;28mobject\u001B[39m\n",
      "\u001B[0;31mDTypePromotionError\u001B[0m: The DType <class 'numpy.dtypes.DateTime64DType'> could not be promoted by <class 'numpy.dtypes.Int64DType'>. This means that no common DType exists for the given inputs. For example they cannot be stored in a single array unless the dtype is `object`. The full list of DTypes is: (<class 'numpy.dtypes.DateTime64DType'>, <class 'numpy.dtypes.Int64DType'>)"
     ]
    }
   ],
   "execution_count": 149
  },
  {
   "metadata": {
    "ExecuteTime": {
     "end_time": "2025-09-03T07:31:28.381621Z",
     "start_time": "2025-09-03T07:31:27.369158Z"
    }
   },
   "cell_type": "code",
   "source": [
    "# Holt-Winters Exponential Smoothing\n",
    "ets_model = ExponentialSmoothing(train_ts, trend=\"add\", seasonal=\"None\", seasonal_periods=12, damped_trend=True)\n",
    "ets_fit = ets_model.fit()\n",
    "ets_forecast = ets_fit.forecast(steps=len(test_ts))"
   ],
   "id": "fd1882b20e4da0f2",
   "outputs": [
    {
     "ename": "ValueError",
     "evalue": "Pandas data cast to numpy dtype of object. Check input data with np.asarray(data).",
     "output_type": "error",
     "traceback": [
      "\u001B[0;31m---------------------------------------------------------------------------\u001B[0m",
      "\u001B[0;31mValueError\u001B[0m                                Traceback (most recent call last)",
      "Cell \u001B[0;32mIn[150], line 2\u001B[0m\n\u001B[1;32m      1\u001B[0m \u001B[38;5;66;03m# Holt-Winters Exponential Smoothing\u001B[39;00m\n\u001B[0;32m----> 2\u001B[0m ets_model \u001B[38;5;241m=\u001B[39m ExponentialSmoothing(train_ts, trend\u001B[38;5;241m=\u001B[39m\u001B[38;5;124m\"\u001B[39m\u001B[38;5;124madd\u001B[39m\u001B[38;5;124m\"\u001B[39m, seasonal\u001B[38;5;241m=\u001B[39m\u001B[38;5;124m\"\u001B[39m\u001B[38;5;124mNone\u001B[39m\u001B[38;5;124m\"\u001B[39m, seasonal_periods\u001B[38;5;241m=\u001B[39m\u001B[38;5;241m12\u001B[39m, damped_trend\u001B[38;5;241m=\u001B[39m\u001B[38;5;28;01mTrue\u001B[39;00m)\n\u001B[1;32m      3\u001B[0m ets_fit \u001B[38;5;241m=\u001B[39m ets_model\u001B[38;5;241m.\u001B[39mfit()\n\u001B[1;32m      4\u001B[0m ets_forecast \u001B[38;5;241m=\u001B[39m ets_fit\u001B[38;5;241m.\u001B[39mforecast(steps\u001B[38;5;241m=\u001B[39m\u001B[38;5;28mlen\u001B[39m(test_ts))\n",
      "File \u001B[0;32m~/anaconda3/lib/python3.13/site-packages/pandas/util/_decorators.py:213\u001B[0m, in \u001B[0;36mdeprecate_kwarg.<locals>._deprecate_kwarg.<locals>.wrapper\u001B[0;34m(*args, **kwargs)\u001B[0m\n\u001B[1;32m    211\u001B[0m         \u001B[38;5;28;01mraise\u001B[39;00m \u001B[38;5;167;01mTypeError\u001B[39;00m(msg)\n\u001B[1;32m    212\u001B[0m     kwargs[new_arg_name] \u001B[38;5;241m=\u001B[39m new_arg_value\n\u001B[0;32m--> 213\u001B[0m \u001B[38;5;28;01mreturn\u001B[39;00m func(\u001B[38;5;241m*\u001B[39margs, \u001B[38;5;241m*\u001B[39m\u001B[38;5;241m*\u001B[39mkwargs)\n",
      "File \u001B[0;32m~/anaconda3/lib/python3.13/site-packages/statsmodels/tsa/holtwinters/model.py:227\u001B[0m, in \u001B[0;36mExponentialSmoothing.__init__\u001B[0;34m(self, endog, trend, damped_trend, seasonal, seasonal_periods, initialization_method, initial_level, initial_trend, initial_seasonal, use_boxcox, bounds, dates, freq, missing)\u001B[0m\n\u001B[1;32m    208\u001B[0m \u001B[38;5;129m@deprecate_kwarg\u001B[39m(\u001B[38;5;124m\"\u001B[39m\u001B[38;5;124mdamped\u001B[39m\u001B[38;5;124m\"\u001B[39m, \u001B[38;5;124m\"\u001B[39m\u001B[38;5;124mdamped_trend\u001B[39m\u001B[38;5;124m\"\u001B[39m)\n\u001B[1;32m    209\u001B[0m \u001B[38;5;28;01mdef\u001B[39;00m\u001B[38;5;250m \u001B[39m\u001B[38;5;21m__init__\u001B[39m(\n\u001B[1;32m    210\u001B[0m     \u001B[38;5;28mself\u001B[39m,\n\u001B[0;32m   (...)\u001B[0m\n\u001B[1;32m    225\u001B[0m     missing\u001B[38;5;241m=\u001B[39m\u001B[38;5;124m\"\u001B[39m\u001B[38;5;124mnone\u001B[39m\u001B[38;5;124m\"\u001B[39m,\n\u001B[1;32m    226\u001B[0m ):\n\u001B[0;32m--> 227\u001B[0m     \u001B[38;5;28msuper\u001B[39m()\u001B[38;5;241m.\u001B[39m\u001B[38;5;21m__init__\u001B[39m(endog, \u001B[38;5;28;01mNone\u001B[39;00m, dates, freq, missing\u001B[38;5;241m=\u001B[39mmissing)\n\u001B[1;32m    228\u001B[0m     \u001B[38;5;28mself\u001B[39m\u001B[38;5;241m.\u001B[39m_y \u001B[38;5;241m=\u001B[39m \u001B[38;5;28mself\u001B[39m\u001B[38;5;241m.\u001B[39m_data \u001B[38;5;241m=\u001B[39m array_like(\n\u001B[1;32m    229\u001B[0m         endog, \u001B[38;5;124m\"\u001B[39m\u001B[38;5;124mendog\u001B[39m\u001B[38;5;124m\"\u001B[39m, ndim\u001B[38;5;241m=\u001B[39m\u001B[38;5;241m1\u001B[39m, contiguous\u001B[38;5;241m=\u001B[39m\u001B[38;5;28;01mTrue\u001B[39;00m, order\u001B[38;5;241m=\u001B[39m\u001B[38;5;124m\"\u001B[39m\u001B[38;5;124mC\u001B[39m\u001B[38;5;124m\"\u001B[39m\n\u001B[1;32m    230\u001B[0m     )\n\u001B[1;32m    231\u001B[0m     options \u001B[38;5;241m=\u001B[39m (\u001B[38;5;124m\"\u001B[39m\u001B[38;5;124madd\u001B[39m\u001B[38;5;124m\"\u001B[39m, \u001B[38;5;124m\"\u001B[39m\u001B[38;5;124mmul\u001B[39m\u001B[38;5;124m\"\u001B[39m, \u001B[38;5;124m\"\u001B[39m\u001B[38;5;124madditive\u001B[39m\u001B[38;5;124m\"\u001B[39m, \u001B[38;5;124m\"\u001B[39m\u001B[38;5;124mmultiplicative\u001B[39m\u001B[38;5;124m\"\u001B[39m)\n",
      "File \u001B[0;32m~/anaconda3/lib/python3.13/site-packages/statsmodels/tsa/base/tsa_model.py:470\u001B[0m, in \u001B[0;36mTimeSeriesModel.__init__\u001B[0;34m(self, endog, exog, dates, freq, missing, **kwargs)\u001B[0m\n\u001B[1;32m    467\u001B[0m \u001B[38;5;28;01mdef\u001B[39;00m\u001B[38;5;250m \u001B[39m\u001B[38;5;21m__init__\u001B[39m(\n\u001B[1;32m    468\u001B[0m     \u001B[38;5;28mself\u001B[39m, endog, exog\u001B[38;5;241m=\u001B[39m\u001B[38;5;28;01mNone\u001B[39;00m, dates\u001B[38;5;241m=\u001B[39m\u001B[38;5;28;01mNone\u001B[39;00m, freq\u001B[38;5;241m=\u001B[39m\u001B[38;5;28;01mNone\u001B[39;00m, missing\u001B[38;5;241m=\u001B[39m\u001B[38;5;124m\"\u001B[39m\u001B[38;5;124mnone\u001B[39m\u001B[38;5;124m\"\u001B[39m, \u001B[38;5;241m*\u001B[39m\u001B[38;5;241m*\u001B[39mkwargs\n\u001B[1;32m    469\u001B[0m ):\n\u001B[0;32m--> 470\u001B[0m     \u001B[38;5;28msuper\u001B[39m()\u001B[38;5;241m.\u001B[39m\u001B[38;5;21m__init__\u001B[39m(endog, exog, missing\u001B[38;5;241m=\u001B[39mmissing, \u001B[38;5;241m*\u001B[39m\u001B[38;5;241m*\u001B[39mkwargs)\n\u001B[1;32m    472\u001B[0m     \u001B[38;5;66;03m# Date handling in indexes\u001B[39;00m\n\u001B[1;32m    473\u001B[0m     \u001B[38;5;28mself\u001B[39m\u001B[38;5;241m.\u001B[39m_init_dates(dates, freq)\n",
      "File \u001B[0;32m~/anaconda3/lib/python3.13/site-packages/statsmodels/base/model.py:270\u001B[0m, in \u001B[0;36mLikelihoodModel.__init__\u001B[0;34m(self, endog, exog, **kwargs)\u001B[0m\n\u001B[1;32m    269\u001B[0m \u001B[38;5;28;01mdef\u001B[39;00m\u001B[38;5;250m \u001B[39m\u001B[38;5;21m__init__\u001B[39m(\u001B[38;5;28mself\u001B[39m, endog, exog\u001B[38;5;241m=\u001B[39m\u001B[38;5;28;01mNone\u001B[39;00m, \u001B[38;5;241m*\u001B[39m\u001B[38;5;241m*\u001B[39mkwargs):\n\u001B[0;32m--> 270\u001B[0m     \u001B[38;5;28msuper\u001B[39m()\u001B[38;5;241m.\u001B[39m\u001B[38;5;21m__init__\u001B[39m(endog, exog, \u001B[38;5;241m*\u001B[39m\u001B[38;5;241m*\u001B[39mkwargs)\n\u001B[1;32m    271\u001B[0m     \u001B[38;5;28mself\u001B[39m\u001B[38;5;241m.\u001B[39minitialize()\n",
      "File \u001B[0;32m~/anaconda3/lib/python3.13/site-packages/statsmodels/base/model.py:95\u001B[0m, in \u001B[0;36mModel.__init__\u001B[0;34m(self, endog, exog, **kwargs)\u001B[0m\n\u001B[1;32m     93\u001B[0m missing \u001B[38;5;241m=\u001B[39m kwargs\u001B[38;5;241m.\u001B[39mpop(\u001B[38;5;124m'\u001B[39m\u001B[38;5;124mmissing\u001B[39m\u001B[38;5;124m'\u001B[39m, \u001B[38;5;124m'\u001B[39m\u001B[38;5;124mnone\u001B[39m\u001B[38;5;124m'\u001B[39m)\n\u001B[1;32m     94\u001B[0m hasconst \u001B[38;5;241m=\u001B[39m kwargs\u001B[38;5;241m.\u001B[39mpop(\u001B[38;5;124m'\u001B[39m\u001B[38;5;124mhasconst\u001B[39m\u001B[38;5;124m'\u001B[39m, \u001B[38;5;28;01mNone\u001B[39;00m)\n\u001B[0;32m---> 95\u001B[0m \u001B[38;5;28mself\u001B[39m\u001B[38;5;241m.\u001B[39mdata \u001B[38;5;241m=\u001B[39m \u001B[38;5;28mself\u001B[39m\u001B[38;5;241m.\u001B[39m_handle_data(endog, exog, missing, hasconst,\n\u001B[1;32m     96\u001B[0m                               \u001B[38;5;241m*\u001B[39m\u001B[38;5;241m*\u001B[39mkwargs)\n\u001B[1;32m     97\u001B[0m \u001B[38;5;28mself\u001B[39m\u001B[38;5;241m.\u001B[39mk_constant \u001B[38;5;241m=\u001B[39m \u001B[38;5;28mself\u001B[39m\u001B[38;5;241m.\u001B[39mdata\u001B[38;5;241m.\u001B[39mk_constant\n\u001B[1;32m     98\u001B[0m \u001B[38;5;28mself\u001B[39m\u001B[38;5;241m.\u001B[39mexog \u001B[38;5;241m=\u001B[39m \u001B[38;5;28mself\u001B[39m\u001B[38;5;241m.\u001B[39mdata\u001B[38;5;241m.\u001B[39mexog\n",
      "File \u001B[0;32m~/anaconda3/lib/python3.13/site-packages/statsmodels/base/model.py:135\u001B[0m, in \u001B[0;36mModel._handle_data\u001B[0;34m(self, endog, exog, missing, hasconst, **kwargs)\u001B[0m\n\u001B[1;32m    134\u001B[0m \u001B[38;5;28;01mdef\u001B[39;00m\u001B[38;5;250m \u001B[39m\u001B[38;5;21m_handle_data\u001B[39m(\u001B[38;5;28mself\u001B[39m, endog, exog, missing, hasconst, \u001B[38;5;241m*\u001B[39m\u001B[38;5;241m*\u001B[39mkwargs):\n\u001B[0;32m--> 135\u001B[0m     data \u001B[38;5;241m=\u001B[39m handle_data(endog, exog, missing, hasconst, \u001B[38;5;241m*\u001B[39m\u001B[38;5;241m*\u001B[39mkwargs)\n\u001B[1;32m    136\u001B[0m     \u001B[38;5;66;03m# kwargs arrays could have changed, easier to just attach here\u001B[39;00m\n\u001B[1;32m    137\u001B[0m     \u001B[38;5;28;01mfor\u001B[39;00m key \u001B[38;5;129;01min\u001B[39;00m kwargs:\n",
      "File \u001B[0;32m~/anaconda3/lib/python3.13/site-packages/statsmodels/base/data.py:675\u001B[0m, in \u001B[0;36mhandle_data\u001B[0;34m(endog, exog, missing, hasconst, **kwargs)\u001B[0m\n\u001B[1;32m    672\u001B[0m     exog \u001B[38;5;241m=\u001B[39m np\u001B[38;5;241m.\u001B[39masarray(exog)\n\u001B[1;32m    674\u001B[0m klass \u001B[38;5;241m=\u001B[39m handle_data_class_factory(endog, exog)\n\u001B[0;32m--> 675\u001B[0m \u001B[38;5;28;01mreturn\u001B[39;00m klass(endog, exog\u001B[38;5;241m=\u001B[39mexog, missing\u001B[38;5;241m=\u001B[39mmissing, hasconst\u001B[38;5;241m=\u001B[39mhasconst,\n\u001B[1;32m    676\u001B[0m              \u001B[38;5;241m*\u001B[39m\u001B[38;5;241m*\u001B[39mkwargs)\n",
      "File \u001B[0;32m~/anaconda3/lib/python3.13/site-packages/statsmodels/base/data.py:84\u001B[0m, in \u001B[0;36mModelData.__init__\u001B[0;34m(self, endog, exog, missing, hasconst, **kwargs)\u001B[0m\n\u001B[1;32m     82\u001B[0m     \u001B[38;5;28mself\u001B[39m\u001B[38;5;241m.\u001B[39morig_endog \u001B[38;5;241m=\u001B[39m endog\n\u001B[1;32m     83\u001B[0m     \u001B[38;5;28mself\u001B[39m\u001B[38;5;241m.\u001B[39morig_exog \u001B[38;5;241m=\u001B[39m exog\n\u001B[0;32m---> 84\u001B[0m     \u001B[38;5;28mself\u001B[39m\u001B[38;5;241m.\u001B[39mendog, \u001B[38;5;28mself\u001B[39m\u001B[38;5;241m.\u001B[39mexog \u001B[38;5;241m=\u001B[39m \u001B[38;5;28mself\u001B[39m\u001B[38;5;241m.\u001B[39m_convert_endog_exog(endog, exog)\n\u001B[1;32m     86\u001B[0m \u001B[38;5;28mself\u001B[39m\u001B[38;5;241m.\u001B[39mconst_idx \u001B[38;5;241m=\u001B[39m \u001B[38;5;28;01mNone\u001B[39;00m\n\u001B[1;32m     87\u001B[0m \u001B[38;5;28mself\u001B[39m\u001B[38;5;241m.\u001B[39mk_constant \u001B[38;5;241m=\u001B[39m \u001B[38;5;241m0\u001B[39m\n",
      "File \u001B[0;32m~/anaconda3/lib/python3.13/site-packages/statsmodels/base/data.py:509\u001B[0m, in \u001B[0;36mPandasData._convert_endog_exog\u001B[0;34m(self, endog, exog)\u001B[0m\n\u001B[1;32m    507\u001B[0m exog \u001B[38;5;241m=\u001B[39m exog \u001B[38;5;28;01mif\u001B[39;00m exog \u001B[38;5;129;01mis\u001B[39;00m \u001B[38;5;28;01mNone\u001B[39;00m \u001B[38;5;28;01melse\u001B[39;00m np\u001B[38;5;241m.\u001B[39masarray(exog)\n\u001B[1;32m    508\u001B[0m \u001B[38;5;28;01mif\u001B[39;00m endog\u001B[38;5;241m.\u001B[39mdtype \u001B[38;5;241m==\u001B[39m \u001B[38;5;28mobject\u001B[39m \u001B[38;5;129;01mor\u001B[39;00m exog \u001B[38;5;129;01mis\u001B[39;00m \u001B[38;5;129;01mnot\u001B[39;00m \u001B[38;5;28;01mNone\u001B[39;00m \u001B[38;5;129;01mand\u001B[39;00m exog\u001B[38;5;241m.\u001B[39mdtype \u001B[38;5;241m==\u001B[39m \u001B[38;5;28mobject\u001B[39m:\n\u001B[0;32m--> 509\u001B[0m     \u001B[38;5;28;01mraise\u001B[39;00m \u001B[38;5;167;01mValueError\u001B[39;00m(\u001B[38;5;124m\"\u001B[39m\u001B[38;5;124mPandas data cast to numpy dtype of object. \u001B[39m\u001B[38;5;124m\"\u001B[39m\n\u001B[1;32m    510\u001B[0m                      \u001B[38;5;124m\"\u001B[39m\u001B[38;5;124mCheck input data with np.asarray(data).\u001B[39m\u001B[38;5;124m\"\u001B[39m)\n\u001B[1;32m    511\u001B[0m \u001B[38;5;28;01mreturn\u001B[39;00m \u001B[38;5;28msuper\u001B[39m()\u001B[38;5;241m.\u001B[39m_convert_endog_exog(endog, exog)\n",
      "\u001B[0;31mValueError\u001B[0m: Pandas data cast to numpy dtype of object. Check input data with np.asarray(data)."
     ]
    }
   ],
   "execution_count": 150
  },
  {
   "metadata": {
    "ExecuteTime": {
     "end_time": "2025-09-03T07:36:27.527736Z",
     "start_time": "2025-09-03T07:36:27.265818Z"
    }
   },
   "cell_type": "code",
   "source": [
    "#Prophet\n",
    "prophet_df = train_ts.reset_index()\n",
    "prophet_df = prophet_df.rename(columns={\"date\": \"ds\", \"reviews\": \"y\"})\n",
    "\n",
    "prophet_model = Prophet(yearly_seasonality=True, weekly_seasonality=False, daily_seasonality=False)\n",
    "prophet_model.fit(prophet_df)\n",
    "\n",
    "future = prophet_model.make_future_dataframe(periods=len(test_ts), freq=\"MS\")\n",
    "forecast = prophet_model.predict(future)\n",
    "\n",
    "prophet_forecast = forecast.set_index(\"ds\")[\"yhat\"][-len(test_ts):]"
   ],
   "id": "80687643c9a7c9df",
   "outputs": [
    {
     "name": "stderr",
     "output_type": "stream",
     "text": [
      "08:36:27 - cmdstanpy - INFO - Chain [1] start processing\n",
      "08:36:27 - cmdstanpy - INFO - Chain [1] done processing\n"
     ]
    }
   ],
   "execution_count": 152
  },
  {
   "metadata": {
    "ExecuteTime": {
     "end_time": "2025-09-03T07:43:16.896386Z",
     "start_time": "2025-09-03T07:43:16.575204Z"
    }
   },
   "cell_type": "code",
   "source": [
    "# Plot Results\n",
    "plt.figure(figsize=(12,6))\n",
    "plt.plot(train_ts.index, train_ts, label=\"Train\")\n",
    "plt.plot(test_ts.index, test_ts, label=\"Test\", color=\"black\")\n",
    "\n",
    "plt.plot(arima_forecast.index, arima_forecast, label=\"ARIMA Forecast\", linestyle=\"--\")\n",
    "plt.plot(ets_forecast.index, ets_forecast, label=\"ETS Forecast\", linestyle=\"--\")\n",
    "plt.plot(prophet_forecast.index, prophet_forecast, label=\"Prophet Forecast\", linestyle=\"--\")\n",
    "\n",
    "plt.title(\"Forecasting Airbnb Monthly Reviews (Comparing Models)\")\n",
    "plt.xlabel(\"Date\")\n",
    "plt.ylabel(\"Number of Reviews\")\n",
    "plt.legend()\n",
    "plt.show()"
   ],
   "id": "b7c8b1b3770eee13",
   "outputs": [
    {
     "ename": "NameError",
     "evalue": "name 'arima_forecast' is not defined",
     "output_type": "error",
     "traceback": [
      "\u001B[0;31m---------------------------------------------------------------------------\u001B[0m",
      "\u001B[0;31mNameError\u001B[0m                                 Traceback (most recent call last)",
      "Cell \u001B[0;32mIn[159], line 6\u001B[0m\n\u001B[1;32m      3\u001B[0m plt\u001B[38;5;241m.\u001B[39mplot(train_ts\u001B[38;5;241m.\u001B[39mindex, train_ts, label\u001B[38;5;241m=\u001B[39m\u001B[38;5;124m\"\u001B[39m\u001B[38;5;124mTrain\u001B[39m\u001B[38;5;124m\"\u001B[39m)\n\u001B[1;32m      4\u001B[0m plt\u001B[38;5;241m.\u001B[39mplot(test_ts\u001B[38;5;241m.\u001B[39mindex, test_ts, label\u001B[38;5;241m=\u001B[39m\u001B[38;5;124m\"\u001B[39m\u001B[38;5;124mTest\u001B[39m\u001B[38;5;124m\"\u001B[39m, color\u001B[38;5;241m=\u001B[39m\u001B[38;5;124m\"\u001B[39m\u001B[38;5;124mblack\u001B[39m\u001B[38;5;124m\"\u001B[39m)\n\u001B[0;32m----> 6\u001B[0m plt\u001B[38;5;241m.\u001B[39mplot(arima_forecast\u001B[38;5;241m.\u001B[39mindex, arima_forecast, label\u001B[38;5;241m=\u001B[39m\u001B[38;5;124m\"\u001B[39m\u001B[38;5;124mARIMA Forecast\u001B[39m\u001B[38;5;124m\"\u001B[39m, linestyle\u001B[38;5;241m=\u001B[39m\u001B[38;5;124m\"\u001B[39m\u001B[38;5;124m--\u001B[39m\u001B[38;5;124m\"\u001B[39m)\n\u001B[1;32m      7\u001B[0m plt\u001B[38;5;241m.\u001B[39mplot(ets_forecast\u001B[38;5;241m.\u001B[39mindex, ets_forecast, label\u001B[38;5;241m=\u001B[39m\u001B[38;5;124m\"\u001B[39m\u001B[38;5;124mETS Forecast\u001B[39m\u001B[38;5;124m\"\u001B[39m, linestyle\u001B[38;5;241m=\u001B[39m\u001B[38;5;124m\"\u001B[39m\u001B[38;5;124m--\u001B[39m\u001B[38;5;124m\"\u001B[39m)\n\u001B[1;32m      8\u001B[0m plt\u001B[38;5;241m.\u001B[39mplot(prophet_forecast\u001B[38;5;241m.\u001B[39mindex, prophet_forecast, label\u001B[38;5;241m=\u001B[39m\u001B[38;5;124m\"\u001B[39m\u001B[38;5;124mProphet Forecast\u001B[39m\u001B[38;5;124m\"\u001B[39m, linestyle\u001B[38;5;241m=\u001B[39m\u001B[38;5;124m\"\u001B[39m\u001B[38;5;124m--\u001B[39m\u001B[38;5;124m\"\u001B[39m)\n",
      "\u001B[0;31mNameError\u001B[0m: name 'arima_forecast' is not defined"
     ]
    },
    {
     "data": {
      "text/plain": [
       "<Figure size 1200x600 with 1 Axes>"
      ],
      "image/png": "[encoded data removed]"
     },
     "metadata": {},
     "output_type": "display_data"
    }
   ],
   "execution_count": 159
  },
  {
   "metadata": {},
   "cell_type": "markdown",
   "source": "Model Evaluation",
   "id": "1030a1baa17072fc"
  },
  {
   "metadata": {
    "ExecuteTime": {
     "end_time": "2025-09-03T07:51:05.451864Z",
     "start_time": "2025-09-03T07:51:05.447992Z"
    }
   },
   "cell_type": "code",
   "source": "from sklearn.metrics import mean_squared_error, mean_absolute_percentage_error",
   "id": "cf84b38161c1fc2a",
   "outputs": [],
   "execution_count": 163
  },
  {
   "metadata": {
    "ExecuteTime": {
     "end_time": "2025-09-03T07:51:06.855945Z",
     "start_time": "2025-09-03T07:51:06.820805Z"
    }
   },
   "cell_type": "code",
   "source": [
    "results = []\n",
    "\n",
    "#Arima\n",
    "rmse_arima = np.sqrt(mean_squared_error(test_ts, arima_forecast))\n",
    "mape_arima = mean_absolute_percentage_error(test_ts, arima_forecast)\n",
    "results.append([\"ARIMA\", rmse_arima, mape_arima])\n",
    "\n",
    "#ETS\n",
    "rmse_ets = np.sqrt(mean_squared_error(test_ts, ets_forecast))\n",
    "mape_ets = mean_absolute_percentage_error(test_ts, ets_forecast)\n",
    "results.append([\"ETS\", rmse_ets, mape_ets])\n",
    "\n",
    "#Prophet\n",
    "rmse_prophet = np.sqrt(mean_squared_error(test_ts, prophet_forecast))\n",
    "mape_prophet = mean_absolute_percentage_error(test_ts, prophet_forecast)\n",
    "results.append([\"Prophet\", rmse_prophet, mape_prophet])\n",
    "\n",
    "results_df = pd.DataFrame(results, columns=[\"Model\", \"RMSE\", \"MAPE\"])\n",
    "print(results_df)"
   ],
   "id": "79469fdbb38e90cb",
   "outputs": [
    {
     "ename": "NameError",
     "evalue": "name 'arima_forecast' is not defined",
     "output_type": "error",
     "traceback": [
      "\u001B[0;31m---------------------------------------------------------------------------\u001B[0m",
      "\u001B[0;31mNameError\u001B[0m                                 Traceback (most recent call last)",
      "Cell \u001B[0;32mIn[164], line 4\u001B[0m\n\u001B[1;32m      1\u001B[0m results \u001B[38;5;241m=\u001B[39m []\n\u001B[1;32m      3\u001B[0m \u001B[38;5;66;03m#Arima\u001B[39;00m\n\u001B[0;32m----> 4\u001B[0m rmse_arima \u001B[38;5;241m=\u001B[39m np\u001B[38;5;241m.\u001B[39msqrt(mean_squared_error(test_ts, arima_forecast))\n\u001B[1;32m      5\u001B[0m mape_arima \u001B[38;5;241m=\u001B[39m mean_absolute_percentage_error(test_ts, arima_forecast)\n\u001B[1;32m      6\u001B[0m results\u001B[38;5;241m.\u001B[39mappend([\u001B[38;5;124m\"\u001B[39m\u001B[38;5;124mARIMA\u001B[39m\u001B[38;5;124m\"\u001B[39m, rmse_arima, mape_arima])\n",
      "\u001B[0;31mNameError\u001B[0m: name 'arima_forecast' is not defined"
     ]
    }
   ],
   "execution_count": 164
  },
  {
   "metadata": {},
   "cell_type": "code",
   "outputs": [],
   "execution_count": null,
   "source": "",
   "id": "22bcc0e957ea981e"
  },
  {
   "cell_type": "code",
   "execution_count": 60,
   "id": "7cabb61b-8fd9-460e-8057-e9250fcc469a",
   "metadata": {},
   "outputs": [],
   "source": [
    "# Which city offers a better value for travel?"
   ]
  },
  {
   "metadata": {},
   "cell_type": "markdown",
   "source": "## miscellaneous",
   "id": "4800ea729fde930c"
  },
  {
   "metadata": {},
   "cell_type": "code",
   "outputs": [],
   "execution_count": null,
   "source": [
    "from sklearn.model_selection import RandomizedSearchCV\n",
    "\n",
    "# Misc 1: Tuning a hyperparameter price predictor model\n",
    "param_dist = {\n",
    "    'regressor__n_estimators': [50, 100, 200],\n",
    "    'regressor__max_depth': [5, 10, 20, None],\n",
    "    'regressor__min_samples_split': [2, 5, 10],\n",
    "    'regressor__min_samples_leaf': [1, 2, 4],\n",
    "    'regressor__bootstrap': [True, False]\n",
    "}\n",
    "\n",
    "search = RandomizedSearchCV(\n",
    "    make_pipeline(RandomForestRegressor(random_state=42)),\n",
    "    param_distributions=param_dist,\n",
    "    n_iter=20,\n",
    "    cv=3,\n",
    "    scoring='neg_mean_absolute_error',\n",
    "    random_state=42,\n",
    "    n_jobs=-1,\n",
    "    verbose=1\n",
    ")\n",
    "\n",
    "search.fit(X_train, y_train)\n",
    "print(\"Best parameters found: \", search.best_params_)\n",
    "best_model = search.best_estimator_\n",
    "# Evaluate the best model on the test set\n",
    "test_score = best_model.score(X_test, y_test)\n",
    "print(f\"Test set R^2: {test_score:.2f}\")"
   ],
   "id": "463f8396940c357"
  },
  {
   "metadata": {},
   "cell_type": "code",
   "source": [
    "# Misc 2: SHAP (on sample only)\n",
    "# !pip install shap\n",
    "import shap\n",
    "X_test_sample = X_test.sample(1000, random_state=42)\n",
    "\n",
    "explainer = shap.TreeExplainer(best_model[\"model\"])\n",
    "shap_values = explainer.shap_values(best_model[\"preprocessor\"].transform(X_test_sample))\n",
    "\n",
    "shap.summary_plot(shap_values, features=best_model[\"preprocessor\"].transform(X_test_sample), feature_names=best_model[\"preprocessor\"].get_feature_names_out())"
   ],
   "id": "bc476566d2b40895",
   "outputs": [],
   "execution_count": null
  },
  {
   "metadata": {},
   "cell_type": "code",
   "outputs": [],
   "execution_count": null,
   "source": "",
   "id": "f7698783db9a99d"
  }
 ],
 "metadata": {
  "kernelspec": {
   "display_name": "Python 3 (ipykernel)",
   "language": "python",
   "name": "python3"
  },
  "language_info": {
   "codemirror_mode": {
    "name": "ipython",
    "version": 3
   },
   "file_extension": ".py",
   "mimetype": "text/x-python",
   "name": "python",
   "nbconvert_exporter": "python",
   "pygments_lexer": "ipython3",
   "version": "3.13.5"
  }
 },
 "nbformat": 4,
 "nbformat_minor": 5
}
