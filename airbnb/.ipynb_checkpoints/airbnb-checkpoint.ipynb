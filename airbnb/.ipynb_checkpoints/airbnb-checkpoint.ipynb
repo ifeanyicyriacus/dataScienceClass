{
 "cells": [
  {
   "cell_type": "code",
   "execution_count": 1,
   "id": "06ad25ba-b2a9-45fe-9d33-52f804d93a76",
   "metadata": {},
   "outputs": [],
   "source": [
    "import pandas as pd\n",
    "# import polars as pl\n",
    "import numpy as np\n",
    "import matplotlib.pyplot as plt\n",
    "import seaborn as sns"
   ]
  },
  {
   "cell_type": "markdown",
   "id": "4ddbcf27-a2fd-4047-8137-1bd39708fe20",
   "metadata": {},
   "source": [
    "## Stage 1: Data validation and Cleaning"
   ]
  },
  {
   "cell_type": "code",
   "execution_count": 12,
   "id": "81eae643-b542-4f28-95be-ccf94b95ed81",
   "metadata": {},
   "outputs": [],
   "source": [
    "listing_df = pd.read_csv(\"data/Listings.csv\", sep=\",\", encoding=\"latin1\", low_memory=False)"
   ]
  },
  {
   "cell_type": "code",
   "execution_count": 13,
   "id": "2104caf8-4139-44e0-bf67-dffa7a80f9d1",
   "metadata": {},
   "outputs": [
    {
     "name": "stdout",
     "output_type": "stream",
     "text": [
      "<class 'pandas.core.frame.DataFrame'>\n",
      "RangeIndex: 279712 entries, 0 to 279711\n",
      "Data columns (total 33 columns):\n",
      " #   Column                       Non-Null Count   Dtype  \n",
      "---  ------                       --------------   -----  \n",
      " 0   listing_id                   279712 non-null  int64  \n",
      " 1   name                         279537 non-null  object \n",
      " 2   host_id                      279712 non-null  int64  \n",
      " 3   host_since                   279547 non-null  object \n",
      " 4   host_location                278872 non-null  object \n",
      " 5   host_response_time           150930 non-null  object \n",
      " 6   host_response_rate           150930 non-null  float64\n",
      " 7   host_acceptance_rate         166625 non-null  float64\n",
      " 8   host_is_superhost            279547 non-null  object \n",
      " 9   host_total_listings_count    279547 non-null  float64\n",
      " 10  host_has_profile_pic         279547 non-null  object \n",
      " 11  host_identity_verified       279547 non-null  object \n",
      " 12  neighbourhood                279712 non-null  object \n",
      " 13  district                     37012 non-null   object \n",
      " 14  city                         279712 non-null  object \n",
      " 15  latitude                     279712 non-null  float64\n",
      " 16  longitude                    279712 non-null  float64\n",
      " 17  property_type                279712 non-null  object \n",
      " 18  room_type                    279712 non-null  object \n",
      " 19  accommodates                 279712 non-null  int64  \n",
      " 20  bedrooms                     250277 non-null  float64\n",
      " 21  amenities                    279712 non-null  object \n",
      " 22  price                        279712 non-null  int64  \n",
      " 23  minimum_nights               279712 non-null  int64  \n",
      " 24  maximum_nights               279712 non-null  int64  \n",
      " 25  review_scores_rating         188307 non-null  float64\n",
      " 26  review_scores_accuracy       187999 non-null  float64\n",
      " 27  review_scores_cleanliness    188047 non-null  float64\n",
      " 28  review_scores_checkin        187941 non-null  float64\n",
      " 29  review_scores_communication  188025 non-null  float64\n",
      " 30  review_scores_location       187937 non-null  float64\n",
      " 31  review_scores_value          187927 non-null  float64\n",
      " 32  instant_bookable             279712 non-null  object \n",
      "dtypes: float64(13), int64(6), object(14)\n",
      "memory usage: 70.4+ MB\n"
     ]
    }
   ],
   "source": [
    "listing_df.info()"
   ]
  },
  {
   "cell_type": "code",
   "execution_count": 14,
   "id": "15e68eaf-1c9b-4690-bd1e-7270bbaed362",
   "metadata": {},
   "outputs": [
    {
     "data": {
      "text/plain": [
       "(279712, 33)"
      ]
     },
     "execution_count": 14,
     "metadata": {},
     "output_type": "execute_result"
    }
   ],
   "source": [
    "listing_df.shape"
   ]
  },
  {
   "cell_type": "code",
   "execution_count": 15,
   "id": "d797da5b-0e15-4c58-aaaa-8b7d45588990",
   "metadata": {},
   "outputs": [
    {
     "data": {
      "text/html": [
       "<div>\n",
       "<style scoped>\n",
       "    .dataframe tbody tr th:only-of-type {\n",
       "        vertical-align: middle;\n",
       "    }\n",
       "\n",
       "    .dataframe tbody tr th {\n",
       "        vertical-align: top;\n",
       "    }\n",
       "\n",
       "    .dataframe thead th {\n",
       "        text-align: right;\n",
       "    }\n",
       "</style>\n",
       "<table border=\"1\" class=\"dataframe\">\n",
       "  <thead>\n",
       "    <tr style=\"text-align: right;\">\n",
       "      <th></th>\n",
       "      <th>listing_id</th>\n",
       "      <th>name</th>\n",
       "      <th>host_id</th>\n",
       "      <th>host_since</th>\n",
       "      <th>host_location</th>\n",
       "      <th>host_response_time</th>\n",
       "      <th>host_response_rate</th>\n",
       "      <th>host_acceptance_rate</th>\n",
       "      <th>host_is_superhost</th>\n",
       "      <th>host_total_listings_count</th>\n",
       "      <th>...</th>\n",
       "      <th>minimum_nights</th>\n",
       "      <th>maximum_nights</th>\n",
       "      <th>review_scores_rating</th>\n",
       "      <th>review_scores_accuracy</th>\n",
       "      <th>review_scores_cleanliness</th>\n",
       "      <th>review_scores_checkin</th>\n",
       "      <th>review_scores_communication</th>\n",
       "      <th>review_scores_location</th>\n",
       "      <th>review_scores_value</th>\n",
       "      <th>instant_bookable</th>\n",
       "    </tr>\n",
       "  </thead>\n",
       "  <tbody>\n",
       "    <tr>\n",
       "      <th>87192</th>\n",
       "      <td>39211485</td>\n",
       "      <td>Cozy sanitised studio with Wifi very close to ...</td>\n",
       "      <td>103058221</td>\n",
       "      <td>2016-11-08</td>\n",
       "      <td>New South Wales, Australia</td>\n",
       "      <td>within a day</td>\n",
       "      <td>1.00</td>\n",
       "      <td>1.0</td>\n",
       "      <td>f</td>\n",
       "      <td>1.0</td>\n",
       "      <td>...</td>\n",
       "      <td>3</td>\n",
       "      <td>1125</td>\n",
       "      <td>92.0</td>\n",
       "      <td>10.0</td>\n",
       "      <td>9.0</td>\n",
       "      <td>10.0</td>\n",
       "      <td>10.0</td>\n",
       "      <td>10.0</td>\n",
       "      <td>10.0</td>\n",
       "      <td>t</td>\n",
       "    </tr>\n",
       "    <tr>\n",
       "      <th>222709</th>\n",
       "      <td>45489901</td>\n",
       "      <td>Montmartre Ã¢â¬â Pigalle Area Unique 2BR Flat</td>\n",
       "      <td>40004498</td>\n",
       "      <td>2015-07-30</td>\n",
       "      <td>Paris, Ile-de-France, France</td>\n",
       "      <td>within a day</td>\n",
       "      <td>0.99</td>\n",
       "      <td>0.8</td>\n",
       "      <td>f</td>\n",
       "      <td>38.0</td>\n",
       "      <td>...</td>\n",
       "      <td>28</td>\n",
       "      <td>365</td>\n",
       "      <td>NaN</td>\n",
       "      <td>NaN</td>\n",
       "      <td>NaN</td>\n",
       "      <td>NaN</td>\n",
       "      <td>NaN</td>\n",
       "      <td>NaN</td>\n",
       "      <td>NaN</td>\n",
       "      <td>f</td>\n",
       "    </tr>\n",
       "    <tr>\n",
       "      <th>123464</th>\n",
       "      <td>9231341</td>\n",
       "      <td>BRIGHT AND HUGE ROOM - BED STY BK</td>\n",
       "      <td>14667282</td>\n",
       "      <td>2014-04-24</td>\n",
       "      <td>Paris, Ile-de-France, France</td>\n",
       "      <td>NaN</td>\n",
       "      <td>NaN</td>\n",
       "      <td>NaN</td>\n",
       "      <td>f</td>\n",
       "      <td>1.0</td>\n",
       "      <td>...</td>\n",
       "      <td>30</td>\n",
       "      <td>1125</td>\n",
       "      <td>NaN</td>\n",
       "      <td>NaN</td>\n",
       "      <td>NaN</td>\n",
       "      <td>NaN</td>\n",
       "      <td>NaN</td>\n",
       "      <td>NaN</td>\n",
       "      <td>NaN</td>\n",
       "      <td>f</td>\n",
       "    </tr>\n",
       "    <tr>\n",
       "      <th>148953</th>\n",
       "      <td>34364930</td>\n",
       "      <td>Giolitti Center Room acanto</td>\n",
       "      <td>195632120</td>\n",
       "      <td>2018-06-14</td>\n",
       "      <td>Le Rughe, Lazio, Italy</td>\n",
       "      <td>NaN</td>\n",
       "      <td>NaN</td>\n",
       "      <td>NaN</td>\n",
       "      <td>f</td>\n",
       "      <td>2.0</td>\n",
       "      <td>...</td>\n",
       "      <td>1</td>\n",
       "      <td>1125</td>\n",
       "      <td>100.0</td>\n",
       "      <td>10.0</td>\n",
       "      <td>10.0</td>\n",
       "      <td>10.0</td>\n",
       "      <td>10.0</td>\n",
       "      <td>10.0</td>\n",
       "      <td>10.0</td>\n",
       "      <td>f</td>\n",
       "    </tr>\n",
       "    <tr>\n",
       "      <th>229752</th>\n",
       "      <td>29526532</td>\n",
       "      <td>Paris Montparnasse Home (Dishwasher,Washer&amp;Dryer)</td>\n",
       "      <td>222275558</td>\n",
       "      <td>2018-10-23</td>\n",
       "      <td>Paris, Ile-de-France, France</td>\n",
       "      <td>NaN</td>\n",
       "      <td>NaN</td>\n",
       "      <td>1.0</td>\n",
       "      <td>f</td>\n",
       "      <td>0.0</td>\n",
       "      <td>...</td>\n",
       "      <td>5</td>\n",
       "      <td>30</td>\n",
       "      <td>75.0</td>\n",
       "      <td>9.0</td>\n",
       "      <td>8.0</td>\n",
       "      <td>10.0</td>\n",
       "      <td>9.0</td>\n",
       "      <td>10.0</td>\n",
       "      <td>8.0</td>\n",
       "      <td>t</td>\n",
       "    </tr>\n",
       "  </tbody>\n",
       "</table>\n",
       "<p>5 rows × 33 columns</p>\n",
       "</div>"
      ],
      "text/plain": [
       "        listing_id                                               name  \\\n",
       "87192     39211485  Cozy sanitised studio with Wifi very close to ...   \n",
       "222709    45489901   Montmartre Ã¢â¬â Pigalle Area Unique 2BR Flat   \n",
       "123464     9231341                  BRIGHT AND HUGE ROOM - BED STY BK   \n",
       "148953    34364930                        Giolitti Center Room acanto   \n",
       "229752    29526532  Paris Montparnasse Home (Dishwasher,Washer&Dryer)   \n",
       "\n",
       "          host_id  host_since                 host_location  \\\n",
       "87192   103058221  2016-11-08    New South Wales, Australia   \n",
       "222709   40004498  2015-07-30  Paris, Ile-de-France, France   \n",
       "123464   14667282  2014-04-24  Paris, Ile-de-France, France   \n",
       "148953  195632120  2018-06-14        Le Rughe, Lazio, Italy   \n",
       "229752  222275558  2018-10-23  Paris, Ile-de-France, France   \n",
       "\n",
       "       host_response_time  host_response_rate  host_acceptance_rate  \\\n",
       "87192        within a day                1.00                   1.0   \n",
       "222709       within a day                0.99                   0.8   \n",
       "123464                NaN                 NaN                   NaN   \n",
       "148953                NaN                 NaN                   NaN   \n",
       "229752                NaN                 NaN                   1.0   \n",
       "\n",
       "       host_is_superhost  host_total_listings_count  ... minimum_nights  \\\n",
       "87192                  f                        1.0  ...              3   \n",
       "222709                 f                       38.0  ...             28   \n",
       "123464                 f                        1.0  ...             30   \n",
       "148953                 f                        2.0  ...              1   \n",
       "229752                 f                        0.0  ...              5   \n",
       "\n",
       "       maximum_nights review_scores_rating review_scores_accuracy  \\\n",
       "87192            1125                 92.0                   10.0   \n",
       "222709            365                  NaN                    NaN   \n",
       "123464           1125                  NaN                    NaN   \n",
       "148953           1125                100.0                   10.0   \n",
       "229752             30                 75.0                    9.0   \n",
       "\n",
       "       review_scores_cleanliness  review_scores_checkin  \\\n",
       "87192                        9.0                   10.0   \n",
       "222709                       NaN                    NaN   \n",
       "123464                       NaN                    NaN   \n",
       "148953                      10.0                   10.0   \n",
       "229752                       8.0                   10.0   \n",
       "\n",
       "        review_scores_communication review_scores_location  \\\n",
       "87192                          10.0                   10.0   \n",
       "222709                          NaN                    NaN   \n",
       "123464                          NaN                    NaN   \n",
       "148953                         10.0                   10.0   \n",
       "229752                          9.0                   10.0   \n",
       "\n",
       "       review_scores_value  instant_bookable  \n",
       "87192                 10.0                 t  \n",
       "222709                 NaN                 f  \n",
       "123464                 NaN                 f  \n",
       "148953                10.0                 f  \n",
       "229752                 8.0                 t  \n",
       "\n",
       "[5 rows x 33 columns]"
      ]
     },
     "execution_count": 15,
     "metadata": {},
     "output_type": "execute_result"
    }
   ],
   "source": [
    "listing_df.sample(n=5)"
   ]
  },
  {
   "cell_type": "code",
   "execution_count": 16,
   "id": "8ae85cc6-8fb3-48c0-9f05-a0aee68ba063",
   "metadata": {},
   "outputs": [
    {
     "data": {
      "text/plain": [
       "listing_id                          0\n",
       "name                              175\n",
       "host_id                             0\n",
       "host_since                        165\n",
       "host_location                     840\n",
       "host_response_time             128782\n",
       "host_response_rate             128782\n",
       "host_acceptance_rate           113087\n",
       "host_is_superhost                 165\n",
       "host_total_listings_count         165\n",
       "host_has_profile_pic              165\n",
       "host_identity_verified            165\n",
       "neighbourhood                       0\n",
       "district                       242700\n",
       "city                                0\n",
       "latitude                            0\n",
       "longitude                           0\n",
       "property_type                       0\n",
       "room_type                           0\n",
       "accommodates                        0\n",
       "bedrooms                        29435\n",
       "amenities                           0\n",
       "price                               0\n",
       "minimum_nights                      0\n",
       "maximum_nights                      0\n",
       "review_scores_rating            91405\n",
       "review_scores_accuracy          91713\n",
       "review_scores_cleanliness       91665\n",
       "review_scores_checkin           91771\n",
       "review_scores_communication     91687\n",
       "review_scores_location          91775\n",
       "review_scores_value             91785\n",
       "instant_bookable                    0\n",
       "dtype: int64"
      ]
     },
     "execution_count": 16,
     "metadata": {},
     "output_type": "execute_result"
    }
   ],
   "source": [
    "listing_df.isna().sum()"
   ]
  },
  {
   "cell_type": "code",
   "execution_count": 23,
   "id": "a5dd8ff3-7315-45d7-9168-44c9d1f7082d",
   "metadata": {},
   "outputs": [
    {
     "data": {
      "text/plain": [
       "279712"
      ]
     },
     "execution_count": 23,
     "metadata": {},
     "output_type": "execute_result"
    }
   ],
   "source": [
    "len(listing_df[\"listing_id\"].unique())"
   ]
  },
  {
   "cell_type": "code",
   "execution_count": 24,
   "id": "dc5ff6b3-a88f-4d8f-9faa-e74f5b91319b",
   "metadata": {},
   "outputs": [
    {
     "data": {
      "text/plain": [
       "182024"
      ]
     },
     "execution_count": 24,
     "metadata": {},
     "output_type": "execute_result"
    }
   ],
   "source": [
    "len(listing_df[\"host_id\"].unique())"
   ]
  },
  {
   "cell_type": "code",
   "execution_count": null,
   "id": "f78fbbae-10a9-48d1-b092-66c70a00497b",
   "metadata": {},
   "outputs": [],
   "source": []
  }
 ],
 "metadata": {
  "kernelspec": {
   "display_name": "Python 3 (ipykernel)",
   "language": "python",
   "name": "python3"
  },
  "language_info": {
   "codemirror_mode": {
    "name": "ipython",
    "version": 3
   },
   "file_extension": ".py",
   "mimetype": "text/x-python",
   "name": "python",
   "nbconvert_exporter": "python",
   "pygments_lexer": "ipython3",
   "version": "3.13.5"
  }
 },
 "nbformat": 4,
 "nbformat_minor": 5
}
